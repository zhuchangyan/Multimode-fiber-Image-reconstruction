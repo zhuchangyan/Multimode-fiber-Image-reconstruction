{
  "nbformat": 4,
  "nbformat_minor": 0,
  "metadata": {
    "colab": {
      "name": "DenoisingAutoencoder2.ipynb",
      "provenance": [],
      "collapsed_sections": [],
      "include_colab_link": true
    },
    "kernelspec": {
      "name": "python3",
      "display_name": "Python 3"
    },
    "accelerator": "GPU"
  },
  "cells": [
    {
      "cell_type": "markdown",
      "metadata": {
        "id": "view-in-github",
        "colab_type": "text"
      },
      "source": [
        "<a href=\"https://colab.research.google.com/github/zhuchangyan/Multimode-fiber-Image-reconstruction/blob/master/Fail_mode%20mixing.ipynb\" target=\"_parent\"><img src=\"https://colab.research.google.com/assets/colab-badge.svg\" alt=\"Open In Colab\"/></a>"
      ]
    },
    {
      "cell_type": "markdown",
      "metadata": {
        "id": "8L31mZVoEPRV",
        "colab_type": "text"
      },
      "source": [
        "# Denosing Autoencoder\n",
        "这使用autoencoder写的去噪声代码，测试数据集为Mnist数据集。\n",
        "\n",
        "9月11日我在与yidong讨论的时候他建议把噪声的格式改一下，因为在真实的Multimode fiber里面不只是对光强的噪声，而是各种模式之间的混合，也就是Mode mixing.\n"
      ]
    },
    {
      "cell_type": "markdown",
      "metadata": {
        "id": "h8JierdzsHme",
        "colab_type": "text"
      },
      "source": [
        "10月1日把测试图片由mnist数据集改为了fashion mnist"
      ]
    },
    {
      "cell_type": "markdown",
      "metadata": {
        "id": "k8PuqQ15Sdyb",
        "colab_type": "text"
      },
      "source": [
        "10月7日将噪声改成Mode mixing，而后又把Mode mixing真正的改换为Intensity的mixing，而不是对intensity做平方。但是目前这个尝试没有成功。"
      ]
    },
    {
      "cell_type": "code",
      "metadata": {
        "id": "8gQyKa8V_n3a",
        "colab_type": "code",
        "outputId": "6138074d-8495-4a51-8a11-2a4c52756dd6",
        "colab": {
          "base_uri": "https://localhost:8080/",
          "height": 1000
        }
      },
      "source": [
        "import numpy as np\n",
        "import tensorflow as tf\n",
        "import matplotlib.pyplot as plt\n",
        "\n",
        "# 导入数据集\n",
        "from tensorflow.examples.tutorials.mnist import input_data\n",
        "\n",
        "mnist = input_data.read_data_sets('data/fashion', source_url='http://fashion-mnist.s3-website.eu-central-1.amazonaws.com/')\n",
        "\n",
        "\n",
        "#lrelu函数\n",
        "def lrelu(x, alpha=0.1):\n",
        "    return tf.maximum(alpha * x, x)\n",
        "\n",
        "#输入到网络的数据\n",
        "#图片28*28,color_channel是1\n",
        "inputs_ = tf.placeholder(tf.float32, [None, 28, 28, 1])\n",
        "#原始数据\n",
        "targets_ = tf.placeholder(tf.float32, [None, 28, 28, 1])\n",
        "\n",
        "\n",
        "### Encoder\n",
        "'''\n",
        "filters: 32个卷积核\n",
        "kernel_size: 卷积核大小\n",
        "strides: 长宽步长都是1\n",
        "padding: 边缘填充\n",
        "use_bias: 在卷积中添加偏置\n",
        "activation: 激活函数\n",
        "'''\n",
        "with tf.name_scope('en-convolutions'):\n",
        "    conv1 = tf.layers.conv2d(inputs_, filters=32,\n",
        "                             kernel_size=(3, 3),\n",
        "                             strides=(1, 1),\n",
        "                             padding='SAME',\n",
        "                             use_bias=True,\n",
        "                             activation=lrelu, )\n",
        "# 卷积时padding是SAME,所以仍然是28*28\n",
        "# now 28x28x32\n",
        "'''\n",
        "将第一卷积层的结果输入进来\n",
        "pool_size: 池化窗口\n",
        "strides: 步长\n",
        "'''\n",
        "with tf.name_scope('en-pooling'):\n",
        "    maxpool1 = tf.layers.max_pooling2d(conv1,\n",
        "                                       pool_size=(2, 2),\n",
        "                                       strides=(2, 2), )\n",
        "\n",
        "# 池化之后变成了14*14\n",
        "# now 14x14x32\n",
        "'''\n",
        "第二卷积层\n",
        "参数和第一卷积层相似\n",
        "'''\n",
        "with tf.name_scope('en-convolutions'):\n",
        "    conv2 = tf.layers.conv2d(maxpool1,\n",
        "                             filters=32,\n",
        "                             kernel_size=(3, 3),\n",
        "                             strides=(1, 1),\n",
        "                             padding='SAME',\n",
        "                             use_bias=True,\n",
        "                             activation=lrelu, )\n",
        "\n",
        "'''\n",
        "第二池化层\n",
        "和上面的池化层参数基本一样\n",
        "'''\n",
        "#  now 14x14x32\n",
        "with tf.name_scope('encoding'):\n",
        "    encoded = tf.layers.max_pooling2d(conv2,\n",
        "                                      pool_size=(2, 2),\n",
        "                                      strides=(2, 2), )\n",
        "#经过pooling层之后,大小是7x7x32,Encoding完成\n",
        "# now 7x7x32\n",
        "\n",
        "#编码之后进行解码\n",
        "### Decoder\n",
        "with tf.name_scope('decoder'):\n",
        "    conv3 = tf.layers.conv2d(encoded,\n",
        "                             filters=32,\n",
        "                             kernel_size=(3, 3),\n",
        "                             strides=(1, 1),\n",
        "                             padding='SAME',\n",
        "                             use_bias=True,\n",
        "                             activation=lrelu)\n",
        "    #  现在是7x7x32\n",
        "    #开始反卷积\n",
        "    upsamples1 = tf.layers.conv2d_transpose(conv3,\n",
        "                                            filters=32,\n",
        "                                            kernel_size=3,\n",
        "                                            padding='SAME',\n",
        "                                            strides=2,\n",
        "                                            name='upsample1')\n",
        "    # now 14x14x32\n",
        "    #反卷积\n",
        "    upsamples2 = tf.layers.conv2d_transpose(upsamples1,\n",
        "                                            filters=32,\n",
        "                                            kernel_size=3,\n",
        "                                            padding='SAME',\n",
        "                                            strides=2,\n",
        "                                            name='upsamples2')\n",
        "    # now 28x28x32\n",
        "    #卷积,filter映射成1\n",
        "    logits = tf.layers.conv2d(upsamples2,\n",
        "                              filters=1,\n",
        "                              kernel_size=(3, 3),\n",
        "                              strides=(1, 1),\n",
        "                              name='logits',\n",
        "                              padding='SAME',\n",
        "                              use_bias=True)\n",
        "    # 此时的数据是 28x28x1\n",
        "    # 通过sigmoid传递logits以获得重建图像\n",
        "    decoded = tf.sigmoid(logits, name='recon')\n",
        "\n",
        "# 定义损失函数和优化器\n",
        "loss = tf.nn.sigmoid_cross_entropy_with_logits(\n",
        "    logits=logits, labels=targets_)\n",
        "\n",
        "learning_rate = tf.placeholder(tf.float32)\n",
        "cost = tf.reduce_mean(loss)\n",
        "opt = tf.train.AdamOptimizer(learning_rate).minimize(cost)\n",
        "\n",
        "# 训练\n",
        "sess = tf.Session()\n",
        "\n",
        "saver = tf.train.Saver()\n",
        "loss = []\n",
        "valid_loss = []\n",
        "\n",
        "display_step = 1\n",
        "epochs = 2\n",
        "batch_size = 64\n",
        "lr = 1e-5\n",
        "sess.run(tf.global_variables_initializer())\n",
        "writer = tf.summary.FileWriter('./graphs', sess.graph)\n",
        "\n",
        "noise_factor = 1\n",
        "Matrix=np.random.normal(loc=0.0, scale=1.0, size=( 28, 28, 1))\n",
        "\n",
        "\n",
        "# special define\n",
        "N=28*28\n",
        "L=np.arange(N)\n",
        "np.random.shuffle(L)\n",
        "\n",
        "\n",
        "\n",
        "def Mode_mixing_batch(imgs,batch_size,L):\n",
        "  for i in range(batch_size):\n",
        "    imgs[i]=Mode_mixing(imgs[i],L)\n",
        "  return imgs\n",
        "\n",
        "\n",
        "def Mode_mixing(M,l):\n",
        "    m=M.ravel() \n",
        "    N=len(m)\n",
        "    a=np.arange(N)\n",
        "\n",
        "    for i in range(N):\n",
        "        a[i]=m[l[i]]\n",
        "        \n",
        "    s=a.reshape(M.shape)\n",
        "    return s\n",
        "\n",
        "for e in range(epochs):\n",
        "    total_batch = int(mnist.train.num_examples / batch_size)\n",
        "    for ibatch in range(total_batch):\n",
        "        batch_x = mnist.train.next_batch(batch_size)\n",
        "        batch_test_x = mnist.test.next_batch(batch_size)\n",
        "        \n",
        "        imgs_test = batch_test_x[0].reshape((-1, 28, 28, 1))\n",
        "        x_test_noisy =  noise_factor * Mode_mixing_batch(imgs_test,batch_size,L)\n",
        "        x_test_noisy = np.clip(x_test_noisy, 0., 1.)\n",
        "        \n",
        "        imgs = batch_x[0].reshape((-1, 28, 28, 1))\n",
        "        x_train_noisy = noise_factor * Mode_mixing_batch(imgs,batch_size,L)\n",
        "        x_train_noisy = np.clip(x_train_noisy, 0., 1.)\n",
        "        batch_cost, _ = sess.run([cost, opt], feed_dict={inputs_: x_train_noisy,\n",
        "                                                         targets_: imgs, learning_rate: lr})\n",
        "\n",
        "        batch_cost_test = sess.run(cost, feed_dict={inputs_: x_test_noisy,\n",
        "                                                    targets_: imgs_test})\n",
        "    if (e + 1) % display_step == 0:\n",
        "        print(\"Epoch: {}/{}...\".format(e + 1, epochs),\n",
        "              \"Training loss: {:.4f}\".format(batch_cost),\n",
        "              \"Validation loss: {:.4f}\".format(batch_cost_test))\n",
        "\n",
        "    loss.append(batch_cost)\n",
        "    valid_loss.append(batch_cost_test)\n",
        "    plt.plot(range(e + 1), loss, 'b', label='Training loss')\n",
        "    plt.plot(range(e + 1), valid_loss, 'r', label='Validation loss')\n",
        "    plt.title('Training and validation loss')\n",
        "    plt.xlabel('Epochs ', fontsize=16)\n",
        "    plt.ylabel('Loss', fontsize=16)\n",
        "    plt.legend()\n",
        "    plt.figure()\n",
        "    plt.show()\n",
        "    saver.save(sess, './encode_model/')\n",
        "\n",
        "batch_x = mnist.test.next_batch(10)\n",
        "imgs = batch_x[0].reshape((-1, 28, 28, 1))\n",
        "x_test_noisy = noise_factor * Mode_mixing_batch(imgs,10,L)\n",
        "x_test_noisy = np.clip(x_test_noisy, 0., 1.)\n",
        "recon_img = sess.run([decoded], feed_dict={inputs_: x_test_noisy})[0]\n",
        "plt.figure(figsize=(20, 4))\n",
        "plt.title('Reconstructed Images')\n",
        "print(\"Original Images\")\n",
        "for i in range(10):\n",
        "    plt.subplot(2, 10, i + 1)\n",
        "    plt.imshow(imgs[i, ..., 0], cmap='gray')\n",
        "plt.show()\n",
        "plt.figure(figsize=(20, 4))\n",
        "print(\"Noisy Images\")\n",
        "for i in range(10):\n",
        "    plt.subplot(2, 10, i + 1)\n",
        "    plt.imshow(x_test_noisy[i, ..., 0], cmap='gray')\n",
        "plt.show()\n",
        "plt.figure(figsize=(20, 4))\n",
        "print(\"Reconstruction of Noisy Images\")\n",
        "for i in range(10):\n",
        "    plt.subplot(2, 10, i + 1)\n",
        "    plt.imshow(recon_img[i, ..., 0], cmap='gray')\n",
        "plt.show()\n",
        "writer.close()\n",
        "sess.close()\n"
      ],
      "execution_count": 1,
      "outputs": [
        {
          "output_type": "stream",
          "text": [
            "WARNING:tensorflow:From <ipython-input-1-1ee21f123589>:8: read_data_sets (from tensorflow.contrib.learn.python.learn.datasets.mnist) is deprecated and will be removed in a future version.\n",
            "Instructions for updating:\n",
            "Please use alternatives such as official/mnist/dataset.py from tensorflow/models.\n",
            "WARNING:tensorflow:From /usr/local/lib/python3.6/dist-packages/tensorflow/contrib/learn/python/learn/datasets/mnist.py:260: maybe_download (from tensorflow.contrib.learn.python.learn.datasets.base) is deprecated and will be removed in a future version.\n",
            "Instructions for updating:\n",
            "Please write your own downloading logic.\n",
            "WARNING:tensorflow:From /usr/local/lib/python3.6/dist-packages/tensorflow/contrib/learn/python/learn/datasets/base.py:252: _internal_retry.<locals>.wrap.<locals>.wrapped_fn (from tensorflow.contrib.learn.python.learn.datasets.base) is deprecated and will be removed in a future version.\n",
            "Instructions for updating:\n",
            "Please use urllib or similar directly.\n",
            "Successfully downloaded train-images-idx3-ubyte.gz 26421880 bytes.\n",
            "WARNING:tensorflow:From /usr/local/lib/python3.6/dist-packages/tensorflow/contrib/learn/python/learn/datasets/mnist.py:262: extract_images (from tensorflow.contrib.learn.python.learn.datasets.mnist) is deprecated and will be removed in a future version.\n",
            "Instructions for updating:\n",
            "Please use tf.data to implement this functionality.\n",
            "Extracting data/fashion/train-images-idx3-ubyte.gz\n",
            "Successfully downloaded train-labels-idx1-ubyte.gz 29515 bytes.\n",
            "WARNING:tensorflow:From /usr/local/lib/python3.6/dist-packages/tensorflow/contrib/learn/python/learn/datasets/mnist.py:267: extract_labels (from tensorflow.contrib.learn.python.learn.datasets.mnist) is deprecated and will be removed in a future version.\n",
            "Instructions for updating:\n",
            "Please use tf.data to implement this functionality.\n",
            "Extracting data/fashion/train-labels-idx1-ubyte.gz\n",
            "Successfully downloaded t10k-images-idx3-ubyte.gz 4422102 bytes.\n",
            "Extracting data/fashion/t10k-images-idx3-ubyte.gz\n",
            "Successfully downloaded t10k-labels-idx1-ubyte.gz 5148 bytes.\n",
            "Extracting data/fashion/t10k-labels-idx1-ubyte.gz\n",
            "WARNING:tensorflow:From /usr/local/lib/python3.6/dist-packages/tensorflow/contrib/learn/python/learn/datasets/mnist.py:290: DataSet.__init__ (from tensorflow.contrib.learn.python.learn.datasets.mnist) is deprecated and will be removed in a future version.\n",
            "Instructions for updating:\n",
            "Please use alternatives such as official/mnist/dataset.py from tensorflow/models.\n",
            "WARNING:tensorflow:From <ipython-input-1-1ee21f123589>:37: conv2d (from tensorflow.python.layers.convolutional) is deprecated and will be removed in a future version.\n",
            "Instructions for updating:\n",
            "Use `tf.keras.layers.Conv2D` instead.\n",
            "WARNING:tensorflow:From /usr/local/lib/python3.6/dist-packages/tensorflow/python/ops/init_ops.py:1251: calling VarianceScaling.__init__ (from tensorflow.python.ops.init_ops) with dtype is deprecated and will be removed in a future version.\n",
            "Instructions for updating:\n",
            "Call initializer instance with the dtype argument instead of passing it to the constructor\n",
            "WARNING:tensorflow:Entity <bound method Conv.call of <tensorflow.python.layers.convolutional.Conv2D object at 0x7f7e4b7cc9b0>> could not be transformed and will be executed as-is. Please report this to the AutgoGraph team. When filing the bug, set the verbosity to 10 (on Linux, `export AUTOGRAPH_VERBOSITY=10`) and attach the full output. Cause: converting <bound method Conv.call of <tensorflow.python.layers.convolutional.Conv2D object at 0x7f7e4b7cc9b0>>: AssertionError: Bad argument number for Name: 3, expecting 4\n",
            "WARNING: Entity <bound method Conv.call of <tensorflow.python.layers.convolutional.Conv2D object at 0x7f7e4b7cc9b0>> could not be transformed and will be executed as-is. Please report this to the AutgoGraph team. When filing the bug, set the verbosity to 10 (on Linux, `export AUTOGRAPH_VERBOSITY=10`) and attach the full output. Cause: converting <bound method Conv.call of <tensorflow.python.layers.convolutional.Conv2D object at 0x7f7e4b7cc9b0>>: AssertionError: Bad argument number for Name: 3, expecting 4\n",
            "WARNING:tensorflow:From <ipython-input-1-1ee21f123589>:48: max_pooling2d (from tensorflow.python.layers.pooling) is deprecated and will be removed in a future version.\n",
            "Instructions for updating:\n",
            "Use keras.layers.MaxPooling2D instead.\n",
            "WARNING:tensorflow:Entity <bound method Pooling2D.call of <tensorflow.python.layers.pooling.MaxPooling2D object at 0x7f7e4b7cc8d0>> could not be transformed and will be executed as-is. Please report this to the AutgoGraph team. When filing the bug, set the verbosity to 10 (on Linux, `export AUTOGRAPH_VERBOSITY=10`) and attach the full output. Cause: converting <bound method Pooling2D.call of <tensorflow.python.layers.pooling.MaxPooling2D object at 0x7f7e4b7cc8d0>>: AssertionError: Bad argument number for Name: 3, expecting 4\n",
            "WARNING: Entity <bound method Pooling2D.call of <tensorflow.python.layers.pooling.MaxPooling2D object at 0x7f7e4b7cc8d0>> could not be transformed and will be executed as-is. Please report this to the AutgoGraph team. When filing the bug, set the verbosity to 10 (on Linux, `export AUTOGRAPH_VERBOSITY=10`) and attach the full output. Cause: converting <bound method Pooling2D.call of <tensorflow.python.layers.pooling.MaxPooling2D object at 0x7f7e4b7cc8d0>>: AssertionError: Bad argument number for Name: 3, expecting 4\n",
            "WARNING:tensorflow:Entity <bound method Conv.call of <tensorflow.python.layers.convolutional.Conv2D object at 0x7f7e4a720a58>> could not be transformed and will be executed as-is. Please report this to the AutgoGraph team. When filing the bug, set the verbosity to 10 (on Linux, `export AUTOGRAPH_VERBOSITY=10`) and attach the full output. Cause: converting <bound method Conv.call of <tensorflow.python.layers.convolutional.Conv2D object at 0x7f7e4a720a58>>: AssertionError: Bad argument number for Name: 3, expecting 4\n",
            "WARNING: Entity <bound method Conv.call of <tensorflow.python.layers.convolutional.Conv2D object at 0x7f7e4a720a58>> could not be transformed and will be executed as-is. Please report this to the AutgoGraph team. When filing the bug, set the verbosity to 10 (on Linux, `export AUTOGRAPH_VERBOSITY=10`) and attach the full output. Cause: converting <bound method Conv.call of <tensorflow.python.layers.convolutional.Conv2D object at 0x7f7e4a720a58>>: AssertionError: Bad argument number for Name: 3, expecting 4\n",
            "WARNING:tensorflow:Entity <bound method Pooling2D.call of <tensorflow.python.layers.pooling.MaxPooling2D object at 0x7f7e4a751438>> could not be transformed and will be executed as-is. Please report this to the AutgoGraph team. When filing the bug, set the verbosity to 10 (on Linux, `export AUTOGRAPH_VERBOSITY=10`) and attach the full output. Cause: converting <bound method Pooling2D.call of <tensorflow.python.layers.pooling.MaxPooling2D object at 0x7f7e4a751438>>: AssertionError: Bad argument number for Name: 3, expecting 4\n",
            "WARNING: Entity <bound method Pooling2D.call of <tensorflow.python.layers.pooling.MaxPooling2D object at 0x7f7e4a751438>> could not be transformed and will be executed as-is. Please report this to the AutgoGraph team. When filing the bug, set the verbosity to 10 (on Linux, `export AUTOGRAPH_VERBOSITY=10`) and attach the full output. Cause: converting <bound method Pooling2D.call of <tensorflow.python.layers.pooling.MaxPooling2D object at 0x7f7e4a751438>>: AssertionError: Bad argument number for Name: 3, expecting 4\n",
            "WARNING:tensorflow:Entity <bound method Conv.call of <tensorflow.python.layers.convolutional.Conv2D object at 0x7f7e4a6f0978>> could not be transformed and will be executed as-is. Please report this to the AutgoGraph team. When filing the bug, set the verbosity to 10 (on Linux, `export AUTOGRAPH_VERBOSITY=10`) and attach the full output. Cause: converting <bound method Conv.call of <tensorflow.python.layers.convolutional.Conv2D object at 0x7f7e4a6f0978>>: AssertionError: Bad argument number for Name: 3, expecting 4\n",
            "WARNING: Entity <bound method Conv.call of <tensorflow.python.layers.convolutional.Conv2D object at 0x7f7e4a6f0978>> could not be transformed and will be executed as-is. Please report this to the AutgoGraph team. When filing the bug, set the verbosity to 10 (on Linux, `export AUTOGRAPH_VERBOSITY=10`) and attach the full output. Cause: converting <bound method Conv.call of <tensorflow.python.layers.convolutional.Conv2D object at 0x7f7e4a6f0978>>: AssertionError: Bad argument number for Name: 3, expecting 4\n",
            "WARNING:tensorflow:From <ipython-input-1-1ee21f123589>:94: conv2d_transpose (from tensorflow.python.layers.convolutional) is deprecated and will be removed in a future version.\n",
            "Instructions for updating:\n",
            "Use `tf.keras.layers.Conv2DTranspose` instead.\n",
            "WARNING:tensorflow:Entity <bound method Conv2DTranspose.call of <tensorflow.python.layers.convolutional.Conv2DTranspose object at 0x7f7e4a6f0978>> could not be transformed and will be executed as-is. Please report this to the AutgoGraph team. When filing the bug, set the verbosity to 10 (on Linux, `export AUTOGRAPH_VERBOSITY=10`) and attach the full output. Cause: converting <bound method Conv2DTranspose.call of <tensorflow.python.layers.convolutional.Conv2DTranspose object at 0x7f7e4a6f0978>>: AttributeError: module 'gast' has no attribute 'Num'\n",
            "WARNING: Entity <bound method Conv2DTranspose.call of <tensorflow.python.layers.convolutional.Conv2DTranspose object at 0x7f7e4a6f0978>> could not be transformed and will be executed as-is. Please report this to the AutgoGraph team. When filing the bug, set the verbosity to 10 (on Linux, `export AUTOGRAPH_VERBOSITY=10`) and attach the full output. Cause: converting <bound method Conv2DTranspose.call of <tensorflow.python.layers.convolutional.Conv2DTranspose object at 0x7f7e4a6f0978>>: AttributeError: module 'gast' has no attribute 'Num'\n",
            "WARNING:tensorflow:Entity <bound method Conv2DTranspose.call of <tensorflow.python.layers.convolutional.Conv2DTranspose object at 0x7f7e4a6ecda0>> could not be transformed and will be executed as-is. Please report this to the AutgoGraph team. When filing the bug, set the verbosity to 10 (on Linux, `export AUTOGRAPH_VERBOSITY=10`) and attach the full output. Cause: converting <bound method Conv2DTranspose.call of <tensorflow.python.layers.convolutional.Conv2DTranspose object at 0x7f7e4a6ecda0>>: AttributeError: module 'gast' has no attribute 'Num'\n",
            "WARNING: Entity <bound method Conv2DTranspose.call of <tensorflow.python.layers.convolutional.Conv2DTranspose object at 0x7f7e4a6ecda0>> could not be transformed and will be executed as-is. Please report this to the AutgoGraph team. When filing the bug, set the verbosity to 10 (on Linux, `export AUTOGRAPH_VERBOSITY=10`) and attach the full output. Cause: converting <bound method Conv2DTranspose.call of <tensorflow.python.layers.convolutional.Conv2DTranspose object at 0x7f7e4a6ecda0>>: AttributeError: module 'gast' has no attribute 'Num'\n",
            "WARNING:tensorflow:Entity <bound method Conv.call of <tensorflow.python.layers.convolutional.Conv2D object at 0x7f7e4a753320>> could not be transformed and will be executed as-is. Please report this to the AutgoGraph team. When filing the bug, set the verbosity to 10 (on Linux, `export AUTOGRAPH_VERBOSITY=10`) and attach the full output. Cause: converting <bound method Conv.call of <tensorflow.python.layers.convolutional.Conv2D object at 0x7f7e4a753320>>: AssertionError: Bad argument number for Name: 3, expecting 4\n",
            "WARNING: Entity <bound method Conv.call of <tensorflow.python.layers.convolutional.Conv2D object at 0x7f7e4a753320>> could not be transformed and will be executed as-is. Please report this to the AutgoGraph team. When filing the bug, set the verbosity to 10 (on Linux, `export AUTOGRAPH_VERBOSITY=10`) and attach the full output. Cause: converting <bound method Conv.call of <tensorflow.python.layers.convolutional.Conv2D object at 0x7f7e4a753320>>: AssertionError: Bad argument number for Name: 3, expecting 4\n",
            "WARNING:tensorflow:From /usr/local/lib/python3.6/dist-packages/tensorflow/python/ops/nn_impl.py:180: add_dispatch_support.<locals>.wrapper (from tensorflow.python.ops.array_ops) is deprecated and will be removed in a future version.\n",
            "Instructions for updating:\n",
            "Use tf.where in 2.0, which has the same broadcast rule as np.where\n",
            "Epoch: 1/2... Training loss: 0.1322 Validation loss: 0.1363\n"
          ],
          "name": "stdout"
        },
        {
          "output_type": "display_data",
          "data": {
            "image/png": "[encoded data removed]",
            "text/plain": [
              "<Figure size 432x288 with 1 Axes>"
            ]
          },
          "metadata": {
            "tags": []
          }
        },
        {
          "output_type": "display_data",
          "data": {
            "text/plain": [
              "<Figure size 432x288 with 0 Axes>"
            ]
          },
          "metadata": {
            "tags": []
          }
        },
        {
          "output_type": "stream",
          "text": [
            "Epoch: 2/2... Training loss: 0.1140 Validation loss: 0.0748\n"
          ],
          "name": "stdout"
        },
        {
          "output_type": "display_data",
          "data": {
            "image/png": "[encoded data removed]",
            "text/plain": [
              "<Figure size 432x288 with 1 Axes>"
            ]
          },
          "metadata": {
            "tags": []
          }
        },
        {
          "output_type": "display_data",
          "data": {
            "text/plain": [
              "<Figure size 432x288 with 0 Axes>"
            ]
          },
          "metadata": {
            "tags": []
          }
        },
        {
          "output_type": "stream",
          "text": [
            "Original Images\n"
          ],
          "name": "stdout"
        },
        {
          "output_type": "display_data",
          "data": {
            "image/png": "[encoded data removed]",
            "text/plain": [
              "<Figure size 1440x288 with 10 Axes>"
            ]
          },
          "metadata": {
            "tags": []
          }
        },
        {
          "output_type": "stream",
          "text": [
            "Noisy Images\n"
          ],
          "name": "stdout"
        },
        {
          "output_type": "display_data",
          "data": {
            "image/png": "[encoded data removed]",
            "text/plain": [
              "<Figure size 1440x288 with 10 Axes>"
            ]
          },
          "metadata": {
            "tags": []
          }
        },
        {
          "output_type": "stream",
          "text": [
            "Reconstruction of Noisy Images\n"
          ],
          "name": "stdout"
        },
        {
          "output_type": "display_data",
          "data": {
            "image/png": "[encoded data removed]",
            "text/plain": [
              "<Figure size 1440x288 with 10 Axes>"
            ]
          },
          "metadata": {
            "tags": []
          }
        }
      ]
    }
  ]
}