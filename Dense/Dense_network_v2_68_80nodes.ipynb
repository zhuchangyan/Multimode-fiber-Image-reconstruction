{
  "nbformat": 4,
  "nbformat_minor": 0,
  "metadata": {
    "colab": {
      "name": "Dense_network_v2.ipynb",
      "provenance": [],
      "collapsed_sections": [],
      "mount_file_id": "1W3spBdoPkbXM8Ke-Dt6UDOY_9pWXKgev",
      "authorship_tag": "ABX9TyNxYcf31/ODw8CZXHh3mqtY",
      "include_colab_link": true
    },
    "kernelspec": {
      "name": "python3",
      "display_name": "Python 3"
    },
    "accelerator": "GPU"
  },
  "cells": [
    {
      "cell_type": "markdown",
      "metadata": {
        "id": "view-in-github",
        "colab_type": "text"
      },
      "source": [
        "<a href=\"https://colab.research.google.com/github/zhuchangyan/Multimode-fiber-Image-reconstruction/blob/master/Dense_network_v2_68*80nodes.ipynb\" target=\"_parent\"><img src=\"https://colab.research.google.com/assets/colab-badge.svg\" alt=\"Open In Colab\"/></a>"
      ]
    },
    {
      "cell_type": "markdown",
      "metadata": {
        "id": "3LHQx3j-5lMP",
        "colab_type": "text"
      },
      "source": [
        "2020/3/13 尝试了Dense autoencoder之后，效果一般，勉强能出数字1和9.因此决定尝试convolutional autoencoer\n",
        "\n",
        "2020/3/14 成功将ssim作为loss function.\n",
        "\n",
        "2020/3/14 利用新的ssim指标来尝试改变autoencoder结构,看看当结构趋向于CNN会有什么变化。\n",
        "\n",
        "2020/3/16 修改autoencoder结构，验证这种结构的作用。\n",
        "\n",
        "2020/3/23 Dense 效果这么好，我也来测试一下。\n",
        "\n",
        "引入24小时数据，测试网络结构的transfer learning性能。\n",
        "\n",
        "加入20epoch以上不再训练，并选取最优结果功能。\n",
        "\n",
        "2020/3/25 尝试更大size的图像。\n",
        "    \n"
      ]
    },
    {
      "cell_type": "code",
      "metadata": {
        "id": "tvKEI1QRZJTy",
        "colab_type": "code",
        "outputId": "d908fcd2-6cd4-4782-ab0b-c318475c5843",
        "colab": {
          "base_uri": "https://localhost:8080/",
          "height": 50
        }
      },
      "source": [
        "%tensorflow_version 1.x\n",
        "from keras.layers import Input, Dense , Dropout\n",
        "from keras.models import Model\n",
        "import matplotlib.pyplot as plt\n",
        "import pickle\n",
        "import numpy as np "
      ],
      "execution_count": 1,
      "outputs": [
        {
          "output_type": "stream",
          "text": [
            "TensorFlow 1.x selected.\n"
          ],
          "name": "stdout"
        },
        {
          "output_type": "stream",
          "text": [
            "Using TensorFlow backend.\n"
          ],
          "name": "stderr"
        }
      ]
    },
    {
      "cell_type": "code",
      "metadata": {
        "id": "L1DkPMCkhH28",
        "colab_type": "code",
        "outputId": "25373f6e-6c6a-44ad-87c3-9d2a1448975b",
        "colab": {
          "base_uri": "https://localhost:8080/",
          "height": 34
        }
      },
      "source": [
        "cd /content/drive/My Drive/Colab Notebooks/MMF data/\n"
      ],
      "execution_count": 2,
      "outputs": [
        {
          "output_type": "stream",
          "text": [
            "/content/drive/My Drive/Colab Notebooks/MMF data\n"
          ],
          "name": "stdout"
        }
      ]
    },
    {
      "cell_type": "code",
      "metadata": {
        "id": "oV6_TG2vhXDC",
        "colab_type": "code",
        "outputId": "4614ee3a-12f2-4494-c8fe-85d8761c00c3",
        "colab": {
          "base_uri": "https://localhost:8080/",
          "height": 34
        }
      },
      "source": [
        "cd 24hours_Mix_datasets/24hours_img/"
      ],
      "execution_count": 3,
      "outputs": [
        {
          "output_type": "stream",
          "text": [
            "/content/drive/My Drive/Colab Notebooks/MMF data/24hours_Mix_datasets/24hours_img\n"
          ],
          "name": "stdout"
        }
      ]
    },
    {
      "cell_type": "code",
      "metadata": {
        "id": "OMRVN2jXhVLk",
        "colab_type": "code",
        "colab": {}
      },
      "source": [
        "with open('main_24hours_v2_80000_run2_big.dat','rb') as f:\n",
        "  imgs_all = pickle.load(f)\n",
        "\n",
        "with open('main_24hours_v2_80000_run2_SLM.dat','rb') as f:\n",
        "  origins_all = pickle.load(f)\n",
        "\n",
        "with open('main_24hours_v2_80000_run2_Records.dat','rb') as f:\n",
        "  records = pickle.load(f)"
      ],
      "execution_count": 0,
      "outputs": []
    },
    {
      "cell_type": "code",
      "metadata": {
        "id": "sxngH3NnwxtA",
        "colab_type": "code",
        "outputId": "9b69e3ef-741c-4eca-db05-1fc535c7a3d0",
        "colab": {
          "base_uri": "https://localhost:8080/",
          "height": 34
        }
      },
      "source": [
        "np.shape(imgs_all)"
      ],
      "execution_count": 5,
      "outputs": [
        {
          "output_type": "execute_result",
          "data": {
            "text/plain": [
              "(80000, 64, 80)"
            ]
          },
          "metadata": {
            "tags": []
          },
          "execution_count": 5
        }
      ]
    },
    {
      "cell_type": "code",
      "metadata": {
        "id": "-JmV8rgIvRHK",
        "colab_type": "code",
        "colab": {}
      },
      "source": [
        "#convert records file into a array\n",
        "N = [0]\n",
        "for i in records:\n",
        "  if i == 'Start point' or i == 'end point':\n",
        "    pass\n",
        "  else:\n",
        "    N.append(records[i])"
      ],
      "execution_count": 0,
      "outputs": []
    },
    {
      "cell_type": "code",
      "metadata": {
        "id": "FFPJ8YW8vTwh",
        "colab_type": "code",
        "colab": {}
      },
      "source": [
        "mnist_imgs = []\n",
        "mnist_origins = []\n",
        "\n",
        "#选取其中的mnist图片，如果要选择fashion_mnist，那么改为 i%2 == 0即可。\n",
        "#N_12, N_15代表选取的是12 - 15 hours的图片。\n",
        "for i in range(N[0], N[3]):\n",
        "  if i % 2 == 1:\n",
        "    mnist_imgs.append(imgs_all[i])\n",
        "    mnist_origins.append(origins_all[i])\n"
      ],
      "execution_count": 0,
      "outputs": []
    },
    {
      "cell_type": "code",
      "metadata": {
        "id": "niCSquPviYeZ",
        "colab_type": "code",
        "colab": {}
      },
      "source": [
        "# for i in range(10000):\n",
        "#   imgs[i] = imgs[i].flatten()\n",
        "#   origins[i] = origins[i].flatten()"
      ],
      "execution_count": 0,
      "outputs": []
    },
    {
      "cell_type": "code",
      "metadata": {
        "id": "9TONdZhkvbOH",
        "colab_type": "code",
        "outputId": "e098287a-cccd-4488-d6bd-4dc777c1bc80",
        "colab": {
          "base_uri": "https://localhost:8080/",
          "height": 34
        }
      },
      "source": [
        "N_input = len(mnist_imgs)\n",
        "N_train = int(0.8* N_input)\n",
        "N_test = N_input - N_train\n",
        "print('共有{}张图片，其中{}张为训练图片，{}张为测试图片'.format(N_input, N_train, N_test))"
      ],
      "execution_count": 34,
      "outputs": [
        {
          "output_type": "stream",
          "text": [
            "共有4808张图片，其中3846张为训练图片，962张为测试图片\n"
          ],
          "name": "stdout"
        }
      ]
    },
    {
      "cell_type": "code",
      "metadata": {
        "id": "GYWv79mykTK7",
        "colab_type": "code",
        "colab": {}
      },
      "source": [
        "imgs = np.array(mnist_imgs).astype(float)   \n",
        "origins = np.array(mnist_origins).astype(float)"
      ],
      "execution_count": 0,
      "outputs": []
    },
    {
      "cell_type": "code",
      "metadata": {
        "id": "vaX1_swsvh6d",
        "colab_type": "code",
        "colab": {}
      },
      "source": [
        "def next_batch(batch_size, data_input, data_output):\n",
        "    '''\n",
        "    Return a total of `batch_size` random samples \n",
        "    '''\n",
        "    idx = np.arange(0 , len(data_input))\n",
        "    np.random.shuffle(idx)\n",
        "    idx = idx[:batch_size]\n",
        "    data_shuffle_input = [data_input[ i] for i in idx]\n",
        "    data_shuffle_output = [data_output[ i] for i in idx]\n",
        "    return np.asarray(data_shuffle_input) , np.asarray(data_shuffle_output)\n"
      ],
      "execution_count": 0,
      "outputs": []
    },
    {
      "cell_type": "code",
      "metadata": {
        "id": "2-mbE07kvm9M",
        "colab_type": "code",
        "colab": {}
      },
      "source": [
        "# shuffle input datasets\n",
        "imgs, origins = next_batch(N_input,imgs, origins)\n",
        "\n",
        "train_imgs = imgs[0:N_train].reshape(-1,64,80,1)\n",
        "train_origins = origins[0:N_train].reshape(-1,28,28,1)\n",
        "test_imgs = imgs[N_train:N_input].reshape(-1,64,80,1)\n",
        "test_origins = origins[N_train:N_input].reshape(-1,28,28,1)\n",
        "\n",
        "for i in range(N_train):\n",
        "  train_imgs[i] = train_imgs[i]/256.0\n",
        "  train_origins[i] = train_origins[i]/256.0\n",
        "\n",
        "for i in range(N_test):\n",
        "  test_imgs[i] = test_imgs[i]/256.0\n",
        "  test_origins[i] = test_origins[i]/256.0\n"
      ],
      "execution_count": 0,
      "outputs": []
    },
    {
      "cell_type": "markdown",
      "metadata": {
        "id": "wRpdC8JYsFxr",
        "colab_type": "text"
      },
      "source": [
        "Set up neural network"
      ]
    },
    {
      "cell_type": "code",
      "metadata": {
        "id": "fUXk9KL678NU",
        "colab_type": "code",
        "colab": {}
      },
      "source": [
        "from keras.layers import Input,  Conv2D, MaxPooling2D, UpSampling2D , Flatten , Reshape , Dense ,Dropout\n",
        "from keras.models import Model\n",
        "from keras import backend as K\n",
        "from keras.activations import sigmoid"
      ],
      "execution_count": 0,
      "outputs": []
    },
    {
      "cell_type": "markdown",
      "metadata": {
        "id": "iq4FnUSrfkmw",
        "colab_type": "text"
      },
      "source": [
        "我把原来的autoencoder结构用keras来重写了一次，基本结构是一样的。"
      ]
    },
    {
      "cell_type": "code",
      "metadata": {
        "id": "Z0DqfCsmS3zQ",
        "colab_type": "code",
        "colab": {}
      },
      "source": [
        "input_img = Input(shape=(64, 80, 1))  # adapt this if using `channels_first` image data format\n",
        "\n",
        "x = Flatten()(input_img)\n",
        "x = Dense(64*80, activation = 'sigmoid')(x)\n",
        "x = Dropout(0.2)(x)\n",
        "x = Dense(784, activation='sigmoid')(x)\n",
        "output = Reshape((28,28,1))(x)\n",
        "\n",
        "autoencoder = Model(input_img, output)"
      ],
      "execution_count": 0,
      "outputs": []
    },
    {
      "cell_type": "code",
      "metadata": {
        "id": "BEOYKfzvqrWG",
        "colab_type": "code",
        "colab": {
          "base_uri": "https://localhost:8080/",
          "height": 353
        },
        "outputId": "740da00b-a1e0-4850-928c-fb73ec432c32"
      },
      "source": [
        "autoencoder.summary()"
      ],
      "execution_count": 198,
      "outputs": [
        {
          "output_type": "stream",
          "text": [
            "Model: \"model_11\"\n",
            "_________________________________________________________________\n",
            "Layer (type)                 Output Shape              Param #   \n",
            "=================================================================\n",
            "input_11 (InputLayer)        (None, 64, 80, 1)         0         \n",
            "_________________________________________________________________\n",
            "flatten_11 (Flatten)         (None, 5120)              0         \n",
            "_________________________________________________________________\n",
            "dense_33 (Dense)             (None, 5120)              26219520  \n",
            "_________________________________________________________________\n",
            "dropout_23 (Dropout)         (None, 5120)              0         \n",
            "_________________________________________________________________\n",
            "dense_34 (Dense)             (None, 784)               4014864   \n",
            "_________________________________________________________________\n",
            "reshape_11 (Reshape)         (None, 28, 28, 1)         0         \n",
            "=================================================================\n",
            "Total params: 30,234,384\n",
            "Trainable params: 30,234,384\n",
            "Non-trainable params: 0\n",
            "_________________________________________________________________\n"
          ],
          "name": "stdout"
        }
      ]
    },
    {
      "cell_type": "code",
      "metadata": {
        "id": "NVl35Hd1ZX0k",
        "colab_type": "code",
        "colab": {}
      },
      "source": [
        "#  Back up for the network\n",
        "# input_img = Input(shape=(28, 28, 1))  # adapt this if using `channels_first` image data format\n",
        "\n",
        "# x = Conv2D(128, (3, 3), activation='relu', padding='same')(input_img)\n",
        "# x = MaxPooling2D((2, 2), padding='same')(x)\n",
        "# x = Conv2D(64, (3, 3), activation='relu', padding='same')(x)\n",
        "# x = MaxPooling2D((2, 2), padding='same')(x)\n",
        "# x = Conv2D(32, (3, 3), activation='relu', padding='same')(x)\n",
        "# encoded = MaxPooling2D((2, 2), padding='same')(x)\n",
        "\n",
        "# latent_space = Flatten()(encoded)\n",
        "# latent_space = Dense(10)(latent_space)\n",
        "# latent_space = Dense(4*4*32)(latent_space)\n",
        "# latent_space = Reshape((4,4,32))(latent_space)\n",
        "\n",
        "# x = Conv2D(32, (3, 3), activation='relu', padding='same')(latent_space)\n",
        "# x = UpSampling2D((2, 2))(x)\n",
        "# x = Conv2D(64, (3, 3), activation='relu', padding='same')(x)\n",
        "# x = UpSampling2D((2, 2))(x)\n",
        "# x = Conv2D(128, (3, 3), activation='relu')(x)\n",
        "# x = UpSampling2D((2, 2))(x)\n",
        "# decoded = Conv2D(1, (3, 3), activation='sigmoid', padding='same')(x)\n",
        "\n",
        "\n",
        "# autoencoder = Model(input_img, decoded)"
      ],
      "execution_count": 0,
      "outputs": []
    },
    {
      "cell_type": "markdown",
      "metadata": {
        "id": "AIyBAqsYfX6S",
        "colab_type": "text"
      },
      "source": [
        "**This is the part for SSIM loss function**"
      ]
    },
    {
      "cell_type": "code",
      "metadata": {
        "id": "roEie-vE16oA",
        "colab_type": "code",
        "colab": {}
      },
      "source": [
        "import tensorflow as tf\n",
        "import keras\n",
        "\n",
        "def ssim_loss(y_true, y_pred):\n",
        "  return 1.0-tf.reduce_mean(tf.image.ssim(y_true, y_pred, 2.0))\n"
      ],
      "execution_count": 0,
      "outputs": []
    },
    {
      "cell_type": "code",
      "metadata": {
        "id": "j8YKxSPgaii8",
        "colab_type": "code",
        "colab": {}
      },
      "source": [
        "autoencoder.compile(optimizer = 'adam', loss = ssim_loss , metrics = [ssim_loss, 'accuracy'])\n",
        "#autoencoder.compile(optimizer = 'adam', loss = 'binary_crossentropy' , metrics = [ssim_loss, 'accuracy'])\n",
        "#autoencoder.compile(optimizer = 'adam', loss = 'mean_squared_error' , metrics = [ssim_loss, 'accuracy'])"
      ],
      "execution_count": 0,
      "outputs": []
    },
    {
      "cell_type": "code",
      "metadata": {
        "id": "821aN5nyavaL",
        "colab_type": "code",
        "colab": {
          "base_uri": "https://localhost:8080/",
          "height": 50
        },
        "outputId": "13eb2662-a3fd-48af-ca92-7b11b3f2756d"
      },
      "source": [
        "print (train_imgs.shape)\n",
        "print (test_imgs.shape)"
      ],
      "execution_count": 202,
      "outputs": [
        {
          "output_type": "stream",
          "text": [
            "(3846, 64, 80, 1)\n",
            "(962, 64, 80, 1)\n"
          ],
          "name": "stdout"
        }
      ]
    },
    {
      "cell_type": "code",
      "metadata": {
        "id": "tGJBUo8z3SVt",
        "colab_type": "code",
        "colab": {}
      },
      "source": [
        "from keras.callbacks import EarlyStopping, ModelCheckpoint\n",
        "\n",
        "# Set callback functions to early stop training and save the best model so far\n",
        "callbacks = [EarlyStopping(monitor='val_loss', patience=20),     #patience represented epochs waited.\n",
        "         ModelCheckpoint(filepath='best_model.h5', monitor='val_loss', save_best_only=True)]"
      ],
      "execution_count": 0,
      "outputs": []
    },
    {
      "cell_type": "code",
      "metadata": {
        "id": "rB-AfZbCbAY7",
        "colab_type": "code",
        "colab": {
          "base_uri": "https://localhost:8080/",
          "height": 1000
        },
        "outputId": "5aebc10e-c6c2-4e5f-b893-61eec5876cc4"
      },
      "source": [
        "history = autoencoder.fit(train_imgs, train_origins,\n",
        "                epochs=500,\n",
        "                batch_size=32,\n",
        "                callbacks=callbacks, # Early stopping\n",
        "                shuffle=True,\n",
        "                validation_data=(test_imgs, test_origins))"
      ],
      "execution_count": 204,
      "outputs": [
        {
          "output_type": "stream",
          "text": [
            "Train on 3846 samples, validate on 962 samples\n",
            "Epoch 1/500\n",
            "3846/3846 [==============================] - 6s 2ms/step - loss: 0.8219 - ssim_loss: 0.8219 - acc: 0.7265 - val_loss: 0.8132 - val_ssim_loss: 0.8132 - val_acc: 0.7385\n",
            "Epoch 2/500\n",
            "3846/3846 [==============================] - 3s 872us/step - loss: 0.8147 - ssim_loss: 0.8147 - acc: 0.7379 - val_loss: 0.8075 - val_ssim_loss: 0.8075 - val_acc: 0.7359\n",
            "Epoch 3/500\n",
            "3846/3846 [==============================] - 3s 882us/step - loss: 0.8032 - ssim_loss: 0.8032 - acc: 0.7430 - val_loss: 0.7905 - val_ssim_loss: 0.7905 - val_acc: 0.7455\n",
            "Epoch 4/500\n",
            "3846/3846 [==============================] - 3s 880us/step - loss: 0.7770 - ssim_loss: 0.7770 - acc: 0.7515 - val_loss: 0.7395 - val_ssim_loss: 0.7395 - val_acc: 0.7568\n",
            "Epoch 5/500\n",
            "3846/3846 [==============================] - 3s 893us/step - loss: 0.6564 - ssim_loss: 0.6564 - acc: 0.7733 - val_loss: 0.5922 - val_ssim_loss: 0.5922 - val_acc: 0.7787\n",
            "Epoch 6/500\n",
            "3846/3846 [==============================] - 3s 888us/step - loss: 0.5637 - ssim_loss: 0.5637 - acc: 0.7827 - val_loss: 0.5623 - val_ssim_loss: 0.5623 - val_acc: 0.7883\n",
            "Epoch 7/500\n",
            "3846/3846 [==============================] - 3s 884us/step - loss: 0.5216 - ssim_loss: 0.5216 - acc: 0.7868 - val_loss: 0.5071 - val_ssim_loss: 0.5071 - val_acc: 0.7869\n",
            "Epoch 8/500\n",
            "3846/3846 [==============================] - 3s 899us/step - loss: 0.4916 - ssim_loss: 0.4916 - acc: 0.7889 - val_loss: 0.4954 - val_ssim_loss: 0.4954 - val_acc: 0.7892\n",
            "Epoch 9/500\n",
            "3846/3846 [==============================] - 4s 912us/step - loss: 0.4711 - ssim_loss: 0.4711 - acc: 0.7905 - val_loss: 0.4891 - val_ssim_loss: 0.4891 - val_acc: 0.7893\n",
            "Epoch 10/500\n",
            "3846/3846 [==============================] - 3s 893us/step - loss: 0.4530 - ssim_loss: 0.4530 - acc: 0.7918 - val_loss: 0.4710 - val_ssim_loss: 0.4710 - val_acc: 0.7910\n",
            "Epoch 11/500\n",
            "3846/3846 [==============================] - 3s 892us/step - loss: 0.4407 - ssim_loss: 0.4407 - acc: 0.7928 - val_loss: 0.4576 - val_ssim_loss: 0.4576 - val_acc: 0.7928\n",
            "Epoch 12/500\n",
            "3846/3846 [==============================] - 3s 903us/step - loss: 0.4290 - ssim_loss: 0.4290 - acc: 0.7936 - val_loss: 0.4503 - val_ssim_loss: 0.4503 - val_acc: 0.7908\n",
            "Epoch 13/500\n",
            "3846/3846 [==============================] - 3s 884us/step - loss: 0.4197 - ssim_loss: 0.4197 - acc: 0.7943 - val_loss: 0.4342 - val_ssim_loss: 0.4342 - val_acc: 0.7928\n",
            "Epoch 14/500\n",
            "3846/3846 [==============================] - 3s 894us/step - loss: 0.4104 - ssim_loss: 0.4104 - acc: 0.7951 - val_loss: 0.4265 - val_ssim_loss: 0.4265 - val_acc: 0.7926\n",
            "Epoch 15/500\n",
            "3846/3846 [==============================] - 3s 879us/step - loss: 0.4018 - ssim_loss: 0.4018 - acc: 0.7957 - val_loss: 0.4213 - val_ssim_loss: 0.4213 - val_acc: 0.7954\n",
            "Epoch 16/500\n",
            "3846/3846 [==============================] - 3s 891us/step - loss: 0.3931 - ssim_loss: 0.3931 - acc: 0.7963 - val_loss: 0.4198 - val_ssim_loss: 0.4198 - val_acc: 0.7948\n",
            "Epoch 17/500\n",
            "3846/3846 [==============================] - 3s 881us/step - loss: 0.3861 - ssim_loss: 0.3861 - acc: 0.7970 - val_loss: 0.4145 - val_ssim_loss: 0.4145 - val_acc: 0.7946\n",
            "Epoch 18/500\n",
            "3846/3846 [==============================] - 3s 898us/step - loss: 0.3775 - ssim_loss: 0.3775 - acc: 0.7975 - val_loss: 0.4239 - val_ssim_loss: 0.4239 - val_acc: 0.7999\n",
            "Epoch 19/500\n",
            "3846/3846 [==============================] - 3s 900us/step - loss: 0.3706 - ssim_loss: 0.3706 - acc: 0.7982 - val_loss: 0.3959 - val_ssim_loss: 0.3959 - val_acc: 0.7962\n",
            "Epoch 20/500\n",
            "3846/3846 [==============================] - 3s 880us/step - loss: 0.3630 - ssim_loss: 0.3630 - acc: 0.7986 - val_loss: 0.3905 - val_ssim_loss: 0.3905 - val_acc: 0.7960\n",
            "Epoch 21/500\n",
            "3846/3846 [==============================] - 3s 885us/step - loss: 0.3593 - ssim_loss: 0.3593 - acc: 0.7986 - val_loss: 0.3911 - val_ssim_loss: 0.3911 - val_acc: 0.7985\n",
            "Epoch 22/500\n",
            "3846/3846 [==============================] - 3s 892us/step - loss: 0.3545 - ssim_loss: 0.3545 - acc: 0.7992 - val_loss: 0.3878 - val_ssim_loss: 0.3878 - val_acc: 0.7966\n",
            "Epoch 23/500\n",
            "3846/3846 [==============================] - 3s 896us/step - loss: 0.3485 - ssim_loss: 0.3485 - acc: 0.7994 - val_loss: 0.3839 - val_ssim_loss: 0.3839 - val_acc: 0.7979\n",
            "Epoch 24/500\n",
            "3846/3846 [==============================] - 3s 893us/step - loss: 0.3421 - ssim_loss: 0.3421 - acc: 0.7999 - val_loss: 0.3805 - val_ssim_loss: 0.3805 - val_acc: 0.7966\n",
            "Epoch 25/500\n",
            "3846/3846 [==============================] - 3s 889us/step - loss: 0.3366 - ssim_loss: 0.3366 - acc: 0.8001 - val_loss: 0.3789 - val_ssim_loss: 0.3789 - val_acc: 0.7984\n",
            "Epoch 26/500\n",
            "3846/3846 [==============================] - 3s 889us/step - loss: 0.3309 - ssim_loss: 0.3309 - acc: 0.8003 - val_loss: 0.3732 - val_ssim_loss: 0.3732 - val_acc: 0.7983\n",
            "Epoch 27/500\n",
            "3846/3846 [==============================] - 3s 901us/step - loss: 0.3297 - ssim_loss: 0.3297 - acc: 0.8003 - val_loss: 0.3757 - val_ssim_loss: 0.3757 - val_acc: 0.7999\n",
            "Epoch 28/500\n",
            "3846/3846 [==============================] - 3s 893us/step - loss: 0.3245 - ssim_loss: 0.3245 - acc: 0.8007 - val_loss: 0.3652 - val_ssim_loss: 0.3652 - val_acc: 0.7987\n",
            "Epoch 29/500\n",
            "3846/3846 [==============================] - 3s 885us/step - loss: 0.3192 - ssim_loss: 0.3192 - acc: 0.8010 - val_loss: 0.3592 - val_ssim_loss: 0.3592 - val_acc: 0.7985\n",
            "Epoch 30/500\n",
            "3846/3846 [==============================] - 3s 894us/step - loss: 0.3158 - ssim_loss: 0.3158 - acc: 0.8011 - val_loss: 0.3667 - val_ssim_loss: 0.3667 - val_acc: 0.7984\n",
            "Epoch 31/500\n",
            "3846/3846 [==============================] - 3s 876us/step - loss: 0.3102 - ssim_loss: 0.3102 - acc: 0.8014 - val_loss: 0.3587 - val_ssim_loss: 0.3587 - val_acc: 0.7996\n",
            "Epoch 32/500\n",
            "3846/3846 [==============================] - 3s 894us/step - loss: 0.3076 - ssim_loss: 0.3076 - acc: 0.8014 - val_loss: 0.3559 - val_ssim_loss: 0.3559 - val_acc: 0.7995\n",
            "Epoch 33/500\n",
            "3846/3846 [==============================] - 3s 890us/step - loss: 0.3049 - ssim_loss: 0.3049 - acc: 0.8017 - val_loss: 0.3505 - val_ssim_loss: 0.3505 - val_acc: 0.7998\n",
            "Epoch 34/500\n",
            "3846/3846 [==============================] - 3s 894us/step - loss: 0.3001 - ssim_loss: 0.3001 - acc: 0.8019 - val_loss: 0.3547 - val_ssim_loss: 0.3547 - val_acc: 0.7993\n",
            "Epoch 35/500\n",
            "3846/3846 [==============================] - 3s 884us/step - loss: 0.2983 - ssim_loss: 0.2983 - acc: 0.8020 - val_loss: 0.3503 - val_ssim_loss: 0.3503 - val_acc: 0.8005\n",
            "Epoch 36/500\n",
            "3846/3846 [==============================] - 3s 892us/step - loss: 0.2942 - ssim_loss: 0.2942 - acc: 0.8023 - val_loss: 0.3520 - val_ssim_loss: 0.3520 - val_acc: 0.7998\n",
            "Epoch 37/500\n",
            "3846/3846 [==============================] - 3s 884us/step - loss: 0.2915 - ssim_loss: 0.2915 - acc: 0.8023 - val_loss: 0.3473 - val_ssim_loss: 0.3473 - val_acc: 0.7992\n",
            "Epoch 38/500\n",
            "3846/3846 [==============================] - 3s 893us/step - loss: 0.2885 - ssim_loss: 0.2885 - acc: 0.8024 - val_loss: 0.3437 - val_ssim_loss: 0.3437 - val_acc: 0.8008\n",
            "Epoch 39/500\n",
            "3846/3846 [==============================] - 3s 891us/step - loss: 0.2852 - ssim_loss: 0.2852 - acc: 0.8026 - val_loss: 0.3431 - val_ssim_loss: 0.3431 - val_acc: 0.8001\n",
            "Epoch 40/500\n",
            "3846/3846 [==============================] - 3s 887us/step - loss: 0.2825 - ssim_loss: 0.2825 - acc: 0.8027 - val_loss: 0.3394 - val_ssim_loss: 0.3394 - val_acc: 0.7995\n",
            "Epoch 41/500\n",
            "3846/3846 [==============================] - 3s 898us/step - loss: 0.2774 - ssim_loss: 0.2774 - acc: 0.8030 - val_loss: 0.3376 - val_ssim_loss: 0.3376 - val_acc: 0.8008\n",
            "Epoch 42/500\n",
            "3846/3846 [==============================] - 3s 886us/step - loss: 0.2764 - ssim_loss: 0.2764 - acc: 0.8031 - val_loss: 0.3372 - val_ssim_loss: 0.3372 - val_acc: 0.7994\n",
            "Epoch 43/500\n",
            "3846/3846 [==============================] - 3s 878us/step - loss: 0.2718 - ssim_loss: 0.2718 - acc: 0.8032 - val_loss: 0.3422 - val_ssim_loss: 0.3422 - val_acc: 0.8000\n",
            "Epoch 44/500\n",
            "3846/3846 [==============================] - 3s 878us/step - loss: 0.2702 - ssim_loss: 0.2702 - acc: 0.8033 - val_loss: 0.3403 - val_ssim_loss: 0.3403 - val_acc: 0.8006\n",
            "Epoch 45/500\n",
            "3846/3846 [==============================] - 3s 887us/step - loss: 0.2671 - ssim_loss: 0.2671 - acc: 0.8035 - val_loss: 0.3324 - val_ssim_loss: 0.3324 - val_acc: 0.7996\n",
            "Epoch 46/500\n",
            "3846/3846 [==============================] - 3s 896us/step - loss: 0.2640 - ssim_loss: 0.2640 - acc: 0.8036 - val_loss: 0.3339 - val_ssim_loss: 0.3339 - val_acc: 0.8012\n",
            "Epoch 47/500\n",
            "3846/3846 [==============================] - 3s 888us/step - loss: 0.2621 - ssim_loss: 0.2621 - acc: 0.8036 - val_loss: 0.3316 - val_ssim_loss: 0.3316 - val_acc: 0.8007\n",
            "Epoch 48/500\n",
            "3846/3846 [==============================] - 3s 887us/step - loss: 0.2577 - ssim_loss: 0.2577 - acc: 0.8038 - val_loss: 0.3317 - val_ssim_loss: 0.3317 - val_acc: 0.7990\n",
            "Epoch 49/500\n",
            "3846/3846 [==============================] - 3s 887us/step - loss: 0.2565 - ssim_loss: 0.2565 - acc: 0.8039 - val_loss: 0.3254 - val_ssim_loss: 0.3254 - val_acc: 0.8010\n",
            "Epoch 50/500\n",
            "3846/3846 [==============================] - 3s 884us/step - loss: 0.2533 - ssim_loss: 0.2533 - acc: 0.8039 - val_loss: 0.3297 - val_ssim_loss: 0.3297 - val_acc: 0.8001\n",
            "Epoch 51/500\n",
            "3846/3846 [==============================] - 3s 883us/step - loss: 0.2524 - ssim_loss: 0.2524 - acc: 0.8040 - val_loss: 0.3300 - val_ssim_loss: 0.3300 - val_acc: 0.8005\n",
            "Epoch 52/500\n",
            "3846/3846 [==============================] - 3s 907us/step - loss: 0.2502 - ssim_loss: 0.2502 - acc: 0.8041 - val_loss: 0.3239 - val_ssim_loss: 0.3239 - val_acc: 0.8008\n",
            "Epoch 53/500\n",
            "3846/3846 [==============================] - 3s 885us/step - loss: 0.2477 - ssim_loss: 0.2477 - acc: 0.8043 - val_loss: 0.3261 - val_ssim_loss: 0.3261 - val_acc: 0.8004\n",
            "Epoch 54/500\n",
            "3846/3846 [==============================] - 3s 888us/step - loss: 0.2451 - ssim_loss: 0.2451 - acc: 0.8043 - val_loss: 0.3196 - val_ssim_loss: 0.3196 - val_acc: 0.8013\n",
            "Epoch 55/500\n",
            "3846/3846 [==============================] - 3s 892us/step - loss: 0.2413 - ssim_loss: 0.2413 - acc: 0.8045 - val_loss: 0.3186 - val_ssim_loss: 0.3186 - val_acc: 0.8014\n",
            "Epoch 56/500\n",
            "3846/3846 [==============================] - 4s 920us/step - loss: 0.2387 - ssim_loss: 0.2387 - acc: 0.8046 - val_loss: 0.3183 - val_ssim_loss: 0.3183 - val_acc: 0.8008\n",
            "Epoch 57/500\n",
            "3846/3846 [==============================] - 3s 894us/step - loss: 0.2378 - ssim_loss: 0.2378 - acc: 0.8046 - val_loss: 0.3224 - val_ssim_loss: 0.3224 - val_acc: 0.8011\n",
            "Epoch 58/500\n",
            "3846/3846 [==============================] - 3s 875us/step - loss: 0.2352 - ssim_loss: 0.2352 - acc: 0.8048 - val_loss: 0.3181 - val_ssim_loss: 0.3181 - val_acc: 0.8011\n",
            "Epoch 59/500\n",
            "3846/3846 [==============================] - 3s 895us/step - loss: 0.2337 - ssim_loss: 0.2337 - acc: 0.8048 - val_loss: 0.3218 - val_ssim_loss: 0.3218 - val_acc: 0.8009\n",
            "Epoch 60/500\n",
            "3846/3846 [==============================] - 3s 884us/step - loss: 0.2310 - ssim_loss: 0.2310 - acc: 0.8048 - val_loss: 0.3151 - val_ssim_loss: 0.3151 - val_acc: 0.8010\n",
            "Epoch 61/500\n",
            "3846/3846 [==============================] - 3s 904us/step - loss: 0.2289 - ssim_loss: 0.2289 - acc: 0.8050 - val_loss: 0.3169 - val_ssim_loss: 0.3169 - val_acc: 0.8009\n",
            "Epoch 62/500\n",
            "3846/3846 [==============================] - 3s 893us/step - loss: 0.2264 - ssim_loss: 0.2264 - acc: 0.8050 - val_loss: 0.3196 - val_ssim_loss: 0.3196 - val_acc: 0.8011\n",
            "Epoch 63/500\n",
            "3846/3846 [==============================] - 4s 912us/step - loss: 0.2237 - ssim_loss: 0.2237 - acc: 0.8052 - val_loss: 0.3131 - val_ssim_loss: 0.3131 - val_acc: 0.8019\n",
            "Epoch 64/500\n",
            "3846/3846 [==============================] - 3s 898us/step - loss: 0.2218 - ssim_loss: 0.2218 - acc: 0.8052 - val_loss: 0.3122 - val_ssim_loss: 0.3122 - val_acc: 0.8015\n",
            "Epoch 65/500\n",
            "3846/3846 [==============================] - 3s 895us/step - loss: 0.2207 - ssim_loss: 0.2207 - acc: 0.8053 - val_loss: 0.3094 - val_ssim_loss: 0.3094 - val_acc: 0.8013\n",
            "Epoch 66/500\n",
            "3846/3846 [==============================] - 3s 885us/step - loss: 0.2177 - ssim_loss: 0.2177 - acc: 0.8053 - val_loss: 0.3146 - val_ssim_loss: 0.3146 - val_acc: 0.8022\n",
            "Epoch 67/500\n",
            "3846/3846 [==============================] - 3s 891us/step - loss: 0.2151 - ssim_loss: 0.2151 - acc: 0.8054 - val_loss: 0.3114 - val_ssim_loss: 0.3114 - val_acc: 0.8006\n",
            "Epoch 68/500\n",
            "3846/3846 [==============================] - 3s 876us/step - loss: 0.2138 - ssim_loss: 0.2138 - acc: 0.8055 - val_loss: 0.3101 - val_ssim_loss: 0.3101 - val_acc: 0.8016\n",
            "Epoch 69/500\n",
            "3846/3846 [==============================] - 3s 874us/step - loss: 0.2120 - ssim_loss: 0.2120 - acc: 0.8056 - val_loss: 0.3068 - val_ssim_loss: 0.3068 - val_acc: 0.8020\n",
            "Epoch 70/500\n",
            "3846/3846 [==============================] - 3s 888us/step - loss: 0.2089 - ssim_loss: 0.2089 - acc: 0.8057 - val_loss: 0.3080 - val_ssim_loss: 0.3080 - val_acc: 0.8018\n",
            "Epoch 71/500\n",
            "3846/3846 [==============================] - 3s 884us/step - loss: 0.2080 - ssim_loss: 0.2080 - acc: 0.8057 - val_loss: 0.3056 - val_ssim_loss: 0.3056 - val_acc: 0.8017\n",
            "Epoch 72/500\n",
            "3846/3846 [==============================] - 3s 894us/step - loss: 0.2046 - ssim_loss: 0.2046 - acc: 0.8058 - val_loss: 0.3084 - val_ssim_loss: 0.3084 - val_acc: 0.8011\n",
            "Epoch 73/500\n",
            "3846/3846 [==============================] - 3s 910us/step - loss: 0.2048 - ssim_loss: 0.2048 - acc: 0.8058 - val_loss: 0.3061 - val_ssim_loss: 0.3061 - val_acc: 0.8020\n",
            "Epoch 74/500\n",
            "3846/3846 [==============================] - 3s 899us/step - loss: 0.2025 - ssim_loss: 0.2025 - acc: 0.8059 - val_loss: 0.3058 - val_ssim_loss: 0.3058 - val_acc: 0.8022\n",
            "Epoch 75/500\n",
            "3846/3846 [==============================] - 3s 900us/step - loss: 0.1998 - ssim_loss: 0.1998 - acc: 0.8060 - val_loss: 0.3053 - val_ssim_loss: 0.3053 - val_acc: 0.8018\n",
            "Epoch 76/500\n",
            "3846/3846 [==============================] - 3s 886us/step - loss: 0.1987 - ssim_loss: 0.1987 - acc: 0.8060 - val_loss: 0.3117 - val_ssim_loss: 0.3117 - val_acc: 0.8023\n",
            "Epoch 77/500\n",
            "3846/3846 [==============================] - 3s 882us/step - loss: 0.1972 - ssim_loss: 0.1972 - acc: 0.8061 - val_loss: 0.3036 - val_ssim_loss: 0.3036 - val_acc: 0.8018\n",
            "Epoch 78/500\n",
            "3846/3846 [==============================] - 3s 889us/step - loss: 0.1944 - ssim_loss: 0.1944 - acc: 0.8061 - val_loss: 0.3053 - val_ssim_loss: 0.3053 - val_acc: 0.8019\n",
            "Epoch 79/500\n",
            "3846/3846 [==============================] - 3s 894us/step - loss: 0.1928 - ssim_loss: 0.1928 - acc: 0.8062 - val_loss: 0.3080 - val_ssim_loss: 0.3080 - val_acc: 0.8027\n",
            "Epoch 80/500\n",
            "3846/3846 [==============================] - 4s 911us/step - loss: 0.1899 - ssim_loss: 0.1899 - acc: 0.8063 - val_loss: 0.3036 - val_ssim_loss: 0.3036 - val_acc: 0.8027\n",
            "Epoch 81/500\n",
            "3846/3846 [==============================] - 3s 889us/step - loss: 0.1881 - ssim_loss: 0.1881 - acc: 0.8064 - val_loss: 0.3025 - val_ssim_loss: 0.3025 - val_acc: 0.8024\n",
            "Epoch 82/500\n",
            "3846/3846 [==============================] - 3s 894us/step - loss: 0.1864 - ssim_loss: 0.1864 - acc: 0.8064 - val_loss: 0.3060 - val_ssim_loss: 0.3060 - val_acc: 0.8028\n",
            "Epoch 83/500\n",
            "3846/3846 [==============================] - 3s 897us/step - loss: 0.1856 - ssim_loss: 0.1856 - acc: 0.8064 - val_loss: 0.3010 - val_ssim_loss: 0.3010 - val_acc: 0.8014\n",
            "Epoch 84/500\n",
            "3846/3846 [==============================] - 3s 888us/step - loss: 0.1835 - ssim_loss: 0.1835 - acc: 0.8065 - val_loss: 0.3018 - val_ssim_loss: 0.3018 - val_acc: 0.8028\n",
            "Epoch 85/500\n",
            "3846/3846 [==============================] - 3s 883us/step - loss: 0.1823 - ssim_loss: 0.1823 - acc: 0.8065 - val_loss: 0.3007 - val_ssim_loss: 0.3007 - val_acc: 0.8025\n",
            "Epoch 86/500\n",
            "3846/3846 [==============================] - 3s 892us/step - loss: 0.1792 - ssim_loss: 0.1792 - acc: 0.8066 - val_loss: 0.2989 - val_ssim_loss: 0.2989 - val_acc: 0.8025\n",
            "Epoch 87/500\n",
            "3846/3846 [==============================] - 3s 879us/step - loss: 0.1781 - ssim_loss: 0.1781 - acc: 0.8066 - val_loss: 0.3047 - val_ssim_loss: 0.3047 - val_acc: 0.8036\n",
            "Epoch 88/500\n",
            "3846/3846 [==============================] - 3s 890us/step - loss: 0.1770 - ssim_loss: 0.1770 - acc: 0.8067 - val_loss: 0.3004 - val_ssim_loss: 0.3004 - val_acc: 0.8024\n",
            "Epoch 89/500\n",
            "3846/3846 [==============================] - 3s 895us/step - loss: 0.1741 - ssim_loss: 0.1741 - acc: 0.8068 - val_loss: 0.2977 - val_ssim_loss: 0.2977 - val_acc: 0.8020\n",
            "Epoch 90/500\n",
            "3846/3846 [==============================] - 3s 906us/step - loss: 0.1755 - ssim_loss: 0.1755 - acc: 0.8067 - val_loss: 0.2960 - val_ssim_loss: 0.2960 - val_acc: 0.8028\n",
            "Epoch 91/500\n",
            "3846/3846 [==============================] - 3s 888us/step - loss: 0.1720 - ssim_loss: 0.1720 - acc: 0.8068 - val_loss: 0.3016 - val_ssim_loss: 0.3016 - val_acc: 0.8028\n",
            "Epoch 92/500\n",
            "3846/3846 [==============================] - 3s 881us/step - loss: 0.1702 - ssim_loss: 0.1702 - acc: 0.8069 - val_loss: 0.2960 - val_ssim_loss: 0.2960 - val_acc: 0.8027\n",
            "Epoch 93/500\n",
            "3846/3846 [==============================] - 3s 890us/step - loss: 0.1679 - ssim_loss: 0.1679 - acc: 0.8069 - val_loss: 0.2982 - val_ssim_loss: 0.2982 - val_acc: 0.8025\n",
            "Epoch 94/500\n",
            "3846/3846 [==============================] - 3s 878us/step - loss: 0.1673 - ssim_loss: 0.1673 - acc: 0.8070 - val_loss: 0.2972 - val_ssim_loss: 0.2972 - val_acc: 0.8025\n",
            "Epoch 95/500\n",
            "3846/3846 [==============================] - 3s 881us/step - loss: 0.1650 - ssim_loss: 0.1650 - acc: 0.8070 - val_loss: 0.2943 - val_ssim_loss: 0.2943 - val_acc: 0.8027\n",
            "Epoch 96/500\n",
            "3846/3846 [==============================] - 3s 893us/step - loss: 0.1637 - ssim_loss: 0.1637 - acc: 0.8071 - val_loss: 0.2941 - val_ssim_loss: 0.2941 - val_acc: 0.8023\n",
            "Epoch 97/500\n",
            "3846/3846 [==============================] - 3s 885us/step - loss: 0.1622 - ssim_loss: 0.1622 - acc: 0.8072 - val_loss: 0.2955 - val_ssim_loss: 0.2955 - val_acc: 0.8027\n",
            "Epoch 98/500\n",
            "3846/3846 [==============================] - 3s 874us/step - loss: 0.1610 - ssim_loss: 0.1610 - acc: 0.8071 - val_loss: 0.2950 - val_ssim_loss: 0.2950 - val_acc: 0.8025\n",
            "Epoch 99/500\n",
            "3846/3846 [==============================] - 3s 877us/step - loss: 0.1591 - ssim_loss: 0.1591 - acc: 0.8072 - val_loss: 0.2955 - val_ssim_loss: 0.2955 - val_acc: 0.8028\n",
            "Epoch 100/500\n",
            "3846/3846 [==============================] - 3s 907us/step - loss: 0.1586 - ssim_loss: 0.1586 - acc: 0.8072 - val_loss: 0.3017 - val_ssim_loss: 0.3017 - val_acc: 0.8025\n",
            "Epoch 101/500\n",
            "3846/3846 [==============================] - 3s 886us/step - loss: 0.1584 - ssim_loss: 0.1584 - acc: 0.8072 - val_loss: 0.2965 - val_ssim_loss: 0.2965 - val_acc: 0.8022\n",
            "Epoch 102/500\n",
            "3846/3846 [==============================] - 3s 896us/step - loss: 0.1570 - ssim_loss: 0.1570 - acc: 0.8072 - val_loss: 0.2926 - val_ssim_loss: 0.2926 - val_acc: 0.8025\n",
            "Epoch 103/500\n",
            "3846/3846 [==============================] - 3s 885us/step - loss: 0.1542 - ssim_loss: 0.1542 - acc: 0.8074 - val_loss: 0.2954 - val_ssim_loss: 0.2954 - val_acc: 0.8031\n",
            "Epoch 104/500\n",
            "3846/3846 [==============================] - 3s 878us/step - loss: 0.1521 - ssim_loss: 0.1521 - acc: 0.8074 - val_loss: 0.2926 - val_ssim_loss: 0.2926 - val_acc: 0.8025\n",
            "Epoch 105/500\n",
            "3846/3846 [==============================] - 3s 887us/step - loss: 0.1515 - ssim_loss: 0.1515 - acc: 0.8073 - val_loss: 0.2951 - val_ssim_loss: 0.2951 - val_acc: 0.8030\n",
            "Epoch 106/500\n",
            "3846/3846 [==============================] - 3s 876us/step - loss: 0.1503 - ssim_loss: 0.1503 - acc: 0.8074 - val_loss: 0.2928 - val_ssim_loss: 0.2928 - val_acc: 0.8031\n",
            "Epoch 107/500\n",
            "3846/3846 [==============================] - 3s 905us/step - loss: 0.1496 - ssim_loss: 0.1496 - acc: 0.8074 - val_loss: 0.2921 - val_ssim_loss: 0.2921 - val_acc: 0.8027\n",
            "Epoch 108/500\n",
            "3846/3846 [==============================] - 3s 881us/step - loss: 0.1479 - ssim_loss: 0.1479 - acc: 0.8074 - val_loss: 0.2999 - val_ssim_loss: 0.2999 - val_acc: 0.8034\n",
            "Epoch 109/500\n",
            "3846/3846 [==============================] - 3s 898us/step - loss: 0.1471 - ssim_loss: 0.1471 - acc: 0.8075 - val_loss: 0.2914 - val_ssim_loss: 0.2914 - val_acc: 0.8028\n",
            "Epoch 110/500\n",
            "3846/3846 [==============================] - 3s 882us/step - loss: 0.1452 - ssim_loss: 0.1452 - acc: 0.8075 - val_loss: 0.2909 - val_ssim_loss: 0.2909 - val_acc: 0.8022\n",
            "Epoch 111/500\n",
            "3846/3846 [==============================] - 3s 886us/step - loss: 0.1439 - ssim_loss: 0.1439 - acc: 0.8076 - val_loss: 0.2900 - val_ssim_loss: 0.2900 - val_acc: 0.8028\n",
            "Epoch 112/500\n",
            "3846/3846 [==============================] - 3s 880us/step - loss: 0.1422 - ssim_loss: 0.1422 - acc: 0.8076 - val_loss: 0.2907 - val_ssim_loss: 0.2907 - val_acc: 0.8031\n",
            "Epoch 113/500\n",
            "3846/3846 [==============================] - 3s 875us/step - loss: 0.1429 - ssim_loss: 0.1429 - acc: 0.8076 - val_loss: 0.2929 - val_ssim_loss: 0.2929 - val_acc: 0.8029\n",
            "Epoch 114/500\n",
            "3846/3846 [==============================] - 3s 873us/step - loss: 0.1397 - ssim_loss: 0.1397 - acc: 0.8077 - val_loss: 0.2915 - val_ssim_loss: 0.2915 - val_acc: 0.8023\n",
            "Epoch 115/500\n",
            "3846/3846 [==============================] - 3s 902us/step - loss: 0.1405 - ssim_loss: 0.1405 - acc: 0.8077 - val_loss: 0.2908 - val_ssim_loss: 0.2908 - val_acc: 0.8022\n",
            "Epoch 116/500\n",
            "3846/3846 [==============================] - 3s 889us/step - loss: 0.1382 - ssim_loss: 0.1382 - acc: 0.8077 - val_loss: 0.2922 - val_ssim_loss: 0.2922 - val_acc: 0.8032\n",
            "Epoch 117/500\n",
            "3846/3846 [==============================] - 3s 879us/step - loss: 0.1359 - ssim_loss: 0.1359 - acc: 0.8078 - val_loss: 0.2912 - val_ssim_loss: 0.2912 - val_acc: 0.8021\n",
            "Epoch 118/500\n",
            "3846/3846 [==============================] - 3s 875us/step - loss: 0.1356 - ssim_loss: 0.1356 - acc: 0.8078 - val_loss: 0.2911 - val_ssim_loss: 0.2911 - val_acc: 0.8031\n",
            "Epoch 119/500\n",
            "3846/3846 [==============================] - 3s 871us/step - loss: 0.1344 - ssim_loss: 0.1344 - acc: 0.8078 - val_loss: 0.2904 - val_ssim_loss: 0.2904 - val_acc: 0.8017\n",
            "Epoch 120/500\n",
            "3846/3846 [==============================] - 3s 888us/step - loss: 0.1333 - ssim_loss: 0.1333 - acc: 0.8078 - val_loss: 0.2917 - val_ssim_loss: 0.2917 - val_acc: 0.8029\n",
            "Epoch 121/500\n",
            "3846/3846 [==============================] - 3s 889us/step - loss: 0.1325 - ssim_loss: 0.1325 - acc: 0.8078 - val_loss: 0.2884 - val_ssim_loss: 0.2884 - val_acc: 0.8025\n",
            "Epoch 122/500\n",
            "3846/3846 [==============================] - 3s 892us/step - loss: 0.1337 - ssim_loss: 0.1337 - acc: 0.8078 - val_loss: 0.2900 - val_ssim_loss: 0.2900 - val_acc: 0.8030\n",
            "Epoch 123/500\n",
            "3846/3846 [==============================] - 3s 875us/step - loss: 0.1311 - ssim_loss: 0.1311 - acc: 0.8079 - val_loss: 0.2914 - val_ssim_loss: 0.2914 - val_acc: 0.8030\n",
            "Epoch 124/500\n",
            "3846/3846 [==============================] - 3s 909us/step - loss: 0.1296 - ssim_loss: 0.1296 - acc: 0.8079 - val_loss: 0.2903 - val_ssim_loss: 0.2903 - val_acc: 0.8031\n",
            "Epoch 125/500\n",
            "3846/3846 [==============================] - 4s 912us/step - loss: 0.1284 - ssim_loss: 0.1284 - acc: 0.8080 - val_loss: 0.2906 - val_ssim_loss: 0.2906 - val_acc: 0.8027\n",
            "Epoch 126/500\n",
            "3846/3846 [==============================] - 3s 880us/step - loss: 0.1276 - ssim_loss: 0.1276 - acc: 0.8080 - val_loss: 0.2907 - val_ssim_loss: 0.2907 - val_acc: 0.8023\n",
            "Epoch 127/500\n",
            "3846/3846 [==============================] - 3s 872us/step - loss: 0.1264 - ssim_loss: 0.1264 - acc: 0.8080 - val_loss: 0.2866 - val_ssim_loss: 0.2866 - val_acc: 0.8028\n",
            "Epoch 128/500\n",
            "3846/3846 [==============================] - 3s 903us/step - loss: 0.1248 - ssim_loss: 0.1248 - acc: 0.8080 - val_loss: 0.2908 - val_ssim_loss: 0.2908 - val_acc: 0.8026\n",
            "Epoch 129/500\n",
            "3846/3846 [==============================] - 3s 885us/step - loss: 0.1244 - ssim_loss: 0.1244 - acc: 0.8080 - val_loss: 0.2886 - val_ssim_loss: 0.2886 - val_acc: 0.8026\n",
            "Epoch 130/500\n",
            "3846/3846 [==============================] - 3s 902us/step - loss: 0.1238 - ssim_loss: 0.1238 - acc: 0.8080 - val_loss: 0.2896 - val_ssim_loss: 0.2896 - val_acc: 0.8035\n",
            "Epoch 131/500\n",
            "3846/3846 [==============================] - 4s 911us/step - loss: 0.1213 - ssim_loss: 0.1213 - acc: 0.8081 - val_loss: 0.2915 - val_ssim_loss: 0.2915 - val_acc: 0.8032\n",
            "Epoch 132/500\n",
            "3846/3846 [==============================] - 3s 872us/step - loss: 0.1228 - ssim_loss: 0.1228 - acc: 0.8081 - val_loss: 0.2908 - val_ssim_loss: 0.2908 - val_acc: 0.8033\n",
            "Epoch 133/500\n",
            "3846/3846 [==============================] - 3s 869us/step - loss: 0.1208 - ssim_loss: 0.1208 - acc: 0.8081 - val_loss: 0.2901 - val_ssim_loss: 0.2901 - val_acc: 0.8021\n",
            "Epoch 134/500\n",
            "3846/3846 [==============================] - 3s 877us/step - loss: 0.1203 - ssim_loss: 0.1203 - acc: 0.8081 - val_loss: 0.2890 - val_ssim_loss: 0.2890 - val_acc: 0.8031\n",
            "Epoch 135/500\n",
            "3846/3846 [==============================] - 3s 873us/step - loss: 0.1187 - ssim_loss: 0.1187 - acc: 0.8081 - val_loss: 0.2874 - val_ssim_loss: 0.2874 - val_acc: 0.8030\n",
            "Epoch 136/500\n",
            "3846/3846 [==============================] - 3s 877us/step - loss: 0.1166 - ssim_loss: 0.1166 - acc: 0.8082 - val_loss: 0.2897 - val_ssim_loss: 0.2897 - val_acc: 0.8028\n",
            "Epoch 137/500\n",
            "3846/3846 [==============================] - 3s 884us/step - loss: 0.1167 - ssim_loss: 0.1167 - acc: 0.8082 - val_loss: 0.2886 - val_ssim_loss: 0.2886 - val_acc: 0.8019\n",
            "Epoch 138/500\n",
            "3846/3846 [==============================] - 3s 869us/step - loss: 0.1150 - ssim_loss: 0.1150 - acc: 0.8082 - val_loss: 0.2874 - val_ssim_loss: 0.2874 - val_acc: 0.8033\n",
            "Epoch 139/500\n",
            "3846/3846 [==============================] - 3s 875us/step - loss: 0.1146 - ssim_loss: 0.1146 - acc: 0.8082 - val_loss: 0.2878 - val_ssim_loss: 0.2878 - val_acc: 0.8026\n",
            "Epoch 140/500\n",
            "3846/3846 [==============================] - 3s 877us/step - loss: 0.1144 - ssim_loss: 0.1144 - acc: 0.8083 - val_loss: 0.2870 - val_ssim_loss: 0.2870 - val_acc: 0.8031\n",
            "Epoch 141/500\n",
            "3846/3846 [==============================] - 3s 883us/step - loss: 0.1128 - ssim_loss: 0.1128 - acc: 0.8083 - val_loss: 0.2890 - val_ssim_loss: 0.2890 - val_acc: 0.8032\n",
            "Epoch 142/500\n",
            "3846/3846 [==============================] - 3s 872us/step - loss: 0.1120 - ssim_loss: 0.1120 - acc: 0.8083 - val_loss: 0.2891 - val_ssim_loss: 0.2891 - val_acc: 0.8035\n",
            "Epoch 143/500\n",
            "3846/3846 [==============================] - 3s 876us/step - loss: 0.1133 - ssim_loss: 0.1133 - acc: 0.8083 - val_loss: 0.2877 - val_ssim_loss: 0.2877 - val_acc: 0.8032\n",
            "Epoch 144/500\n",
            "3846/3846 [==============================] - 3s 877us/step - loss: 0.1107 - ssim_loss: 0.1107 - acc: 0.8083 - val_loss: 0.2870 - val_ssim_loss: 0.2870 - val_acc: 0.8026\n",
            "Epoch 145/500\n",
            "3846/3846 [==============================] - 3s 880us/step - loss: 0.1089 - ssim_loss: 0.1089 - acc: 0.8083 - val_loss: 0.2918 - val_ssim_loss: 0.2918 - val_acc: 0.8028\n",
            "Epoch 146/500\n",
            "3846/3846 [==============================] - 3s 877us/step - loss: 0.1102 - ssim_loss: 0.1102 - acc: 0.8083 - val_loss: 0.2910 - val_ssim_loss: 0.2910 - val_acc: 0.8034\n",
            "Epoch 147/500\n",
            "3846/3846 [==============================] - 3s 879us/step - loss: 0.1091 - ssim_loss: 0.1091 - acc: 0.8084 - val_loss: 0.2866 - val_ssim_loss: 0.2866 - val_acc: 0.8028\n"
          ],
          "name": "stdout"
        }
      ]
    },
    {
      "cell_type": "code",
      "metadata": {
        "id": "RBLCiHDr6-2E",
        "colab_type": "code",
        "colab": {
          "base_uri": "https://localhost:8080/",
          "height": 573
        },
        "outputId": "1c213004-17af-463e-f6ed-45ec46cf6cc2"
      },
      "source": [
        "import matplotlib.pyplot as plt\n",
        "# Plot training & validation accuracy values\n",
        "plt.plot(history.history['acc'])\n",
        "plt.plot(history.history['val_acc'])\n",
        "plt.title('Model accuracy')\n",
        "plt.ylabel('Accuracy')\n",
        "plt.xlabel('Epoch')\n",
        "plt.legend(['Train', 'Test'], loc= 'lower right')\n",
        "plt.show()\n",
        "\n",
        "# Plot training & validation loss values\n",
        "plt.plot(history.history['loss'])\n",
        "plt.plot(history.history['val_loss'])\n",
        "plt.title('Model loss')\n",
        "plt.ylabel('Loss')\n",
        "plt.xlabel('Epoch')\n",
        "plt.legend(['Train', 'Test'], loc='upper right')\n",
        "plt.show()"
      ],
      "execution_count": 205,
      "outputs": [
        {
          "output_type": "display_data",
          "data": {
            "image/png": "[encoded data removed]",
            "text/plain": [
              "<Figure size 432x288 with 1 Axes>"
            ]
          },
          "metadata": {
            "tags": []
          }
        },
        {
          "output_type": "display_data",
          "data": {
            "image/png": "[encoded data removed]",
            "text/plain": [
              "<Figure size 432x288 with 1 Axes>"
            ]
          },
          "metadata": {
            "tags": []
          }
        }
      ]
    },
    {
      "cell_type": "markdown",
      "metadata": {
        "id": "_eD9RDSnwz_r",
        "colab_type": "text"
      },
      "source": [
        "Test average SSIM"
      ]
    },
    {
      "cell_type": "markdown",
      "metadata": {
        "id": "45UOM0yaQMRG",
        "colab_type": "text"
      },
      "source": [
        "**Import the pre-trained Mnist classification network: Detective**"
      ]
    },
    {
      "cell_type": "code",
      "metadata": {
        "id": "tFZ1meNaPPJ5",
        "colab_type": "code",
        "colab": {}
      },
      "source": [
        "from tensorflow.keras.models import load_model\n",
        "\n",
        "Detective = load_model('/content/drive/My Drive/Colab Notebooks/MMF data/Mnist image data/my_model.h5')"
      ],
      "execution_count": 0,
      "outputs": []
    },
    {
      "cell_type": "code",
      "metadata": {
        "id": "VJ1kxPbAcnxo",
        "colab_type": "code",
        "colab": {}
      },
      "source": [
        "autoencoder.load_weights('best_model.h5')\n"
      ],
      "execution_count": 0,
      "outputs": []
    },
    {
      "cell_type": "code",
      "metadata": {
        "id": "UfdHrYVU4uQW",
        "colab_type": "code",
        "colab": {}
      },
      "source": [
        "decoded_imgs = autoencoder.predict(test_imgs)"
      ],
      "execution_count": 0,
      "outputs": []
    },
    {
      "cell_type": "markdown",
      "metadata": {
        "id": "l4WM387TSih_",
        "colab_type": "text"
      },
      "source": [
        "**Average SSIM test**\n"
      ]
    },
    {
      "cell_type": "code",
      "metadata": {
        "id": "QMXTy9j8wzIW",
        "colab_type": "code",
        "colab": {
          "base_uri": "https://localhost:8080/",
          "height": 154
        },
        "outputId": "3d74ad5e-ff1f-468a-f0c1-f28c6e28c350"
      },
      "source": [
        "import time\n",
        "from skimage.metrics import structural_similarity as ssim\n",
        "\n",
        "\n",
        "Number = 500\n",
        "\n",
        "#x_test_noisy , imgs_test = next_batch (Number , train_imgs, train_origins)\n",
        "x_test_noisy , imgs_test = next_batch (Number , test_imgs, test_origins)\n",
        "\n",
        "x_test_noisy = x_test_noisy.reshape((-1,64,80,1))\n",
        "imgs_test = imgs_test.reshape((-1,28,28,1))\n",
        "\n",
        "c_1 = time.time()\n",
        "recon_img = autoencoder.predict(x_test_noisy)\n",
        "c_2 = time.time()\n",
        "\n",
        "SSIM_test = []\n",
        "\n",
        "for i in range(Number):\n",
        "  s =ssim(recon_img[i],imgs_test[i], multichannel = True)\n",
        "  SSIM_test.append(s)\n",
        "\n",
        "print('reconstruction time = {:.4f}s'.format(c_2-c_1))\n",
        "print('average SSIM = {:.2f}'.format(sum(SSIM_test)/Number))\n",
        "print('SSIM variance = {:.4f}'.format(np.var(SSIM_test)))\n",
        "\n",
        "answer1 = Detective.predict(recon_img.reshape(-1,28,28))\n",
        "answer2 = Detective.predict(imgs_test.reshape(-1,28,28))\n",
        "\n",
        "count = 0\n",
        "\n",
        "for i in range(Number):\n",
        "  if np.argmax(answer1[i]) == np.argmax(answer2[i]):\n",
        "    count += 1\n",
        "  else:\n",
        "    pass\n",
        "print('The classification network sucessfully distinguished {} images out of 1000 images'.format(2*count))\n",
        "print('Classification accuracy: {}'.format(2*count/1000.0))\n",
        "    "
      ],
      "execution_count": 217,
      "outputs": [
        {
          "output_type": "stream",
          "text": [
            "reconstruction time = 0.0431s\n",
            "average SSIM = 0.75\n",
            "SSIM variance = 0.0139\n",
            "The classification network sucessfully distinguished 862 images out of 1000 images\n",
            "Classification accuracy: 0.862\n"
          ],
          "name": "stdout"
        },
        {
          "output_type": "stream",
          "text": [
            "/usr/local/lib/python3.6/dist-packages/skimage/metrics/_structural_similarity.py:108: UserWarning: Inputs have mismatched dtype.  Setting data_range based on im1.dtype.\n",
            "  im2[..., ch], **args)\n"
          ],
          "name": "stderr"
        }
      ]
    },
    {
      "cell_type": "code",
      "metadata": {
        "id": "_U2DB7LAzeJT",
        "colab_type": "code",
        "colab": {}
      },
      "source": [
        "#plot the results of predicted test images with respect to origins\n",
        "from random import shuffle\n",
        "def plot_results(test_images, test_origins):\n",
        "    images = autoencoder.predict(test_images)\n",
        "    k = np.arange(len(images))\n",
        "    shuffle(k)\n",
        "    for i in range(0 , 10):\n",
        "      plt.subplot(2,5,i+1)\n",
        "      plt.imshow(images[k[i]].reshape(28,28), cmap = 'gray')\n",
        "      answer = Detective.predict(images[k[i]].reshape(1,28,28))\n",
        "      plt.title(np.argmax(answer))\n",
        "      s = ssim(images[k[i]].reshape(28,28),test_origins[k[i]].reshape(28,28),multichannel = True)\n",
        "      plt.xlabel('SSIM = {:.2f}'.format(s))\n",
        "    plt.show()\n",
        "    \n",
        "    for i in range(0,10):\n",
        "      plt.subplot(2,5,i+1)\n",
        "      answer = Detective.predict(test_origins[k[i]].reshape(1,28,28))\n",
        "      plt.title(np.argmax(answer))\n",
        "      plt.imshow(test_origins[k[i]].reshape(28,28), cmap = 'gray')\n",
        "    plt.show()\n"
      ],
      "execution_count": 0,
      "outputs": []
    },
    {
      "cell_type": "code",
      "metadata": {
        "id": "y6WOFAVmFbo-",
        "colab_type": "code",
        "colab": {
          "base_uri": "https://localhost:8080/",
          "height": 530
        },
        "outputId": "05a3cb14-e8a5-4486-e610-d3941b4d5ced"
      },
      "source": [
        "plot_results(test_imgs,test_origins)"
      ],
      "execution_count": 218,
      "outputs": [
        {
          "output_type": "stream",
          "text": [
            "/usr/local/lib/python3.6/dist-packages/skimage/metrics/_structural_similarity.py:108: UserWarning: Inputs have mismatched dtype.  Setting data_range based on im1.dtype.\n",
            "  im2[..., ch], **args)\n"
          ],
          "name": "stderr"
        },
        {
          "output_type": "display_data",
          "data": {
            "image/png": "[encoded data removed]",
            "text/plain": [
              "<Figure size 432x288 with 10 Axes>"
            ]
          },
          "metadata": {
            "tags": []
          }
        },
        {
          "output_type": "display_data",
          "data": {
            "image/png": "[encoded data removed]",
            "text/plain": [
              "<Figure size 432x288 with 10 Axes>"
            ]
          },
          "metadata": {
            "tags": []
          }
        }
      ]
    },
    {
      "cell_type": "code",
      "metadata": {
        "id": "jQPkoP73zQqZ",
        "colab_type": "code",
        "colab": {}
      },
      "source": [
        "# get the data within the specific hours\n",
        "def get_test_data(N_start, N_end):  #N_start refer to the hours, eg: N_start = 3\n",
        "\n",
        "  Final_test = []\n",
        "  Final_origin = []\n",
        "\n",
        "  for i in range(N[N_start], N[N_end]):\n",
        "    if i % 2 == 1:           # 0 for Fashion Mnist and 1 for Mnist.\n",
        "      Final_test.append(imgs_all[i].reshape(64,80,1))\n",
        "      Final_origin.append(origins_all[i].reshape(28,28,1))\n",
        "\n",
        "  Final_test = np.array(Final_test).astype(float)   \n",
        "  Final_origin = np.array(Final_origin).astype(float)\n",
        "\n",
        "  return Final_test/255.0, Final_origin/255.0"
      ],
      "execution_count": 0,
      "outputs": []
    },
    {
      "cell_type": "code",
      "metadata": {
        "id": "ZoqxQQJ_zkSW",
        "colab_type": "code",
        "colab": {
          "base_uri": "https://localhost:8080/",
          "height": 530
        },
        "outputId": "6bd58c1e-03af-492f-8f97-294cb3775285"
      },
      "source": [
        "x, y = get_test_data(10,11)\n",
        "plot_results(x,y)"
      ],
      "execution_count": 213,
      "outputs": [
        {
          "output_type": "stream",
          "text": [
            "/usr/local/lib/python3.6/dist-packages/skimage/metrics/_structural_similarity.py:108: UserWarning: Inputs have mismatched dtype.  Setting data_range based on im1.dtype.\n",
            "  im2[..., ch], **args)\n"
          ],
          "name": "stderr"
        },
        {
          "output_type": "display_data",
          "data": {
            "image/png": "[encoded data removed]",
            "text/plain": [
              "<Figure size 432x288 with 10 Axes>"
            ]
          },
          "metadata": {
            "tags": []
          }
        },
        {
          "output_type": "display_data",
          "data": {
            "image/png": "[encoded data removed]",
            "text/plain": [
              "<Figure size 432x288 with 10 Axes>"
            ]
          },
          "metadata": {
            "tags": []
          }
        }
      ]
    }
  ]
}
