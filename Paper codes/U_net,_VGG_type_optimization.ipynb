{
  "nbformat": 4,
  "nbformat_minor": 0,
  "metadata": {
    "colab": {
      "name": "U_net, VGG_type optimization.ipynb",
      "provenance": [],
      "collapsed_sections": [],
      "mount_file_id": "16Y32YCCo_kGbIAOK06qQb59KXaqzdntj",
      "authorship_tag": "ABX9TyMXrz0oMp75ETOR5snt+nc1",
      "include_colab_link": true
    },
    "kernelspec": {
      "name": "python3",
      "display_name": "Python 3"
    },
    "accelerator": "GPU"
  },
  "cells": [
    {
      "cell_type": "markdown",
      "metadata": {
        "id": "view-in-github",
        "colab_type": "text"
      },
      "source": [
        "<a href=\"https://colab.research.google.com/github/zhuchangyan/Multimode-fiber-Image-reconstruction/blob/master/U_net%2C_VGG_type_optimization.ipynb\" target=\"_parent\"><img src=\"https://colab.research.google.com/assets/colab-badge.svg\" alt=\"Open In Colab\"/></a>"
      ]
    },
    {
      "cell_type": "markdown",
      "metadata": {
        "id": "WaRgk2pqEJ7m"
      },
      "source": [
        "2020/04/28 考虑不同的U-net， VGG type类型。  \\\\\n",
        "2020/05/10 用不同size的input shape  \\\\\n",
        "2020/05/17 用Fashion mnist测试一下。 \\\\\n",
        "2020/05/21 用random image测试。  \\\\\n",
        "2020/08/12 收到reviewer评论，用batch_normalization测试一下U-net"
      ]
    },
    {
      "cell_type": "markdown",
      "metadata": {
        "id": "Ql9aGGusEfJT"
      },
      "source": [
        "Import python package"
      ]
    },
    {
      "cell_type": "code",
      "metadata": {
        "id": "TvUZ8Ow9EFil"
      },
      "source": [
        "from keras.layers import Input, Dense , Dropout\n",
        "from keras.models import Model\n",
        "import matplotlib.pyplot as plt\n",
        "import pickle\n",
        "import numpy as np \n",
        "from keras.layers import concatenate"
      ],
      "execution_count": 78,
      "outputs": []
    },
    {
      "cell_type": "code",
      "metadata": {
        "id": "LxdL7oDEElcf",
        "colab": {
          "base_uri": "https://localhost:8080/"
        },
        "outputId": "ffd1b628-a5b3-42eb-d5be-83cae1a2ff61"
      },
      "source": [
        "cd /content/drive/My Drive/Colab Notebooks/MMF data/24hours_Mix_datasets/24hours_img_v2"
      ],
      "execution_count": 79,
      "outputs": [
        {
          "output_type": "stream",
          "text": [
            "/content/drive/My Drive/Colab Notebooks/MMF data/24hours_Mix_datasets/24hours_img_v2\n"
          ],
          "name": "stdout"
        }
      ]
    },
    {
      "cell_type": "code",
      "metadata": {
        "id": "mOpGK1lwFb1-"
      },
      "source": [
        "## The dataset main_24hours_v2_80000_run2.dat is for 28x28 input, to run this dataset, you probably need to adjust the neural network architecture a little bit (i.e. the input and output size.)\n",
        "\n",
        "# with open('main_24hours_v2_80000_run2.dat','rb') as f:\n",
        "#   imgs_all = pickle.load(f)\n",
        "\n",
        "\n",
        "#  main_24hours_v2_80000_run2_64px.dat is not available in github now due to its large size\n",
        "#  However, the dataset is openly available in DR-NTU dataset base.  The website is https://researchdata.ntu.edu.sg/dataset.xhtml?persistentId=doi:10.21979/N9/SUTZX9\n",
        "#  You can download the file\t'Dat_scrambled_Ba.dat\t' and rename it as 'main_24hours_v2_80000_run2_64px.dat' to run the following code.\n",
        "\n",
        "\n",
        "with open('main_24hours_v2_80000_run2_64px.dat','rb') as f:\n",
        "  imgs_all = pickle.load(f)\n",
        "\n",
        "with open('main_24hours_v2_80000_run2_SLM.dat','rb') as f:\n",
        "  origins_all = pickle.load(f)\n",
        "\n",
        "with open('main_24hours_v2_80000_run2_Records.dat','rb') as f:\n",
        "  records = pickle.load(f)\n",
        "\n"
      ],
      "execution_count": 80,
      "outputs": []
    },
    {
      "cell_type": "markdown",
      "metadata": {
        "id": "KaYoPAVfFvHS"
      },
      "source": [
        "data preprocessing"
      ]
    },
    {
      "cell_type": "code",
      "metadata": {
        "id": "o7Dxe2dPFuMz",
        "colab": {
          "base_uri": "https://localhost:8080/"
        },
        "outputId": "402fa027-7cf7-4f70-ef96-b693342b798c"
      },
      "source": [
        "#convert records file into a array\n",
        "N = [0]\n",
        "for i in records:\n",
        "  if i == 'Start point' or i == 'end point':\n",
        "    pass\n",
        "  else:\n",
        "    N.append(records[i])\n",
        "\n",
        "\n",
        "\n",
        "mnist_imgs = []\n",
        "mnist_origins = []\n",
        "\n",
        "#选取其中的mnist图片，如果要选择fashion_mnist，那么改为 i%2 == 0即可。\n",
        "#N_12, N_15代表选取的是12 - 15 hours的图片。\n",
        "for i in range(N[0], N[10]):\n",
        "  if i % 2 == 1:\n",
        "    mnist_imgs.append(imgs_all[i])\n",
        "    mnist_origins.append(origins_all[i])\n",
        "\n",
        "\n",
        "\n",
        "N_input = len(mnist_imgs)\n",
        "N_train = int(0.8* N_input)\n",
        "N_test = N_input - N_train\n",
        "print('共有{}张图片，其中{}张为训练图片，{}张为测试图片'.format(N_input, N_train, N_test))"
      ],
      "execution_count": 81,
      "outputs": [
        {
          "output_type": "stream",
          "text": [
            "共有16186张图片，其中12948张为训练图片，3238张为测试图片\n"
          ],
          "name": "stdout"
        }
      ]
    },
    {
      "cell_type": "code",
      "metadata": {
        "id": "R7_StQN-F-5g"
      },
      "source": [
        "imgs = np.array(mnist_imgs).astype(float)   \n",
        "origins = np.array(mnist_origins).astype(float)\n",
        "\n",
        "def next_batch(batch_size, data_input, data_output):\n",
        "    '''\n",
        "    Return a total of `batch_size` random samples \n",
        "    '''\n",
        "    idx = np.arange(0 , len(data_input))\n",
        "    np.random.shuffle(idx)\n",
        "    idx = idx[:batch_size]\n",
        "    data_shuffle_input = [data_input[ i] for i in idx]\n",
        "    data_shuffle_output = [data_output[ i] for i in idx]\n",
        "    return np.asarray(data_shuffle_input) , np.asarray(data_shuffle_output)\n",
        "\n",
        "\n",
        "# shuffle input datasets\n",
        "imgs, origins = next_batch(N_input,imgs, origins)\n",
        "\n",
        "train_imgs = imgs[0:N_train].reshape(-1,64,64,1)\n",
        "train_origins = origins[0:N_train].reshape(-1,28,28,1)\n",
        "test_imgs = imgs[N_train:N_input].reshape(-1,64,64,1)\n",
        "test_origins = origins[N_train:N_input].reshape(-1,28,28,1)\n",
        "\n",
        "\n",
        "# Train with 28x28 input images\n",
        "\n",
        "# train_imgs = imgs[0:N_train].reshape(-1,28,28,1)\n",
        "# train_origins = origins[0:N_train].reshape(-1,28,28,1)\n",
        "# test_imgs = imgs[N_train:N_input].reshape(-1,28,28,1)\n",
        "# test_origins = origins[N_train:N_input].reshape(-1,28,28,1)\n",
        "\n",
        "for i in range(N_train):\n",
        "  train_imgs[i] = train_imgs[i]/256.0\n",
        "  train_origins[i] = train_origins[i]/256.0\n",
        "\n",
        "for i in range(N_test):\n",
        "  test_imgs[i] = test_imgs[i]/256.0\n",
        "  test_origins[i] = test_origins[i]/256.0"
      ],
      "execution_count": 82,
      "outputs": []
    },
    {
      "cell_type": "code",
      "metadata": {
        "id": "hnN3tbJvqQBM",
        "colab": {
          "base_uri": "https://localhost:8080/",
          "height": 203
        },
        "outputId": "bd0dffa6-3025-4282-f9c8-15ab4edd5918"
      },
      "source": [
        "import matplotlib.pyplot as plt\n",
        "\n",
        "plt.figure()\n",
        "plt.subplot(1,2,1)\n",
        "plt.imshow(train_imgs[0].reshape(64,64), cmap = 'gray')\n",
        "plt.subplot(1,2,2)\n",
        "plt.imshow(train_origins[0].reshape(28,28), cmap = 'gray')\n",
        "plt.show()"
      ],
      "execution_count": 83,
      "outputs": [
        {
          "output_type": "display_data",
          "data": {
            "image/png": "[encoded data removed]",
            "text/plain": [
              "<Figure size 432x288 with 2 Axes>"
            ]
          },
          "metadata": {
            "tags": [],
            "needs_background": "light"
          }
        }
      ]
    },
    {
      "cell_type": "markdown",
      "metadata": {
        "id": "B5d6gjQBGbpH"
      },
      "source": [
        "Set up Neural network"
      ]
    },
    {
      "cell_type": "code",
      "metadata": {
        "id": "aC-QBsBbGh_S"
      },
      "source": [
        "from keras.layers import Input,  Conv2D, MaxPooling2D, UpSampling2D , Flatten , Reshape , Dense ,Dropout , Activation\n",
        "from keras.models import Model ,Sequential\n",
        "from keras.layers.normalization import BatchNormalization\n",
        "from keras import backend as K\n",
        "from keras.activations import sigmoid"
      ],
      "execution_count": 84,
      "outputs": []
    },
    {
      "cell_type": "code",
      "metadata": {
        "id": "inJE90tUNqL1"
      },
      "source": [
        " # adapt this if using `channels_first` image data format"
      ],
      "execution_count": 85,
      "outputs": []
    },
    {
      "cell_type": "code",
      "metadata": {
        "id": "JyXdl5aXSguT"
      },
      "source": [
        "Neural_network = 4\n",
        "# 0 for Dense\n",
        "# 1 for Autoencoder \n",
        "# 2 for VGG-CNN\n",
        "# 6 for reverse VGG-CNN\n",
        "# 3 for U-net\n",
        "# 4 for U-net optimization\n",
        "# 7 for U-net 28x28 input\n",
        "\n",
        "\n",
        "\n",
        "## 0 is the dense neural network used in paper\n",
        "## 4 is the U-net neural network used in paper\n",
        "## 2 is the VGG neural network used in paper"
      ],
      "execution_count": 86,
      "outputs": []
    },
    {
      "cell_type": "code",
      "metadata": {
        "id": "iClbZaFhGlvD"
      },
      "source": [
        "# Dense \n",
        "\n",
        "if Neural_network == 0:\n",
        "  input_img = Input(shape=(64, 64, 1)) \n",
        "\n",
        "  x = Flatten()(input_img)\n",
        "  x = Dense(1024)(x)\n",
        "  #x = BatchNormalization()(x)\n",
        "  x = Activation('sigmoid')(x)\n",
        "  x = Dropout(0.2)(x)\n",
        "  x = Dense(784, activation='sigmoid')(x)\n",
        "  output = Reshape((28,28,1))(x)\n",
        "\n",
        "  autoencoder = Model(input_img, output)"
      ],
      "execution_count": 87,
      "outputs": []
    },
    {
      "cell_type": "code",
      "metadata": {
        "id": "gi0gg7CDT2Za"
      },
      "source": [
        " # Real U-net\n",
        "\n",
        "# if Neural_network == 3:\n",
        "#   inputs = Input(shape=(28, 28, 1))\n",
        "#   conv1 = Conv2D(64, 3, activation = 'relu', padding = 'same', kernel_initializer = 'he_normal')(inputs)\n",
        "#   pool1 = MaxPooling2D(pool_size=(2, 2))(conv1)\n",
        "\n",
        "#   conv2 = Conv2D(128, 3, activation = 'relu', padding = 'same', kernel_initializer = 'he_normal')(pool1)\n",
        "#   pool2 = MaxPooling2D(pool_size=(2, 2))(conv2)\n",
        "\n",
        "#   conv3 = Conv2D(256, 3, activation = 'relu', padding = 'same', kernel_initializer = 'he_normal')(pool2)\n",
        "#   pool3 = MaxPooling2D(pool_size=(2, 2))(conv3)\n",
        "\n",
        "#   up8 = Conv2D(128, 2, activation = 'relu', padding = 'same', kernel_initializer = 'he_normal')(UpSampling2D(size = (2,2))(pool3))\n",
        "#   merge8 = concatenate([conv2,up8], axis = 3)\n",
        "#   conv8 = Conv2D(128, 3, activation = 'relu', padding = 'same', kernel_initializer = 'he_normal')(merge8)\n",
        "#   conv8 = Conv2D(128, 3, activation = 'relu', padding = 'same', kernel_initializer = 'he_normal')(conv8)\n",
        "\n",
        "#   up9 = Conv2D(64, 2, activation = 'relu', padding = 'same', kernel_initializer = 'he_normal')(UpSampling2D(size = (2,2))(conv8))\n",
        "#   merge9 = concatenate([conv1,up9], axis = 3)\n",
        "#   conv9 = Conv2D(64, 3, activation = 'relu', padding = 'same', kernel_initializer = 'he_normal')(merge9)\n",
        "#   conv9 = Conv2D(2, 3, activation = 'relu', padding = 'same', kernel_initializer = 'he_normal')(conv9)\n",
        "\n",
        "#   conv10 = Conv2D(1, 1, activation = 'sigmoid')(conv9)\n",
        "\n",
        "#   autoencoder = Model(input = inputs, output = conv10)\n",
        "  "
      ],
      "execution_count": 88,
      "outputs": []
    },
    {
      "cell_type": "code",
      "metadata": {
        "id": "bdisdjAOMwVo"
      },
      "source": [
        "# Autoencoder\n",
        "\n",
        "if Neural_network == 1:\n",
        "\n",
        "  input_img = Input(shape=(64, 64, 1)) \n",
        "\n",
        "  a = 1\n",
        "\n",
        "  x = Conv2D(int(32*a), (3, 3), activation='relu', padding='same')(input_img)\n",
        "  x = Dropout(0.1)(x)\n",
        "  x = MaxPooling2D((2, 2), padding='same')(x)\n",
        "\n",
        "  x = Conv2D(int(64*a), (3, 3), activation='relu', padding='same')(x)\n",
        "  x = Dropout(0.1)(x)\n",
        "  x = MaxPooling2D((2, 2), padding='same')(x)\n",
        "  \n",
        "  x = Conv2D(int(128*a), (3, 3), activation='relu', padding='same')(x)\n",
        "  x = Dropout(0.2)(x)\n",
        "  x = MaxPooling2D((2, 2), padding='same')(x)\n",
        "\n",
        "  x = Flatten()(x)\n",
        "  encoded = Dense(512)(x)\n",
        "\n",
        "  latent_space = Dense(4*4*32)(encoded)\n",
        "  latent_space = Dropout(0.3)(latent_space)\n",
        "  latent_space = Reshape((4,4,32))(latent_space)\n",
        "\n",
        "  x = Conv2D(int(128*a), (3, 3), activation='relu', padding='same')(latent_space)\n",
        "  x = Dropout(0.2)(x)\n",
        "  x = UpSampling2D((2, 2))(x)\n",
        "  x = Conv2D(int(64*a), (3, 3), activation='relu', padding='same')(x)\n",
        "  x = Dropout(0.1)(x)\n",
        "  x = UpSampling2D((2, 2))(x)\n",
        "  x = Conv2D(int(32*a), (3, 3), activation='relu')(x)\n",
        "  x = Dropout(0.1)(x)\n",
        "  x = UpSampling2D((2, 2))(x)\n",
        "  decoded = Conv2D(1, (3, 3), activation='sigmoid', padding='same')(x)\n",
        "\n",
        "\n",
        "  autoencoder = Model(input_img, decoded)"
      ],
      "execution_count": 89,
      "outputs": []
    },
    {
      "cell_type": "code",
      "metadata": {
        "id": "lbyqp6ROXpSi"
      },
      "source": [
        "# with concatenate structure \n",
        "\n",
        "if Neural_network == 3:\n",
        "  \n",
        "  input_img = Input(shape=(64, 64, 1)) \n",
        "\n",
        "  a = 1 # a = 0.5, 1.0, 1.5\n",
        "\n",
        "  x = Conv2D(int(16*a), (3, 3),activation='relu', padding='same',kernel_initializer = 'he_normal')(input_img)\n",
        "\n",
        "  x = MaxPooling2D((2, 2), padding='same')(x)   # 32x32\n",
        "  x1 = Conv2D(int(32*a), (3, 3), activation='relu', padding='same',kernel_initializer = 'he_normal')(x) \n",
        "  x2 = Conv2D(int(32*a), (3, 3), activation='relu', padding='same',kernel_initializer = 'he_normal')(x1) \n",
        "\n",
        "  x3 = MaxPooling2D((2, 2), padding='same')(x2)   #16x16\n",
        "  x4 = Conv2D(int(64*a), (3, 3), activation='relu', padding='same',kernel_initializer = 'he_normal')(x3)\n",
        "  x4 = Conv2D(int(64*a), (3, 3), activation='relu', padding='same',kernel_initializer = 'he_normal')(x4) \n",
        "  x5 = Dropout(0.2)(x4)\n",
        "\n",
        "  x6 = MaxPooling2D((2, 2), padding='same')(x5)   # 8x8\n",
        "  x7 = Conv2D(int(128*a), (3, 3), activation='relu', padding='same',kernel_initializer = 'he_normal')(x6) \n",
        "  x7 = Conv2D(int(128*a), (3, 3), activation='relu', padding='same',kernel_initializer = 'he_normal')(x7)   \n",
        "  x8 = Dropout(0.2)(x7)\n",
        "\n",
        "  x9 = MaxPooling2D((2, 2), padding='same')(x8)   # 4x4\n",
        "  x10 = Conv2D(int(256*a), (3, 3), activation='relu', padding='same',kernel_initializer = 'he_normal')(x9)\n",
        "  x10 = Conv2D(int(256*a), (3, 3), activation='relu', padding='same',kernel_initializer = 'he_normal')(x10)\n",
        "  x10 = Dropout(0.2)(x10)\n",
        "\n",
        "  x = Conv2D(int(128*a), 2, activation = 'relu', padding = 'same', kernel_initializer = 'he_normal')(UpSampling2D(size = (2,2))(x10)) #8x8\n",
        "  merge1 = concatenate([x7,x], axis = 3)\n",
        "  x = Conv2D(int(128*a), 3, activation='relu', padding='same', kernel_initializer = 'he_normal')(merge1)\n",
        "  x = Conv2D(int(128*a), 3, activation='relu', padding='same', kernel_initializer = 'he_normal')(x)  \n",
        "\n",
        "  x = Conv2D(int(64*a), 2, activation = 'relu', padding = 'same', kernel_initializer = 'he_normal')(UpSampling2D(size = (2,2))(x)) # 16x16\n",
        "  merge2 = concatenate([x4,x], axis = 3)\n",
        "  x = Conv2D(int(64*a), (3, 3), activation='relu', padding='same', kernel_initializer = 'he_normal')(merge2)\n",
        "  x = Conv2D(int(64*a), (3, 3), activation='relu', padding='same', kernel_initializer = 'he_normal')(x)\n",
        "\n",
        "  x = Conv2D(int(32*a), 2, activation = 'relu', padding = 'same', kernel_initializer = 'he_normal')(UpSampling2D(size = (2,2))(x)) #32x32\n",
        "  merge3 = concatenate([x1,x], axis = 3)\n",
        "  #x = Conv2D(32, (3, 3), activation='relu', padding='same', kernel_initializer = 'he_normal')(merge3)\n",
        "  #x = Conv2D(32, (3, 3), activation='relu', padding='same', kernel_initializer = 'he_normal')(x)\n",
        "\n",
        "  x = Conv2D(int(32*a), (5, 5), activation='sigmoid', padding='valid')(merge3)  #28x28\n",
        "  decoded = Conv2D(1, (3, 3), activation='sigmoid', padding='same')(x)\n",
        "\n",
        "  autoencoder = Model(input_img, decoded)\n",
        "\n"
      ],
      "execution_count": 90,
      "outputs": []
    },
    {
      "cell_type": "code",
      "metadata": {
        "id": "35S172Y1vtzC"
      },
      "source": [
        "# U-net 28x28 inputs\n",
        "\n",
        "if Neural_network == 7:\n",
        "  \n",
        "  input_img = Input(shape=(28, 28, 1)) \n",
        "\n",
        "  a = 1 # a = 0.5, 1.0, 1.5\n",
        "\n",
        "  x = Conv2D(int(16*a), (3, 3),activation='relu', padding='same',kernel_initializer = 'he_normal')(input_img)  #28x28\n",
        "\n",
        "  x1 = Conv2D(int(32*a), (3, 3), activation='relu', padding='same',kernel_initializer = 'he_normal')(x) \n",
        "  x2 = Conv2D(int(32*a), (3, 3), activation='relu', padding='same',kernel_initializer = 'he_normal')(x1) \n",
        "\n",
        "  x3 = MaxPooling2D((2, 2), padding='same')(x2)   #14x14\n",
        "  x4 = Conv2D(int(64*a), (3, 3), activation='relu', padding='same',kernel_initializer = 'he_normal')(x3)\n",
        "  x4 = Conv2D(int(64*a), (3, 3), activation='relu', padding='same',kernel_initializer = 'he_normal')(x4) \n",
        "  x5 = Dropout(0.2)(x4)\n",
        "\n",
        "  x6 = MaxPooling2D((2, 2), padding='same')(x5)   # 7x7\n",
        "  x7 = Conv2D(int(128*a), (3, 3), activation='relu', padding='same',kernel_initializer = 'he_normal')(x6) \n",
        "  x7 = Conv2D(int(128*a), (3, 3), activation='relu', padding='same',kernel_initializer = 'he_normal')(x7)   \n",
        "  x8 = Dropout(0.2)(x7)\n",
        "\n",
        "  x9 = MaxPooling2D((2, 2), padding='same')(x8)   # 4x4\n",
        "  x10 = Conv2D(int(256*a), (3, 3), activation='relu', padding='same',kernel_initializer = 'he_normal')(x9)\n",
        "  x10 = Conv2D(int(256*a), (3, 3), activation='relu', padding='same',kernel_initializer = 'he_normal')(x10)\n",
        "  x10 = Dropout(0.2)(x10)\n",
        "\n",
        "  x = Conv2D(int(128*a), 2, activation = 'relu', padding = 'valid', kernel_initializer = 'he_normal')(UpSampling2D(size = (2,2))(x10)) #7x7\n",
        "  merge1 = concatenate([x7,x], axis = 3)\n",
        "  x = Conv2D(int(128*a), 3, activation='relu', padding='same', kernel_initializer = 'he_normal')(merge1)\n",
        "  x = Conv2D(int(128*a), 3, activation='relu', padding='same', kernel_initializer = 'he_normal')(x)  \n",
        "\n",
        "  x = Conv2D(int(64*a), 2, activation = 'relu', padding = 'same', kernel_initializer = 'he_normal')(UpSampling2D(size = (2,2))(x)) # 14x14\n",
        "  merge2 = concatenate([x4,x], axis = 3)\n",
        "  x = Conv2D(int(64*a), (3, 3), activation='relu', padding='same', kernel_initializer = 'he_normal')(merge2)\n",
        "  x = Conv2D(int(64*a), (3, 3), activation='relu', padding='same', kernel_initializer = 'he_normal')(x)\n",
        "\n",
        "  x = Conv2D(int(32*a), 2, activation = 'relu', padding = 'same', kernel_initializer = 'he_normal')(UpSampling2D(size = (2,2))(x)) #28x28\n",
        "  merge3 = concatenate([x1,x], axis = 3)\n",
        "  #x = Conv2D(32, (3, 3), activation='relu', padding='same', kernel_initializer = 'he_normal')(merge3)\n",
        "  #x = Conv2D(32, (3, 3), activation='relu', padding='same', kernel_initializer = 'he_normal')(x)\n",
        "\n",
        "  x = Conv2D(int(32*a), (3, 3), activation='sigmoid', padding='same')(merge3)  #28x28\n",
        "  decoded = Conv2D(1, (3, 3), activation='sigmoid', padding='same')(x)\n",
        "\n",
        "  autoencoder = Model(input_img, decoded)\n"
      ],
      "execution_count": 91,
      "outputs": []
    },
    {
      "cell_type": "code",
      "metadata": {
        "id": "mp-b_FTb1Mmf"
      },
      "source": [
        "# Optimization with concatenate structure \n",
        "\n",
        "if Neural_network == 4:\n",
        "  \n",
        "  input_img = Input(shape=(64, 64, 1)) \n",
        "\n",
        "  a = 4 # a = 0.5, 1.0, 1.5\n",
        "\n",
        "  x = Conv2D(int(16*a), (3, 3), padding='same',kernel_initializer = 'he_normal')(input_img)\n",
        "  x = BatchNormalization()(x)\n",
        "  x = Activation('relu')(x)\n",
        "\n",
        "  x = MaxPooling2D((2, 2), padding='same')(x)   # 32x32\n",
        "  x1 = Conv2D(int(32*a), (3, 3), padding='same',kernel_initializer = 'he_normal')(x) \n",
        "  x1 = BatchNormalization()(x1)\n",
        "  x1 = Activation('relu')(x1)\n",
        "  x2 = Conv2D(int(32*a), (3, 3), padding='same',kernel_initializer = 'he_normal')(x1) \n",
        "  x2 = BatchNormalization()(x2)\n",
        "  x2 = Activation('relu')(x2)\n",
        "\n",
        "\n",
        "  x3 = MaxPooling2D((2, 2), padding='same')(x2)   #16x16\n",
        "  x4 = Conv2D(int(64*a), (3, 3),  padding='same',kernel_initializer = 'he_normal')(x3)\n",
        "  x4 = BatchNormalization()(x4)\n",
        "  x4 = Activation('relu')(x4)\n",
        "  x5 = Conv2D(int(64*a), (3, 3), padding='same',kernel_initializer = 'he_normal')(x4)\n",
        "  x5 = BatchNormalization()(x5)\n",
        "  x5 = Activation('relu')(x5) \n",
        "  #x5 = Dropout(0.2)(x5)\n",
        "\n",
        "\n",
        "  x6 = MaxPooling2D((2, 2), padding='same')(x5)   # 8x8\n",
        "  x7 = Conv2D(int(128*a), (3, 3),  padding='same',kernel_initializer = 'he_normal')(x6)\n",
        "  x7 = BatchNormalization()(x7)\n",
        "  x7 = Activation('relu')(x7) \n",
        "  x8 = Conv2D(int(128*a), (3, 3),  padding='same',kernel_initializer = 'he_normal')(x7) \n",
        "  x8 = BatchNormalization()(x8)\n",
        "  x8 = Activation('relu')(x8)  \n",
        "  #x8 = Dropout(0.2)(x8)\n",
        "\n",
        "  x9 = MaxPooling2D((2, 2), padding='same')(x8)   # 4x4\n",
        "  x10 = Conv2D(int(256*a), (3, 3), padding='same',kernel_initializer = 'he_normal')(x9)\n",
        "  x10 = BatchNormalization()(x10)\n",
        "  x10 = Activation('relu')(x10)\n",
        "  x10 = Conv2D(int(256*a), (3, 3), padding='same',kernel_initializer = 'he_normal')(x10)\n",
        "  x10 = BatchNormalization()(x10)\n",
        "  x10 = Activation('relu')(x10)\n",
        "  #x10 = Dropout(0.2)(x10)\n",
        "\n",
        "  x = Conv2D(int(128*a), 2,  padding = 'same', kernel_initializer = 'he_normal')(UpSampling2D(size = (2,2))(x10)) #8x8\n",
        "  x = BatchNormalization()(x)\n",
        "  x = Activation('relu')(x)\n",
        "  merge1 = concatenate([x7,x], axis = 3)\n",
        "  x = Conv2D(int(128*a), 3, padding='same', kernel_initializer = 'he_normal')(merge1)\n",
        "  x = BatchNormalization()(x)\n",
        "  x = Activation('relu')(x)\n",
        "  x = Conv2D(int(128*a), 3, padding='same', kernel_initializer = 'he_normal')(x) \n",
        "  x = BatchNormalization()(x)\n",
        "  x = Activation('relu')(x)\n",
        "\n",
        "  x = Conv2D(int(64*a), 2, padding = 'same', kernel_initializer = 'he_normal')(UpSampling2D(size = (2,2))(x)) # 16x16\n",
        "  x = BatchNormalization()(x)\n",
        "  x = Activation('relu')(x)\n",
        "  merge2 = concatenate([x4,x], axis = 3)\n",
        "  x = Conv2D(int(64*a), (3, 3), padding='same', kernel_initializer = 'he_normal')(merge2)\n",
        "  x = BatchNormalization()(x)\n",
        "  x = Activation('relu')(x)\n",
        "  x = Conv2D(int(64*a), (3, 3),  padding='same', kernel_initializer = 'he_normal')(x)\n",
        "  x = BatchNormalization()(x)\n",
        "  x = Activation('relu')(x)\n",
        "\n",
        "  x = Conv2D(int(32*a), 3,  padding = 'same', kernel_initializer = 'he_normal')(UpSampling2D(size = (2,2))(x)) #32x32\n",
        "  x = BatchNormalization()(x)\n",
        "  x = Activation('relu')(x)\n",
        "  merge3 = concatenate([x1,x], axis = 3)\n",
        "  x = Conv2D(32, (3, 3),  padding='same', kernel_initializer = 'he_normal')(merge3)\n",
        "  x = BatchNormalization()(x)\n",
        "  x = Activation('relu')(x)\n",
        "  x = Conv2D(32, (3, 3),  padding='same', kernel_initializer = 'he_normal')(x)\n",
        "  x = BatchNormalization()(x)\n",
        "  x = Activation('relu')(x)\n",
        "\n",
        "  x = Conv2D(int(32*a), (5, 5), padding='valid')(merge3)  #28x28\n",
        "  x = BatchNormalization()(x)\n",
        "  x = Activation('sigmoid')(x)\n",
        "  decoded = Conv2D(1, (3, 3), activation='sigmoid', padding='same')(x)\n",
        "\n",
        "  autoencoder = Model(input_img, decoded)\n"
      ],
      "execution_count": 92,
      "outputs": []
    },
    {
      "cell_type": "code",
      "metadata": {
        "id": "HWqEHfoWemLI"
      },
      "source": [
        "# Optimization with delete layers \n",
        "\n",
        "if Neural_network == 5:\n",
        "  \n",
        "  input_img = Input(shape=(64, 64, 1)) \n",
        "\n",
        "  a = 0.5 # a = 0.5, 1.0, 1.5\n",
        "\n",
        "  x = Conv2D(int(16*a), (3, 3),activation='relu', padding='same',kernel_initializer = 'he_normal')(input_img)\n",
        "\n",
        "  x = MaxPooling2D((2, 2), padding='same')(x)   # 32x32\n",
        "  x1 = Conv2D(int(32*a), (3, 3), activation='relu', padding='same',kernel_initializer = 'he_normal')(x) \n",
        "  x2 = Conv2D(int(32*a), (3, 3), activation='relu', padding='same',kernel_initializer = 'he_normal')(x1) \n",
        "\n",
        "  x3 = MaxPooling2D((2, 2), padding='same')(x2)   #16x16\n",
        "  x4 = Conv2D(int(64*a), (3, 3), activation='relu', padding='same',kernel_initializer = 'he_normal')(x3)\n",
        "  x4 = Conv2D(int(64*a), (3, 3), activation='relu', padding='same',kernel_initializer = 'he_normal')(x4) \n",
        "  x5 = Dropout(0.2)(x4)\n",
        "\n",
        "  x6 = MaxPooling2D((2, 2), padding='same')(x5)   # 8x8\n",
        "  x7 = Conv2D(int(128*a), (3, 3), activation='relu', padding='same',kernel_initializer = 'he_normal')(x6) \n",
        "  x7 = Conv2D(int(128*a), (3, 3), activation='relu', padding='same',kernel_initializer = 'he_normal')(x7)   \n",
        "  x8 = Dropout(0.2)(x7)\n",
        "\n",
        "  # x9 = MaxPooling2D((2, 2), padding='same')(x8)   # 4x4\n",
        "  # x10 = Conv2D(int(256*a), (3, 3), activation='relu', padding='same',kernel_initializer = 'he_normal')(x9)\n",
        "  # x10 = Conv2D(int(256*a), (3, 3), activation='relu', padding='same',kernel_initializer = 'he_normal')(x10)\n",
        "  # x10 = Dropout(0.2)(x10)\n",
        "\n",
        "  # x = Conv2D(int(128*a), 2, activation = 'relu', padding = 'same', kernel_initializer = 'he_normal')(UpSampling2D(size = (2,2))(x10)) #8x8\n",
        "  # merge1 = concatenate([x7,x], axis = 3)\n",
        "  # x = Conv2D(int(128*a), 3, activation='relu', padding='same', kernel_initializer = 'he_normal')(merge1)\n",
        "  # x = Conv2D(int(128*a), 3, activation='relu', padding='same', kernel_initializer = 'he_normal')(x)  \n",
        "\n",
        "  x = Conv2D(int(64*a), 2, activation = 'relu', padding = 'same', kernel_initializer = 'he_normal')(UpSampling2D(size = (2,2))(x8)) # 16x16\n",
        "  merge2 = concatenate([x4,x], axis = 3)\n",
        "  x = Conv2D(int(64*a), (3, 3), activation='relu', padding='same', kernel_initializer = 'he_normal')(merge2)\n",
        "  x = Conv2D(int(64*a), (3, 3), activation='relu', padding='same', kernel_initializer = 'he_normal')(x)\n",
        "\n",
        "  x = Conv2D(int(32*a), 2, activation = 'relu', padding = 'same', kernel_initializer = 'he_normal')(UpSampling2D(size = (2,2))(x5)) #32x32\n",
        "  merge3 = concatenate([x1,x], axis = 3)\n",
        "  #x = Conv2D(32, (3, 3), activation='relu', padding='same', kernel_initializer = 'he_normal')(merge3)\n",
        "  #x = Conv2D(32, (3, 3), activation='relu', padding='same', kernel_initializer = 'he_normal')(x)\n",
        "\n",
        "  x = Conv2D(int(32*a), (5, 5), activation='sigmoid', padding='valid')(merge3)  #28x28\n",
        "  decoded = Conv2D(1, (3, 3), activation='sigmoid', padding='same')(x)\n",
        "\n",
        "  autoencoder = Model(input_img, decoded)\n"
      ],
      "execution_count": 93,
      "outputs": []
    },
    {
      "cell_type": "code",
      "metadata": {
        "id": "w5MS7zCpN-ig"
      },
      "source": [
        "# VGG-type CNN\n",
        "\n",
        "if Neural_network == 2:\n",
        "\n",
        "  autoencoder = Sequential()\n",
        "  autoencoder.add(Conv2D(16, kernel_size=(3, 3), activation='relu', padding = 'same', input_shape= (64,64,1) ) )\n",
        "  autoencoder.add(Conv2D(32, (3, 3), activation='relu', padding = 'same'))\n",
        "  autoencoder.add(MaxPooling2D(pool_size=(2, 2)))\n",
        "  autoencoder.add(Dropout(0.2) )\n",
        "  autoencoder.add(Flatten())\n",
        "  autoencoder.add( Dense( 784, activation='relu'))\n",
        "  autoencoder.add( Dropout(0.2) )\n",
        "  autoencoder.add( Dense(28*28, activation='sigmoid'))\n",
        "  autoencoder.add( Reshape((28,28,1)) )"
      ],
      "execution_count": 94,
      "outputs": []
    },
    {
      "cell_type": "code",
      "metadata": {
        "id": "QtBA0MXNi2y6"
      },
      "source": [
        "# Reverse VGG-type CNN\n",
        "\n",
        "if Neural_network == 6:\n",
        "\n",
        "  autoencoder = Sequential()\n",
        "  autoencoder.add(Flatten(input_shape= (64,64,1)))\n",
        "  autoencoder.add(Dense(1024, activation='relu'))\n",
        "  autoencoder.add( Dropout(0.2) )\n",
        "  autoencoder.add( Dense(56*56, activation='relu'))\n",
        "  autoencoder.add( Reshape((56,56,1)) )\n",
        "\n",
        "  autoencoder.add(Conv2D(16, kernel_size=(3, 3), activation='relu', padding = 'same' ) )\n",
        "  autoencoder.add(Conv2D(32, (3, 3), activation='sigmoid', padding = 'same'))\n",
        "  autoencoder.add(MaxPooling2D(pool_size=(2, 2)))\n",
        "  autoencoder.add(Dropout(0.2) )\n",
        "  autoencoder.add(Conv2D(1, (3, 3), activation='sigmoid', padding = 'same'))\n"
      ],
      "execution_count": 95,
      "outputs": []
    },
    {
      "cell_type": "code",
      "metadata": {
        "id": "AB81UrxrGpy9",
        "colab": {
          "base_uri": "https://localhost:8080/"
        },
        "outputId": "63dff992-0549-4eb9-8e4e-f7117b2e1c2c"
      },
      "source": [
        "autoencoder.summary()"
      ],
      "execution_count": 96,
      "outputs": [
        {
          "output_type": "stream",
          "text": [
            "Model: \"model_3\"\n",
            "__________________________________________________________________________________________________\n",
            "Layer (type)                    Output Shape         Param #     Connected to                     \n",
            "==================================================================================================\n",
            "input_4 (InputLayer)            [(None, 64, 64, 1)]  0                                            \n",
            "__________________________________________________________________________________________________\n",
            "conv2d_60 (Conv2D)              (None, 64, 64, 64)   640         input_4[0][0]                    \n",
            "__________________________________________________________________________________________________\n",
            "batch_normalization_57 (BatchNo (None, 64, 64, 64)   256         conv2d_60[0][0]                  \n",
            "__________________________________________________________________________________________________\n",
            "activation_57 (Activation)      (None, 64, 64, 64)   0           batch_normalization_57[0][0]     \n",
            "__________________________________________________________________________________________________\n",
            "max_pooling2d_12 (MaxPooling2D) (None, 32, 32, 64)   0           activation_57[0][0]              \n",
            "__________________________________________________________________________________________________\n",
            "conv2d_61 (Conv2D)              (None, 32, 32, 128)  73856       max_pooling2d_12[0][0]           \n",
            "__________________________________________________________________________________________________\n",
            "batch_normalization_58 (BatchNo (None, 32, 32, 128)  512         conv2d_61[0][0]                  \n",
            "__________________________________________________________________________________________________\n",
            "activation_58 (Activation)      (None, 32, 32, 128)  0           batch_normalization_58[0][0]     \n",
            "__________________________________________________________________________________________________\n",
            "conv2d_62 (Conv2D)              (None, 32, 32, 128)  147584      activation_58[0][0]              \n",
            "__________________________________________________________________________________________________\n",
            "batch_normalization_59 (BatchNo (None, 32, 32, 128)  512         conv2d_62[0][0]                  \n",
            "__________________________________________________________________________________________________\n",
            "activation_59 (Activation)      (None, 32, 32, 128)  0           batch_normalization_59[0][0]     \n",
            "__________________________________________________________________________________________________\n",
            "max_pooling2d_13 (MaxPooling2D) (None, 16, 16, 128)  0           activation_59[0][0]              \n",
            "__________________________________________________________________________________________________\n",
            "conv2d_63 (Conv2D)              (None, 16, 16, 256)  295168      max_pooling2d_13[0][0]           \n",
            "__________________________________________________________________________________________________\n",
            "batch_normalization_60 (BatchNo (None, 16, 16, 256)  1024        conv2d_63[0][0]                  \n",
            "__________________________________________________________________________________________________\n",
            "activation_60 (Activation)      (None, 16, 16, 256)  0           batch_normalization_60[0][0]     \n",
            "__________________________________________________________________________________________________\n",
            "conv2d_64 (Conv2D)              (None, 16, 16, 256)  590080      activation_60[0][0]              \n",
            "__________________________________________________________________________________________________\n",
            "batch_normalization_61 (BatchNo (None, 16, 16, 256)  1024        conv2d_64[0][0]                  \n",
            "__________________________________________________________________________________________________\n",
            "activation_61 (Activation)      (None, 16, 16, 256)  0           batch_normalization_61[0][0]     \n",
            "__________________________________________________________________________________________________\n",
            "max_pooling2d_14 (MaxPooling2D) (None, 8, 8, 256)    0           activation_61[0][0]              \n",
            "__________________________________________________________________________________________________\n",
            "conv2d_65 (Conv2D)              (None, 8, 8, 512)    1180160     max_pooling2d_14[0][0]           \n",
            "__________________________________________________________________________________________________\n",
            "batch_normalization_62 (BatchNo (None, 8, 8, 512)    2048        conv2d_65[0][0]                  \n",
            "__________________________________________________________________________________________________\n",
            "activation_62 (Activation)      (None, 8, 8, 512)    0           batch_normalization_62[0][0]     \n",
            "__________________________________________________________________________________________________\n",
            "conv2d_66 (Conv2D)              (None, 8, 8, 512)    2359808     activation_62[0][0]              \n",
            "__________________________________________________________________________________________________\n",
            "batch_normalization_63 (BatchNo (None, 8, 8, 512)    2048        conv2d_66[0][0]                  \n",
            "__________________________________________________________________________________________________\n",
            "activation_63 (Activation)      (None, 8, 8, 512)    0           batch_normalization_63[0][0]     \n",
            "__________________________________________________________________________________________________\n",
            "max_pooling2d_15 (MaxPooling2D) (None, 4, 4, 512)    0           activation_63[0][0]              \n",
            "__________________________________________________________________________________________________\n",
            "conv2d_67 (Conv2D)              (None, 4, 4, 1024)   4719616     max_pooling2d_15[0][0]           \n",
            "__________________________________________________________________________________________________\n",
            "batch_normalization_64 (BatchNo (None, 4, 4, 1024)   4096        conv2d_67[0][0]                  \n",
            "__________________________________________________________________________________________________\n",
            "activation_64 (Activation)      (None, 4, 4, 1024)   0           batch_normalization_64[0][0]     \n",
            "__________________________________________________________________________________________________\n",
            "conv2d_68 (Conv2D)              (None, 4, 4, 1024)   9438208     activation_64[0][0]              \n",
            "__________________________________________________________________________________________________\n",
            "batch_normalization_65 (BatchNo (None, 4, 4, 1024)   4096        conv2d_68[0][0]                  \n",
            "__________________________________________________________________________________________________\n",
            "activation_65 (Activation)      (None, 4, 4, 1024)   0           batch_normalization_65[0][0]     \n",
            "__________________________________________________________________________________________________\n",
            "up_sampling2d_9 (UpSampling2D)  (None, 8, 8, 1024)   0           activation_65[0][0]              \n",
            "__________________________________________________________________________________________________\n",
            "conv2d_69 (Conv2D)              (None, 8, 8, 512)    2097664     up_sampling2d_9[0][0]            \n",
            "__________________________________________________________________________________________________\n",
            "batch_normalization_66 (BatchNo (None, 8, 8, 512)    2048        conv2d_69[0][0]                  \n",
            "__________________________________________________________________________________________________\n",
            "activation_66 (Activation)      (None, 8, 8, 512)    0           batch_normalization_66[0][0]     \n",
            "__________________________________________________________________________________________________\n",
            "concatenate_9 (Concatenate)     (None, 8, 8, 1024)   0           activation_62[0][0]              \n",
            "                                                                 activation_66[0][0]              \n",
            "__________________________________________________________________________________________________\n",
            "conv2d_70 (Conv2D)              (None, 8, 8, 512)    4719104     concatenate_9[0][0]              \n",
            "__________________________________________________________________________________________________\n",
            "batch_normalization_67 (BatchNo (None, 8, 8, 512)    2048        conv2d_70[0][0]                  \n",
            "__________________________________________________________________________________________________\n",
            "activation_67 (Activation)      (None, 8, 8, 512)    0           batch_normalization_67[0][0]     \n",
            "__________________________________________________________________________________________________\n",
            "conv2d_71 (Conv2D)              (None, 8, 8, 512)    2359808     activation_67[0][0]              \n",
            "__________________________________________________________________________________________________\n",
            "batch_normalization_68 (BatchNo (None, 8, 8, 512)    2048        conv2d_71[0][0]                  \n",
            "__________________________________________________________________________________________________\n",
            "activation_68 (Activation)      (None, 8, 8, 512)    0           batch_normalization_68[0][0]     \n",
            "__________________________________________________________________________________________________\n",
            "up_sampling2d_10 (UpSampling2D) (None, 16, 16, 512)  0           activation_68[0][0]              \n",
            "__________________________________________________________________________________________________\n",
            "conv2d_72 (Conv2D)              (None, 16, 16, 256)  524544      up_sampling2d_10[0][0]           \n",
            "__________________________________________________________________________________________________\n",
            "batch_normalization_69 (BatchNo (None, 16, 16, 256)  1024        conv2d_72[0][0]                  \n",
            "__________________________________________________________________________________________________\n",
            "activation_69 (Activation)      (None, 16, 16, 256)  0           batch_normalization_69[0][0]     \n",
            "__________________________________________________________________________________________________\n",
            "concatenate_10 (Concatenate)    (None, 16, 16, 512)  0           activation_60[0][0]              \n",
            "                                                                 activation_69[0][0]              \n",
            "__________________________________________________________________________________________________\n",
            "conv2d_73 (Conv2D)              (None, 16, 16, 256)  1179904     concatenate_10[0][0]             \n",
            "__________________________________________________________________________________________________\n",
            "batch_normalization_70 (BatchNo (None, 16, 16, 256)  1024        conv2d_73[0][0]                  \n",
            "__________________________________________________________________________________________________\n",
            "activation_70 (Activation)      (None, 16, 16, 256)  0           batch_normalization_70[0][0]     \n",
            "__________________________________________________________________________________________________\n",
            "conv2d_74 (Conv2D)              (None, 16, 16, 256)  590080      activation_70[0][0]              \n",
            "__________________________________________________________________________________________________\n",
            "batch_normalization_71 (BatchNo (None, 16, 16, 256)  1024        conv2d_74[0][0]                  \n",
            "__________________________________________________________________________________________________\n",
            "activation_71 (Activation)      (None, 16, 16, 256)  0           batch_normalization_71[0][0]     \n",
            "__________________________________________________________________________________________________\n",
            "up_sampling2d_11 (UpSampling2D) (None, 32, 32, 256)  0           activation_71[0][0]              \n",
            "__________________________________________________________________________________________________\n",
            "conv2d_75 (Conv2D)              (None, 32, 32, 128)  295040      up_sampling2d_11[0][0]           \n",
            "__________________________________________________________________________________________________\n",
            "batch_normalization_72 (BatchNo (None, 32, 32, 128)  512         conv2d_75[0][0]                  \n",
            "__________________________________________________________________________________________________\n",
            "activation_72 (Activation)      (None, 32, 32, 128)  0           batch_normalization_72[0][0]     \n",
            "__________________________________________________________________________________________________\n",
            "concatenate_11 (Concatenate)    (None, 32, 32, 256)  0           activation_58[0][0]              \n",
            "                                                                 activation_72[0][0]              \n",
            "__________________________________________________________________________________________________\n",
            "conv2d_78 (Conv2D)              (None, 28, 28, 128)  819328      concatenate_11[0][0]             \n",
            "__________________________________________________________________________________________________\n",
            "batch_normalization_75 (BatchNo (None, 28, 28, 128)  512         conv2d_78[0][0]                  \n",
            "__________________________________________________________________________________________________\n",
            "activation_75 (Activation)      (None, 28, 28, 128)  0           batch_normalization_75[0][0]     \n",
            "__________________________________________________________________________________________________\n",
            "conv2d_79 (Conv2D)              (None, 28, 28, 1)    1153        activation_75[0][0]              \n",
            "==================================================================================================\n",
            "Total params: 31,417,601\n",
            "Trainable params: 31,404,673\n",
            "Non-trainable params: 12,928\n",
            "__________________________________________________________________________________________________\n"
          ],
          "name": "stdout"
        }
      ]
    },
    {
      "cell_type": "code",
      "metadata": {
        "id": "Vc6Zt2aYfZz8"
      },
      "source": [
        "# U-net original version backup\n",
        "\n",
        "# if Neural_network == 1:\n",
        "\n",
        "#   input_img = Input(shape=(28, 28, 1)) \n",
        "  \n",
        "#   x = Conv2D(32, (3, 3), activation='relu', padding='same')(input_img)\n",
        "#   x = Dropout(0.1)(x)\n",
        "#   x = MaxPooling2D((2, 2), padding='same')(x)\n",
        "#   x = Conv2D(64, (3, 3), activation='relu', padding='same')(x)\n",
        "#   x = Dropout(0.1)(x)\n",
        "#   x = MaxPooling2D((2, 2), padding='same')(x)\n",
        "#   x = Conv2D(128, (3, 3), activation='relu', padding='same')(x)\n",
        "#   x = Dropout(0.2)(x)\n",
        "#   x = MaxPooling2D((2, 2), padding='same')(x)\n",
        "#   x = Flatten()(x)\n",
        "#   encoded = Dense(32)(x)  # The dimension of the real latent space\n",
        "\n",
        "#   latent_space = Dense(4*4*32)(encoded)\n",
        "#   latent_space = Dropout(0.3)(latent_space)\n",
        "#   latent_space = Reshape((4,4,32))(latent_space)\n",
        "\n",
        "#   x = Conv2D(128, (3, 3), activation='relu', padding='same')(latent_space)\n",
        "#   x = Dropout(0.2)(x)\n",
        "#   x = UpSampling2D((2, 2))(x)\n",
        "#   x = Conv2D(64, (3, 3), activation='relu', padding='same')(x)\n",
        "#   x = Dropout(0.1)(x)\n",
        "#   x = UpSampling2D((2, 2))(x)\n",
        "#   x = Conv2D(32, (3, 3), activation='relu')(x)\n",
        "#   x = Dropout(0.1)(x)\n",
        "#   x = UpSampling2D((2, 2))(x)\n",
        "#   decoded = Conv2D(1, (3, 3), activation='sigmoid', padding='same')(x)\n",
        "\n",
        "\n",
        "#   autoencoder = Model(input_img, decoded)"
      ],
      "execution_count": 97,
      "outputs": []
    },
    {
      "cell_type": "code",
      "metadata": {
        "id": "Hem-Zp90CxO0"
      },
      "source": [
        "# if Neural_network == 2:\n",
        "\n",
        "#   autoencoder = Sequential()\n",
        "#   autoencoder.add(Conv2D(32, kernel_size=(3, 3),\n",
        "#                     activation='relu'\n",
        "#         ,input_shape= (28,28,1) \\\n",
        "#                     ) )\n",
        "#   autoencoder.add(Conv2D(64, (3, 3), activation='relu'))\n",
        "#   autoencoder.add(MaxPooling2D(pool_size=(2, 2)))\n",
        "#   autoencoder.add( Dropout(0.2) )\n",
        "#   autoencoder.add(Flatten())\n",
        "#   autoencoder.add(Dense(128, activation='relu'))\n",
        "#   autoencoder.add( Dropout(0.2) )\n",
        "#   autoencoder.add( Dense(28*28, activation='sigmoid'))\n",
        "#   autoencoder.add( Reshape((28,28,1)) )"
      ],
      "execution_count": 98,
      "outputs": []
    },
    {
      "cell_type": "markdown",
      "metadata": {
        "id": "RpMy_wnQGym0"
      },
      "source": [
        "Compile the neural network"
      ]
    },
    {
      "cell_type": "code",
      "metadata": {
        "id": "d__wpvmaG05r"
      },
      "source": [
        "import tensorflow as tf\n",
        "import keras\n",
        "\n",
        "def ssim_loss(y_true, y_pred):\n",
        "  return 1.0-tf.reduce_mean(tf.image.ssim(y_true, y_pred, 2.0))"
      ],
      "execution_count": 99,
      "outputs": []
    },
    {
      "cell_type": "code",
      "metadata": {
        "id": "XW0onPzSG4JF"
      },
      "source": [
        "autoencoder.compile(optimizer = 'adam', loss = ssim_loss , metrics = [ssim_loss, 'accuracy'])\n",
        "# autoencoder.compile(optimizer = 'adam', loss = 'binary_crossentropy' , metrics = [ssim_loss, 'accuracy'])\n",
        "# autoencoder.compile(optimizer = 'adam', loss = 'mean_squared_error' , metrics = [ssim_loss, 'accuracy'])"
      ],
      "execution_count": 100,
      "outputs": []
    },
    {
      "cell_type": "markdown",
      "metadata": {
        "id": "oAF6vpvuG-kI"
      },
      "source": [
        "Train the neural network "
      ]
    },
    {
      "cell_type": "code",
      "metadata": {
        "id": "B3pPg_iVHAks"
      },
      "source": [
        "from keras.callbacks import EarlyStopping, ModelCheckpoint\n",
        "\n",
        "# Set callback functions to early stop training and save the best model so far\n",
        "callbacks = [EarlyStopping(monitor='val_loss', patience=20),     #patience represented epochs waited.\n",
        "         ModelCheckpoint(filepath='best_model.h5', monitor='val_loss', save_best_only=True)]"
      ],
      "execution_count": 101,
      "outputs": []
    },
    {
      "cell_type": "code",
      "metadata": {
        "id": "WE3ECKPSsWES"
      },
      "source": [
        "import time"
      ],
      "execution_count": 102,
      "outputs": []
    },
    {
      "cell_type": "code",
      "metadata": {
        "id": "YOxgW864HDmW",
        "colab": {
          "base_uri": "https://localhost:8080/"
        },
        "outputId": "a674a898-02f2-41ca-8988-82e8bbf22570"
      },
      "source": [
        "start = time.time()\n",
        "history = autoencoder.fit(train_imgs, train_origins,\n",
        "                epochs=10,\n",
        "                batch_size=256,\n",
        "                callbacks=callbacks, # Early stopping\n",
        "                shuffle=True,\n",
        "                validation_data=(test_imgs, test_origins))\n",
        "end  = time.time()"
      ],
      "execution_count": 103,
      "outputs": [
        {
          "output_type": "stream",
          "text": [
            "Epoch 1/10\n",
            "51/51 [==============================] - 61s 1s/step - loss: 0.7438 - ssim_loss: 0.7438 - accuracy: 0.7646 - val_loss: 0.9097 - val_ssim_loss: 0.9098 - val_accuracy: 0.8028\n",
            "Epoch 2/10\n",
            "51/51 [==============================] - 38s 750ms/step - loss: 0.5764 - ssim_loss: 0.5764 - accuracy: 0.7763 - val_loss: 0.7685 - val_ssim_loss: 0.7686 - val_accuracy: 0.7795\n",
            "Epoch 3/10\n",
            "51/51 [==============================] - 38s 750ms/step - loss: 0.4507 - ssim_loss: 0.4507 - accuracy: 0.7878 - val_loss: 0.7192 - val_ssim_loss: 0.7194 - val_accuracy: 0.7744\n",
            "Epoch 4/10\n",
            "51/51 [==============================] - 39s 757ms/step - loss: 0.3846 - ssim_loss: 0.3846 - accuracy: 0.7931 - val_loss: 0.7530 - val_ssim_loss: 0.7531 - val_accuracy: 0.7727\n",
            "Epoch 5/10\n",
            "51/51 [==============================] - 39s 756ms/step - loss: 0.3266 - ssim_loss: 0.3266 - accuracy: 0.7966 - val_loss: 0.7047 - val_ssim_loss: 0.7049 - val_accuracy: 0.7889\n",
            "Epoch 6/10\n",
            "51/51 [==============================] - 38s 754ms/step - loss: 0.2891 - ssim_loss: 0.2891 - accuracy: 0.7989 - val_loss: 0.6142 - val_ssim_loss: 0.6144 - val_accuracy: 0.7992\n",
            "Epoch 7/10\n",
            "51/51 [==============================] - 38s 746ms/step - loss: 0.2576 - ssim_loss: 0.2576 - accuracy: 0.8000 - val_loss: 0.5520 - val_ssim_loss: 0.5520 - val_accuracy: 0.7972\n",
            "Epoch 8/10\n",
            "51/51 [==============================] - 39s 758ms/step - loss: 0.2307 - ssim_loss: 0.2307 - accuracy: 0.8015 - val_loss: 0.4960 - val_ssim_loss: 0.4962 - val_accuracy: 0.7970\n",
            "Epoch 9/10\n",
            "51/51 [==============================] - 38s 747ms/step - loss: 0.2166 - ssim_loss: 0.2166 - accuracy: 0.8022 - val_loss: 0.4119 - val_ssim_loss: 0.4122 - val_accuracy: 0.7984\n",
            "Epoch 10/10\n",
            "51/51 [==============================] - 38s 755ms/step - loss: 0.1918 - ssim_loss: 0.1918 - accuracy: 0.8032 - val_loss: 0.3506 - val_ssim_loss: 0.3507 - val_accuracy: 0.7978\n"
          ],
          "name": "stdout"
        }
      ]
    },
    {
      "cell_type": "code",
      "metadata": {
        "id": "ho8vIbHOHKWo",
        "colab": {
          "base_uri": "https://localhost:8080/",
          "height": 573
        },
        "outputId": "fe434296-aea9-45e5-88e3-e75790e4b479"
      },
      "source": [
        "import matplotlib.pyplot as plt\n",
        "# Plot training & validation accuracy values\n",
        "plt.plot(history.history['accuracy'])\n",
        "plt.plot(history.history['val_accuracy'])\n",
        "plt.title('Model accuracy')\n",
        "plt.ylabel('Accuracy')\n",
        "plt.xlabel('Epoch')\n",
        "plt.legend(['Train', 'Test'], loc= 'lower right')\n",
        "plt.show()\n",
        "\n",
        "# Plot training & validation loss values\n",
        "plt.plot(history.history['ssim_loss'])\n",
        "plt.plot(history.history['val_ssim_loss'])\n",
        "plt.title('Model loss')\n",
        "plt.ylabel('Loss')\n",
        "plt.xlabel('Epoch')\n",
        "plt.legend(['Train', 'Test'], loc='upper right')\n",
        "plt.show()"
      ],
      "execution_count": 104,
      "outputs": [
        {
          "output_type": "display_data",
          "data": {
            "image/png": "[encoded data removed]",
            "text/plain": [
              "<Figure size 432x288 with 1 Axes>"
            ]
          },
          "metadata": {
            "tags": [],
            "needs_background": "light"
          }
        },
        {
          "output_type": "display_data",
          "data": {
            "image/png": "[encoded data removed]",
            "text/plain": [
              "<Figure size 432x288 with 1 Axes>"
            ]
          },
          "metadata": {
            "tags": [],
            "needs_background": "light"
          }
        }
      ]
    },
    {
      "cell_type": "code",
      "metadata": {
        "id": "mw_Rowx3KsVE"
      },
      "source": [
        "s = history.history['val_ssim_loss']"
      ],
      "execution_count": 105,
      "outputs": []
    },
    {
      "cell_type": "code",
      "metadata": {
        "id": "_mbRMRk7js7o"
      },
      "source": [
        "import pickle\n",
        "import matplotlib.pyplot as plt\n",
        "\n",
        "name = '64_training_curve.dat'\n",
        "\n",
        "try:\n",
        "  with open(name,'rb') as f:\n",
        "    training_records = pickle.load(f)\n",
        "\n",
        "except:\n",
        "  with open(name,'wb') as f:\n",
        "    training_records = []\n",
        "    pickle.dump(training_records,f)\n",
        "    print('First created file:{}'.format(name))"
      ],
      "execution_count": 106,
      "outputs": []
    },
    {
      "cell_type": "code",
      "metadata": {
        "id": "zBkonD7kMPE_"
      },
      "source": [
        "training_records.append(s)\n",
        "\n",
        "with open(name,'wb') as f:\n",
        "  pickle.dump(training_records,f)\n"
      ],
      "execution_count": 107,
      "outputs": []
    },
    {
      "cell_type": "code",
      "metadata": {
        "id": "kZFw7fPSssBf",
        "colab": {
          "base_uri": "https://localhost:8080/"
        },
        "outputId": "50c53a66-016d-43a2-f4cd-cfd32e4f7b5c"
      },
      "source": [
        "print(\"running time: {:0.1f}s\".format(end - start))"
      ],
      "execution_count": 108,
      "outputs": [
        {
          "output_type": "stream",
          "text": [
            "running time: 446.8s\n"
          ],
          "name": "stdout"
        }
      ]
    },
    {
      "cell_type": "code",
      "metadata": {
        "id": "m9a_pNAmkCKK"
      },
      "source": [
        "# cd /content/drive/My Drive/Colab Notebooks/MMF data/24hours_Mix_datasets/24hours_img_v2"
      ],
      "execution_count": 109,
      "outputs": []
    },
    {
      "cell_type": "markdown",
      "metadata": {
        "id": "8zRaVtjjgnH8"
      },
      "source": [
        "0: dense \\\\\n",
        "1: U-net / not trained  \\\\\n",
        "2: U-net a = 2 add sigmoid / not trained \\\\\n",
        "3: U-net a = 1 not trained \\\\\n",
        "4: U-net去掉bug 730.5s \\\\\n",
        "5: U-net 256 between \\\\\n",
        "6: u-net relu 倒数第二层。 \\\\\n",
        "8: 调整过后。 \\\\\n",
        "11： U-net三层 conv \\\\\n",
        "12: U-net 调整  251.6s \\\\\n",
        "23: Fashion Mnist \\\\\n",
        "28: U-net standard a= 1 \\\\\n",
        "29: a = 0.5 \\\\\n",
        "30: a = 1.2 \\\\\n",
        "31: a = 1.1  \\\\\n",
        "32: a = 0.9 \\\\\n",
        "33: 回到fashion mnist \\\\\n",
        "\n",
        "\n",
        "**************************\n",
        "34: U-net baseline a= 1 , dropout = 0.2 \\\\\n",
        "35： a = 0.5 \\\\\n",
        "36: a = 2 \\\\\n",
        "37: without connection layer a =1 \\\\\n",
        "38: without connection layer a =0.5 \\\\\n",
        "39: delete to a autoencoder (0 conv layer, failed) \\\\\n",
        "40: delete to a autoencoder ( 1 conv layer each) \\\\\n",
        "42: dropout 0.1  \\\\\n",
        "43: dropout 0.3  \\\\\n",
        "44: dropout 0.4  \\\\\n",
        "45: delete two layers: a= 0.5 \\\\\n",
        "46: delete four layers: a= 0.5 \\\\\n",
        "47: VGG baseline 784 nodes \\\\\n",
        "48: Reverse VGG 784 nodes \\\\\n",
        "49: Dense 1024 nodes-SSIM loss \\\\\n",
        "50: Dense 1024 nodes-Cross entropy loss \\\\\n",
        "51: Dense 1024 nodes-MSE loss \\\\\n",
        "\n",
        "52: Reverse VGG 1024 nodes MSE loss \\\\\n",
        "53: Reverse VGG 256 nodes MSE loss \\\\\n",
        "54: Reverse VGG 256 nodes SSIM loss \\\\\n",
        "55: Reverse VGG 1024 nodes SSIM loss \\\\\n",
        "57:  dense mnist \\\\\n",
        "58:  dense Fashmnist \\\\\n",
        "60  U-net filter 2 and 1  \\\\\n",
        "\n",
        "*********2020/08/12*******重新测试 \\\\\n",
        "61: U-net optimization results with dropouts \\\\\n",
        "62: U-net optimization results with dropouts/ reduce datasets \\\\\n",
        "63: delete dropout layer \\\\\n",
        "64: add one normalization layer \\\\\n",
        "65: add three normalization layers \\\\\n",
        "66: add all normalization layers \\\\\n",
        "67: add dropout with batch normalization \\\\\n",
        "68: add extreme batch normalization \\\\\n",
        "69: Dense (baseline)  \\\\\n",
        "70: Relu after batch normalization \\\\\n",
        "71: batch normalization a=2 \\\\\n",
        "72: batch normalization a=2, add dropout \\\\\n",
        "73: redo Dense baseline \\\\\n",
        "74： batch normalization a = 3  \\\\\n",
        "75： batch normalization a = 4  \\\\\n",
        "76： batch normalization a = 5  \\\\\n",
        "77： dense with batch normalization \\\\\n",
        "78: dense sigmoid after BN (with dropout) \\\\\n",
        "79: dense sigmoid after BN (without dropout) \\\\\n",
        "80: dense relu after BN (without dropout) \\\\\n",
        "81：dense relu  \\\\\n",
        "82: dense relu with dropout \\\\\n",
        "83: dense baseline early stop = 20 Fashion mnist \\\\\n",
        "84: U-net a = 4 Fashion mnist \\\\\n",
        "85: dense Fashion mnist \\\\\n",
        "86: U-net a = 4 Mnist batchsize = 512 \\\\\n",
        "87: U-net a = 4 Mnist batchsize = 128 \\\\\n",
        "88: U-net a = 4 Mnist batchsize = 640 \\\\"
      ]
    },
    {
      "cell_type": "code",
      "metadata": {
        "id": "Hie_YgisMYw6",
        "colab": {
          "base_uri": "https://localhost:8080/",
          "height": 638
        },
        "outputId": "f42f30ea-fb66-4ec7-9693-ca539e5009b5"
      },
      "source": [
        "plt.figure(figsize = (10,10))\n",
        "plt.title('Training curve comparison')\n",
        "plt.xlabel('Training Epochs')\n",
        "plt.ylabel('SSIM Loss')\n",
        "#plt.xlim(0,200)\n",
        "\n",
        "specify_mode = 1   # 0 for normal mode, 1 for plot_list\n",
        "plot_list = [69, 101,102]\n",
        "\n",
        "\n",
        "if specify_mode == 0:\n",
        "  for i in range(86, len(training_records)):\n",
        "    plt.plot(training_records[i],label = i)\n",
        "\n",
        "if specify_mode == 1:\n",
        "  for i in plot_list:\n",
        "    plt.plot(training_records[i],label = i)\n",
        "\n",
        "plt.legend()\n"
      ],
      "execution_count": 110,
      "outputs": [
        {
          "output_type": "execute_result",
          "data": {
            "text/plain": [
              "<matplotlib.legend.Legend at 0x7f6fb43dc110>"
            ]
          },
          "metadata": {
            "tags": []
          },
          "execution_count": 110
        },
        {
          "output_type": "display_data",
          "data": {
            "image/png": "[encoded data removed]",
            "text/plain": [
              "<Figure size 720x720 with 1 Axes>"
            ]
          },
          "metadata": {
            "tags": [],
            "needs_background": "light"
          }
        }
      ]
    },
    {
      "cell_type": "markdown",
      "metadata": {
        "id": "cF5hFb41HNgY"
      },
      "source": [
        "Result analysis"
      ]
    },
    {
      "cell_type": "code",
      "metadata": {
        "id": "MPlv-aRUHXM3"
      },
      "source": [
        "from tensorflow.keras.models import load_model\n",
        "\n",
        "Detective = load_model('/content/drive/My Drive/Colab Notebooks/MMF data/Mnist image data/my_model.h5')\n",
        "\n",
        "autoencoder.load_weights('best_model.h5')\n",
        "\n",
        "decoded_imgs = autoencoder.predict(test_imgs)"
      ],
      "execution_count": 111,
      "outputs": []
    },
    {
      "cell_type": "markdown",
      "metadata": {
        "id": "HQ1sS9UcHtLT"
      },
      "source": [
        "Average SSIM"
      ]
    },
    {
      "cell_type": "code",
      "metadata": {
        "id": "RXJdBtapTKoy"
      },
      "source": [
        "def MSE(A,B):\n",
        "  err = np.sum((A.astype(\"float\") - B.astype(\"float\"))**2)\n",
        "  err /= float(A.shape[0]*A.shape[1])\n",
        "  return err"
      ],
      "execution_count": 112,
      "outputs": []
    },
    {
      "cell_type": "code",
      "metadata": {
        "id": "pp0BNEsUHr0S",
        "colab": {
          "base_uri": "https://localhost:8080/"
        },
        "outputId": "9feb305f-77a1-468f-f3b5-b21e22e7bc85"
      },
      "source": [
        "import time\n",
        "from skimage.metrics import structural_similarity as ssim\n",
        "\n",
        "\n",
        "Number = 500\n",
        "\n",
        "#x_test_noisy , imgs_test = next_batch (Number , train_imgs, train_origins)\n",
        "x_test_noisy , imgs_test = next_batch (Number , test_imgs, test_origins)\n",
        "\n",
        "x_test_noisy = x_test_noisy.reshape((-1,64,64,1))\n",
        "imgs_test = imgs_test.reshape((-1,28,28,1))\n",
        "\n",
        "c_1 = time.time()\n",
        "recon_img = autoencoder.predict(x_test_noisy)\n",
        "c_2 = time.time()\n",
        "\n",
        "SSIM_test = []\n",
        "MSE_test = []\n",
        "\n",
        "for i in range(Number):\n",
        "  s =ssim(recon_img[i],imgs_test[i], multichannel = True)\n",
        "  k = MSE(recon_img[i], imgs_test[i])\n",
        "  SSIM_test.append(s)\n",
        "  MSE_test.append(k)\n",
        "\n",
        "print('reconstruction time = {:.4f}s'.format(c_2-c_1))\n",
        "print('average SSIM = {:.2f}'.format(sum(SSIM_test)/Number))\n",
        "print('SSIM variance = {:.4f}'.format(np.var(SSIM_test)))\n",
        "print('average MSE = {:.2f}'.format(sum(MSE_test)/Number))\n",
        "print('MSE variance = {:.4f}'.format(np.var(MSE_test)))\n",
        "\n",
        "answer1 = Detective.predict(recon_img.reshape(-1,28,28))\n",
        "answer2 = Detective.predict(imgs_test.reshape(-1,28,28))\n",
        "\n",
        "count = 0\n",
        "\n",
        "for i in range(Number):\n",
        "  if np.argmax(answer1[i]) == np.argmax(answer2[i]):\n",
        "    count += 1\n",
        "  else:\n",
        "    pass\n",
        "print('The classification network sucessfully distinguished {} images out of 1000 images'.format(2*count))\n",
        "print('Classification accuracy: {}'.format(2*count/1000.0))\n",
        "    "
      ],
      "execution_count": 113,
      "outputs": [
        {
          "output_type": "stream",
          "text": [
            "/usr/local/lib/python3.7/dist-packages/skimage/metrics/_structural_similarity.py:108: UserWarning: Inputs have mismatched dtype.  Setting data_range based on im1.dtype.\n",
            "  im2[..., ch], **args)\n"
          ],
          "name": "stderr"
        },
        {
          "output_type": "stream",
          "text": [
            "reconstruction time = 2.5753s\n",
            "average SSIM = 0.70\n",
            "SSIM variance = 0.0167\n",
            "average MSE = 0.04\n",
            "MSE variance = 0.0003\n",
            "The classification network sucessfully distinguished 802 images out of 1000 images\n",
            "Classification accuracy: 0.802\n"
          ],
          "name": "stdout"
        }
      ]
    },
    {
      "cell_type": "code",
      "metadata": {
        "id": "dGODULXFXWQF",
        "colab": {
          "base_uri": "https://localhost:8080/",
          "height": 346
        },
        "outputId": "b653255a-5b69-4e4d-d800-eb010d3a1e4a"
      },
      "source": [
        "plt.figure()\n",
        "plt.hist(SSIM_test,bins = 60)\n",
        "plt.gca().set(title='Frequency Histogram for U-net', xlabel = 'SSIM value', ylabel='Frequency')"
      ],
      "execution_count": 114,
      "outputs": [
        {
          "output_type": "execute_result",
          "data": {
            "text/plain": [
              "[Text(0, 0.5, 'Frequency'),\n",
              " Text(0.5, 0, 'SSIM value'),\n",
              " Text(0.5, 1.0, 'Frequency Histogram for U-net')]"
            ]
          },
          "metadata": {
            "tags": []
          },
          "execution_count": 114
        },
        {
          "output_type": "display_data",
          "data": {
            "image/png": "[encoded data removed]",
            "text/plain": [
              "<Figure size 432x288 with 1 Axes>"
            ]
          },
          "metadata": {
            "tags": [],
            "needs_background": "light"
          }
        }
      ]
    },
    {
      "cell_type": "code",
      "metadata": {
        "id": "_2rEo429wHz7",
        "colab": {
          "base_uri": "https://localhost:8080/",
          "height": 346
        },
        "outputId": "00972079-858f-4289-f262-96fb9c3ecae7"
      },
      "source": [
        "plt.figure()\n",
        "plt.hist(MSE_test,bins = 60)\n",
        "plt.gca().set(title='Frequency Histogram for SHL-DNN', xlabel = 'MSE value', ylabel='Frequency')"
      ],
      "execution_count": 115,
      "outputs": [
        {
          "output_type": "execute_result",
          "data": {
            "text/plain": [
              "[Text(0, 0.5, 'Frequency'),\n",
              " Text(0.5, 0, 'MSE value'),\n",
              " Text(0.5, 1.0, 'Frequency Histogram for SHL-DNN')]"
            ]
          },
          "metadata": {
            "tags": []
          },
          "execution_count": 115
        },
        {
          "output_type": "display_data",
          "data": {
            "image/png": "[encoded data removed]",
            "text/plain": [
              "<Figure size 432x288 with 1 Axes>"
            ]
          },
          "metadata": {
            "tags": [],
            "needs_background": "light"
          }
        }
      ]
    },
    {
      "cell_type": "markdown",
      "metadata": {
        "id": "uFhg5p-8H2XV"
      },
      "source": [
        "查看图像效果"
      ]
    },
    {
      "cell_type": "code",
      "metadata": {
        "id": "vB9CicpQHybx"
      },
      "source": [
        "#plot the results of predicted test images with respect to origins\n",
        "from random import shuffle\n",
        "def plot_results(test_images, test_origins):\n",
        "    images = autoencoder.predict(test_images)\n",
        "    k = np.arange(len(images))\n",
        "    shuffle(k)\n",
        "    print('Reconstructed images')\n",
        "    for i in range(0 , 5):\n",
        "      plt.subplot(1,5,i+1)\n",
        "      plt.imshow(images[k[i]].reshape(28,28), cmap = 'gray')\n",
        "      #answer = Detective.predict(images[k[i]].reshape(1,28,28))\n",
        "      #plt.title(np.argmax(answer))\n",
        "      #s = ssim(images[k[i]].reshape(28,28),test_origins[k[i]].reshape(28,28),multichannel = True)\n",
        "      #plt.xlabel('SSIM = {:.2f}'.format(s))\n",
        "    plt.show()\n",
        "    \n",
        "    print('Ground truth')\n",
        "    for i in range(0,5):\n",
        "      plt.subplot(1,5,i+1)\n",
        "      #answer = Detective.predict(test_origins[k[i]].reshape(1,28,28))\n",
        "      #plt.title(np.argmax(answer))\n",
        "      plt.imshow(test_origins[k[i]].reshape(28,28), cmap = 'gray')\n",
        "    plt.show()\n"
      ],
      "execution_count": 116,
      "outputs": []
    },
    {
      "cell_type": "code",
      "metadata": {
        "id": "jyazTyOXH6B1",
        "colab": {
          "base_uri": "https://localhost:8080/",
          "height": 234
        },
        "outputId": "55f3fb43-aadf-4bc2-9d1f-5a0efa3faf79"
      },
      "source": [
        "plot_results(test_imgs,test_origins)"
      ],
      "execution_count": 117,
      "outputs": [
        {
          "output_type": "stream",
          "text": [
            "Reconstructed images\n"
          ],
          "name": "stdout"
        },
        {
          "output_type": "display_data",
          "data": {
            "image/png": "[encoded data removed]",
            "text/plain": [
              "<Figure size 432x288 with 5 Axes>"
            ]
          },
          "metadata": {
            "tags": [],
            "needs_background": "light"
          }
        },
        {
          "output_type": "stream",
          "text": [
            "Ground truth\n"
          ],
          "name": "stdout"
        },
        {
          "output_type": "display_data",
          "data": {
            "image/png": "[encoded data removed]",
            "text/plain": [
              "<Figure size 432x288 with 5 Axes>"
            ]
          },
          "metadata": {
            "tags": [],
            "needs_background": "light"
          }
        }
      ]
    },
    {
      "cell_type": "code",
      "metadata": {
        "id": "DF5iEXv0Prv1"
      },
      "source": [
        "images = autoencoder.predict(test_imgs)\n",
        "k = np.arange(len(images))"
      ],
      "execution_count": 118,
      "outputs": []
    },
    {
      "cell_type": "code",
      "metadata": {
        "id": "oyO2qvzV0NRD",
        "colab": {
          "base_uri": "https://localhost:8080/"
        },
        "outputId": "ad495c74-7732-46f2-909e-de19010d4310"
      },
      "source": [
        "np.shape(test_imgs)"
      ],
      "execution_count": 119,
      "outputs": [
        {
          "output_type": "execute_result",
          "data": {
            "text/plain": [
              "(3238, 64, 64, 1)"
            ]
          },
          "metadata": {
            "tags": []
          },
          "execution_count": 119
        }
      ]
    },
    {
      "cell_type": "code",
      "metadata": {
        "id": "itjrww2aRWKc",
        "colab": {
          "base_uri": "https://localhost:8080/",
          "height": 230
        },
        "outputId": "293ea38c-86bc-419f-872b-aca3c975f611"
      },
      "source": [
        "shuffle(k)\n",
        "i= 0\n",
        "\n",
        "fig = plt.figure()\n",
        "\n",
        "plt.subplot(1,2,1)\n",
        "\n",
        "plt.xticks([])\n",
        "plt.yticks([])\n",
        "\n",
        "plt.imshow(images[k[i]].reshape(28,28), cmap = 'gray')\n",
        "s = ssim(images[k[i]].reshape(28,28),test_origins[k[i]].reshape(28,28),multichannel = True)\n",
        "plt.xlabel('SSIM = {:.2f}'.format(s))\n",
        "\n",
        "plt.subplot(1,2,2)\n",
        "\n",
        "plt.xticks([])\n",
        "plt.yticks([])\n",
        "plt.imshow(test_origins[k[i]].reshape(28,28), cmap = 'gray')\n",
        "plt.show()"
      ],
      "execution_count": 120,
      "outputs": [
        {
          "output_type": "stream",
          "text": [
            "/usr/local/lib/python3.7/dist-packages/skimage/metrics/_structural_similarity.py:108: UserWarning: Inputs have mismatched dtype.  Setting data_range based on im1.dtype.\n",
            "  im2[..., ch], **args)\n"
          ],
          "name": "stderr"
        },
        {
          "output_type": "display_data",
          "data": {
            "image/png": "[encoded data removed]",
            "text/plain": [
              "<Figure size 432x288 with 2 Axes>"
            ]
          },
          "metadata": {
            "tags": []
          }
        }
      ]
    },
    {
      "cell_type": "code",
      "metadata": {
        "id": "Gf5Co06D3Mxj",
        "colab": {
          "base_uri": "https://localhost:8080/"
        },
        "outputId": "d68f621c-0c81-4734-8305-350945d853b0"
      },
      "source": [
        "print(k[i])"
      ],
      "execution_count": 121,
      "outputs": [
        {
          "output_type": "stream",
          "text": [
            "2887\n"
          ],
          "name": "stdout"
        }
      ]
    },
    {
      "cell_type": "code",
      "metadata": {
        "id": "2yNYfd0M19kK"
      },
      "source": [
        "# with open('img_to_test.dat','wb') as f:\n",
        "#   pickle.dump(img_to_test, f)\n",
        "\n",
        "# with open('origin_to_test.dat','wb') as f:\n",
        "#   pickle.dump(origin_to_test, f)"
      ],
      "execution_count": 122,
      "outputs": []
    },
    {
      "cell_type": "code",
      "metadata": {
        "id": "Sa5_9ld72dFJ",
        "colab": {
          "base_uri": "https://localhost:8080/",
          "height": 233
        },
        "outputId": "56c576d1-8acd-40c2-d320-46c2a5b28522"
      },
      "source": [
        "with open('img_to_test.dat','rb') as f:\n",
        "  img_to_test = pickle.load(f)\n",
        "\n",
        "with open('origin_to_test.dat','rb') as f:\n",
        "  origin_to_test = pickle.load(f)"
      ],
      "execution_count": 123,
      "outputs": [
        {
          "output_type": "error",
          "ename": "FileNotFoundError",
          "evalue": "ignored",
          "traceback": [
            "\u001b[0;31m---------------------------------------------------------------------------\u001b[0m",
            "\u001b[0;31mFileNotFoundError\u001b[0m                         Traceback (most recent call last)",
            "\u001b[0;32m<ipython-input-123-3f7ae668899a>\u001b[0m in \u001b[0;36m<module>\u001b[0;34m()\u001b[0m\n\u001b[0;32m----> 1\u001b[0;31m \u001b[0;32mwith\u001b[0m \u001b[0mopen\u001b[0m\u001b[0;34m(\u001b[0m\u001b[0;34m'img_to_test.dat'\u001b[0m\u001b[0;34m,\u001b[0m\u001b[0;34m'rb'\u001b[0m\u001b[0;34m)\u001b[0m \u001b[0;32mas\u001b[0m \u001b[0mf\u001b[0m\u001b[0;34m:\u001b[0m\u001b[0;34m\u001b[0m\u001b[0;34m\u001b[0m\u001b[0m\n\u001b[0m\u001b[1;32m      2\u001b[0m   \u001b[0mimg_to_test\u001b[0m \u001b[0;34m=\u001b[0m \u001b[0mpickle\u001b[0m\u001b[0;34m.\u001b[0m\u001b[0mload\u001b[0m\u001b[0;34m(\u001b[0m\u001b[0mf\u001b[0m\u001b[0;34m)\u001b[0m\u001b[0;34m\u001b[0m\u001b[0;34m\u001b[0m\u001b[0m\n\u001b[1;32m      3\u001b[0m \u001b[0;34m\u001b[0m\u001b[0m\n\u001b[1;32m      4\u001b[0m \u001b[0;32mwith\u001b[0m \u001b[0mopen\u001b[0m\u001b[0;34m(\u001b[0m\u001b[0;34m'origin_to_test.dat'\u001b[0m\u001b[0;34m,\u001b[0m\u001b[0;34m'rb'\u001b[0m\u001b[0;34m)\u001b[0m \u001b[0;32mas\u001b[0m \u001b[0mf\u001b[0m\u001b[0;34m:\u001b[0m\u001b[0;34m\u001b[0m\u001b[0;34m\u001b[0m\u001b[0m\n\u001b[1;32m      5\u001b[0m   \u001b[0morigin_to_test\u001b[0m \u001b[0;34m=\u001b[0m \u001b[0mpickle\u001b[0m\u001b[0;34m.\u001b[0m\u001b[0mload\u001b[0m\u001b[0;34m(\u001b[0m\u001b[0mf\u001b[0m\u001b[0;34m)\u001b[0m\u001b[0;34m\u001b[0m\u001b[0;34m\u001b[0m\u001b[0m\n",
            "\u001b[0;31mFileNotFoundError\u001b[0m: [Errno 2] No such file or directory: 'img_to_test.dat'"
          ]
        }
      ]
    },
    {
      "cell_type": "code",
      "metadata": {
        "id": "S7BZEWUu3XLW"
      },
      "source": [
        "predict_imgs = autoencoder.predict(img_to_test)"
      ],
      "execution_count": null,
      "outputs": []
    },
    {
      "cell_type": "markdown",
      "metadata": {
        "id": "-gaq2ZhE3Z2k"
      },
      "source": [
        "n= 2111,1811,1567,2305,210,311"
      ]
    },
    {
      "cell_type": "code",
      "metadata": {
        "id": "Xup4lUQE3RV6"
      },
      "source": [
        "n = 311\n",
        "\n",
        "fig2 = plt.figure()\n",
        "\n",
        "plt.xticks([])\n",
        "plt.yticks([])\n",
        "plt.imshow(img_to_test[n].reshape(64,64), cmap = 'gray')\n",
        "plt.show()\n",
        "\n"
      ],
      "execution_count": null,
      "outputs": []
    },
    {
      "cell_type": "code",
      "metadata": {
        "id": "npW7wPIjRnpm"
      },
      "source": [
        "fig2.savefig('Output_6.svg')"
      ],
      "execution_count": null,
      "outputs": []
    },
    {
      "cell_type": "code",
      "metadata": {
        "id": "xGJDgDqpdL84"
      },
      "source": [
        "# For generating desired images\n",
        "\n",
        "fig = plt.figure()\n",
        "\n",
        "plt.subplot(1,3,1)\n",
        "\n",
        "plt.xticks([])\n",
        "plt.yticks([])\n",
        "\n",
        "plt.imshow(predict_imgs[n].reshape(28,28), cmap = 'gray')\n",
        "s = ssim(predict_imgs[n].reshape(28,28),origin_to_test[n].reshape(28,28),multichannel = True)\n",
        "plt.xlabel('SSIM = {:.2f}'.format(s))\n",
        "\n",
        "plt.subplot(1,3,2)\n",
        "\n",
        "plt.xticks([])\n",
        "plt.yticks([])\n",
        "plt.imshow(origin_to_test[n].reshape(28,28), cmap = 'gray')\n",
        "plt.show()\n",
        "\n",
        "plt.subplot(1,3,3)\n",
        "\n",
        "plt.xticks([])\n",
        "plt.yticks([])\n",
        "plt.imshow(img_to_test[n].reshape(64,64), cmap = 'gray')\n",
        "plt.show()"
      ],
      "execution_count": null,
      "outputs": []
    },
    {
      "cell_type": "code",
      "metadata": {
        "id": "JfShgOi7TdMA"
      },
      "source": [
        "# fig.savefig('input_2.svg')"
      ],
      "execution_count": null,
      "outputs": []
    },
    {
      "cell_type": "code",
      "metadata": {
        "id": "j5OREbCIH8Vt"
      },
      "source": [
        "# get the data within the specific hours\n",
        "def get_test_data(N_start, N_end):  #N_start refer to the hours, eg: N_start = 3\n",
        "\n",
        "  Final_test = []\n",
        "  Final_origin = []\n",
        "\n",
        "  for i in range(N[N_start], N[N_end]):\n",
        "    if i % 2 == 1:           # 0 for Fashion Mnist and 1 for Mnist.\n",
        "      Final_test.append(imgs_all[i].reshape(64,64,1))\n",
        "      Final_origin.append(origins_all[i].reshape(28,28,1))\n",
        "\n",
        "  Final_test = np.array(Final_test).astype(float)   \n",
        "  Final_origin = np.array(Final_origin).astype(float)\n",
        "\n",
        "  return Final_test/255.0, Final_origin/255.0"
      ],
      "execution_count": null,
      "outputs": []
    },
    {
      "cell_type": "code",
      "metadata": {
        "id": "4WqCKtG_H9Vr"
      },
      "source": [
        "x, y = get_test_data(0,6)\n",
        "plot_results(x,y)"
      ],
      "execution_count": null,
      "outputs": []
    }
  ]
}
