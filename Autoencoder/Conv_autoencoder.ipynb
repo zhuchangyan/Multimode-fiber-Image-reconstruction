{
  "nbformat": 4,
  "nbformat_minor": 0,
  "metadata": {
    "colab": {
      "name": "Conv autoencoder.ipynb",
      "provenance": [],
      "collapsed_sections": [],
      "mount_file_id": "14bvPLjn7KkAMdtJ58pq9rmJJl_IfV8i8",
      "authorship_tag": "ABX9TyPdNJbuV5i/jwDNjYYDXpvF",
      "include_colab_link": true
    },
    "kernelspec": {
      "name": "python3",
      "display_name": "Python 3"
    },
    "accelerator": "GPU"
  },
  "cells": [
    {
      "cell_type": "markdown",
      "metadata": {
        "id": "view-in-github",
        "colab_type": "text"
      },
      "source": [
        "<a href=\"https://colab.research.google.com/github/zhuchangyan/Multimode-fiber-Image-reconstruction/blob/master/Conv_autoencoder.ipynb\" target=\"_parent\"><img src=\"https://colab.research.google.com/assets/colab-badge.svg\" alt=\"Open In Colab\"/></a>"
      ]
    },
    {
      "cell_type": "markdown",
      "metadata": {
        "id": "3LHQx3j-5lMP",
        "colab_type": "text"
      },
      "source": [
        "2020/3/13 尝试了Dense autoencoder之后，效果一般，勉强能出数字1和9.因此决定尝试convolutional autoencoer\n",
        "\n",
        "2020/3/14 成功将ssim作为loss function."
      ]
    },
    {
      "cell_type": "code",
      "metadata": {
        "id": "tvKEI1QRZJTy",
        "colab_type": "code",
        "outputId": "f9b7ad90-1f8c-4885-ec7f-b44f83cae9aa",
        "colab": {
          "base_uri": "https://localhost:8080/",
          "height": 81
        }
      },
      "source": [
        "from keras.layers import Input, Dense , Dropout\n",
        "from keras.models import Model\n",
        "import pickle\n",
        "import numpy as np"
      ],
      "execution_count": 1,
      "outputs": [
        {
          "output_type": "stream",
          "text": [
            "Using TensorFlow backend.\n"
          ],
          "name": "stderr"
        },
        {
          "output_type": "display_data",
          "data": {
            "text/html": [
              "<p style=\"color: red;\">\n",
              "The default version of TensorFlow in Colab will soon switch to TensorFlow 2.x.<br>\n",
              "We recommend you <a href=\"https://www.tensorflow.org/guide/migrate\" target=\"_blank\">upgrade</a> now \n",
              "or ensure your notebook will continue to use TensorFlow 1.x via the <code>%tensorflow_version 1.x</code> magic:\n",
              "<a href=\"https://colab.research.google.com/notebooks/tensorflow_version.ipynb\" target=\"_blank\">more info</a>.</p>\n"
            ],
            "text/plain": [
              "<IPython.core.display.HTML object>"
            ]
          },
          "metadata": {
            "tags": []
          }
        }
      ]
    },
    {
      "cell_type": "code",
      "metadata": {
        "id": "L1DkPMCkhH28",
        "colab_type": "code",
        "outputId": "f52e1ed7-e948-414b-98d2-3a618fe8ce6b",
        "colab": {
          "base_uri": "https://localhost:8080/",
          "height": 34
        }
      },
      "source": [
        "cd /content/drive/My Drive/Colab Notebooks/MMF data/\n"
      ],
      "execution_count": 2,
      "outputs": [
        {
          "output_type": "stream",
          "text": [
            "/content/drive/My Drive/Colab Notebooks/MMF data\n"
          ],
          "name": "stdout"
        }
      ]
    },
    {
      "cell_type": "code",
      "metadata": {
        "id": "oV6_TG2vhXDC",
        "colab_type": "code",
        "outputId": "bb2ae8b2-fabe-4e81-c508-7876a229aa21",
        "colab": {
          "base_uri": "https://localhost:8080/",
          "height": 34
        }
      },
      "source": [
        "cd Mnist\\ image\\ data"
      ],
      "execution_count": 3,
      "outputs": [
        {
          "output_type": "stream",
          "text": [
            "/content/drive/My Drive/Colab Notebooks/MMF data/Mnist image data\n"
          ],
          "name": "stdout"
        }
      ]
    },
    {
      "cell_type": "code",
      "metadata": {
        "id": "OMRVN2jXhVLk",
        "colab_type": "code",
        "colab": {}
      },
      "source": [
        "with open('resize_10000.dat','rb') as f:\n",
        "  imgs = pickle.load(f)\n",
        "\n",
        "with open('resize_10000_SLM.dat','rb') as f:\n",
        "  origins = pickle.load(f)"
      ],
      "execution_count": 0,
      "outputs": []
    },
    {
      "cell_type": "code",
      "metadata": {
        "id": "niCSquPviYeZ",
        "colab_type": "code",
        "colab": {}
      },
      "source": [
        "# for i in range(10000):\n",
        "#   imgs[i] = imgs[i].flatten()\n",
        "#   origins[i] = origins[i].flatten()"
      ],
      "execution_count": 0,
      "outputs": []
    },
    {
      "cell_type": "code",
      "metadata": {
        "id": "GYWv79mykTK7",
        "colab_type": "code",
        "colab": {}
      },
      "source": [
        "train_imgs = []\n",
        "train_origins = []\n",
        "\n",
        "test_imgs = []\n",
        "test_origins =[]\n",
        "\n",
        "for i in range(8000):\n",
        "  train_imgs.append(imgs[i].reshape(28,28,1))\n",
        "  train_origins.append(origins[i].reshape(28,28,1))\n",
        "\n",
        "for i in range(8000,10000):\n",
        "  test_imgs.append(imgs[i].reshape(28,28,1))\n",
        "  test_origins.append(origins[i].reshape(28,28,1))\n"
      ],
      "execution_count": 0,
      "outputs": []
    },
    {
      "cell_type": "markdown",
      "metadata": {
        "id": "wRpdC8JYsFxr",
        "colab_type": "text"
      },
      "source": [
        "Set up neural network"
      ]
    },
    {
      "cell_type": "code",
      "metadata": {
        "id": "fUXk9KL678NU",
        "colab_type": "code",
        "colab": {}
      },
      "source": [
        "from keras.layers import Input, Dense, Conv2D, MaxPooling2D, UpSampling2D\n",
        "from keras.models import Model\n",
        "from keras import backend as K"
      ],
      "execution_count": 0,
      "outputs": []
    },
    {
      "cell_type": "code",
      "metadata": {
        "id": "NVl35Hd1ZX0k",
        "colab_type": "code",
        "outputId": "aeb3d02c-1e42-45e8-98a4-41a23a836a02",
        "colab": {
          "base_uri": "https://localhost:8080/",
          "height": 211
        }
      },
      "source": [
        "input_img = Input(shape=(28, 28, 1))  # adapt this if using `channels_first` image data format\n",
        "\n",
        "x = Conv2D(128, (3, 3), activation='relu', padding='same')(input_img)\n",
        "x = MaxPooling2D((2, 2), padding='same')(x)\n",
        "x = Conv2D(64, (3, 3), activation='relu', padding='same')(x)\n",
        "x = MaxPooling2D((2, 2), padding='same')(x)\n",
        "x = Conv2D(32, (3, 3), activation='relu', padding='same')(x)\n",
        "encoded = MaxPooling2D((2, 2), padding='same')(x)\n",
        "\n",
        "# at this point the representation is (4, 4, 8) i.e. 128-dimensional\n",
        "\n",
        "x = Conv2D(32, (3, 3), activation='relu', padding='same')(encoded)\n",
        "x = UpSampling2D((2, 2))(x)\n",
        "x = Conv2D(64, (3, 3), activation='relu', padding='same')(x)\n",
        "x = UpSampling2D((2, 2))(x)\n",
        "x = Conv2D(128, (3, 3), activation='relu')(x)\n",
        "x = UpSampling2D((2, 2))(x)\n",
        "decoded = Conv2D(1, (3, 3), activation='sigmoid', padding='same')(x)\n",
        "\n",
        "\n",
        "autoencoder = Model(input_img, decoded)"
      ],
      "execution_count": 8,
      "outputs": [
        {
          "output_type": "stream",
          "text": [
            "WARNING:tensorflow:From /usr/local/lib/python3.6/dist-packages/keras/backend/tensorflow_backend.py:66: The name tf.get_default_graph is deprecated. Please use tf.compat.v1.get_default_graph instead.\n",
            "\n",
            "WARNING:tensorflow:From /usr/local/lib/python3.6/dist-packages/keras/backend/tensorflow_backend.py:541: The name tf.placeholder is deprecated. Please use tf.compat.v1.placeholder instead.\n",
            "\n",
            "WARNING:tensorflow:From /usr/local/lib/python3.6/dist-packages/keras/backend/tensorflow_backend.py:4432: The name tf.random_uniform is deprecated. Please use tf.random.uniform instead.\n",
            "\n",
            "WARNING:tensorflow:From /usr/local/lib/python3.6/dist-packages/keras/backend/tensorflow_backend.py:4267: The name tf.nn.max_pool is deprecated. Please use tf.nn.max_pool2d instead.\n",
            "\n",
            "WARNING:tensorflow:From /usr/local/lib/python3.6/dist-packages/keras/backend/tensorflow_backend.py:2239: The name tf.image.resize_nearest_neighbor is deprecated. Please use tf.compat.v1.image.resize_nearest_neighbor instead.\n",
            "\n"
          ],
          "name": "stdout"
        }
      ]
    },
    {
      "cell_type": "code",
      "metadata": {
        "id": "6kU4xTS7Z6i9",
        "colab_type": "code",
        "colab": {}
      },
      "source": [
        "encoder = Model(input_img, encoded)"
      ],
      "execution_count": 0,
      "outputs": []
    },
    {
      "cell_type": "code",
      "metadata": {
        "id": "roEie-vE16oA",
        "colab_type": "code",
        "colab": {}
      },
      "source": [
        "import tensorflow as tf\n",
        "\n",
        "def ssim_loss(y_true, y_pred):\n",
        "  return 1.0-tf.reduce_mean(tf.image.ssim(y_true, y_pred, 2.0))"
      ],
      "execution_count": 0,
      "outputs": []
    },
    {
      "cell_type": "code",
      "metadata": {
        "id": "j8YKxSPgaii8",
        "colab_type": "code",
        "outputId": "5350943d-88de-431a-c1b4-e064f1d8f876",
        "colab": {
          "base_uri": "https://localhost:8080/",
          "height": 72
        }
      },
      "source": [
        "autoencoder.compile(optimizer = 'adam', loss = ssim_loss , metrics = [ssim_loss, 'accuracy'])"
      ],
      "execution_count": 11,
      "outputs": [
        {
          "output_type": "stream",
          "text": [
            "WARNING:tensorflow:From /usr/local/lib/python3.6/dist-packages/keras/optimizers.py:793: The name tf.train.Optimizer is deprecated. Please use tf.compat.v1.train.Optimizer instead.\n",
            "\n"
          ],
          "name": "stdout"
        }
      ]
    },
    {
      "cell_type": "code",
      "metadata": {
        "id": "821aN5nyavaL",
        "colab_type": "code",
        "outputId": "13aa8f8d-43ae-476a-fd02-2151549aee34",
        "colab": {
          "base_uri": "https://localhost:8080/",
          "height": 52
        }
      },
      "source": [
        "from keras.datasets import mnist\n",
        "import numpy as np\n",
        "\n",
        "train_imgs = np.array(train_imgs).astype('float32') / 255.\n",
        "train_origins = np.array(train_origins).astype('float32') / 255.\n",
        "\n",
        "test_imgs = np.array(test_imgs).astype('float32') / 255.\n",
        "test_origins = np.array(test_origins).astype('float32') / 255.\n",
        "\n",
        "\n",
        "print (train_imgs.shape)\n",
        "print (test_imgs.shape)"
      ],
      "execution_count": 12,
      "outputs": [
        {
          "output_type": "stream",
          "text": [
            "(8000, 28, 28, 1)\n",
            "(2000, 28, 28, 1)\n"
          ],
          "name": "stdout"
        }
      ]
    },
    {
      "cell_type": "code",
      "metadata": {
        "id": "BEOYKfzvqrWG",
        "colab_type": "code",
        "outputId": "627abdad-49c5-4466-bd5e-70ebfb67667d",
        "colab": {
          "base_uri": "https://localhost:8080/",
          "height": 645
        }
      },
      "source": [
        "autoencoder.summary()"
      ],
      "execution_count": 13,
      "outputs": [
        {
          "output_type": "stream",
          "text": [
            "Model: \"model_1\"\n",
            "_________________________________________________________________\n",
            "Layer (type)                 Output Shape              Param #   \n",
            "=================================================================\n",
            "input_1 (InputLayer)         (None, 28, 28, 1)         0         \n",
            "_________________________________________________________________\n",
            "conv2d_1 (Conv2D)            (None, 28, 28, 128)       1280      \n",
            "_________________________________________________________________\n",
            "max_pooling2d_1 (MaxPooling2 (None, 14, 14, 128)       0         \n",
            "_________________________________________________________________\n",
            "conv2d_2 (Conv2D)            (None, 14, 14, 64)        73792     \n",
            "_________________________________________________________________\n",
            "max_pooling2d_2 (MaxPooling2 (None, 7, 7, 64)          0         \n",
            "_________________________________________________________________\n",
            "conv2d_3 (Conv2D)            (None, 7, 7, 32)          18464     \n",
            "_________________________________________________________________\n",
            "max_pooling2d_3 (MaxPooling2 (None, 4, 4, 32)          0         \n",
            "_________________________________________________________________\n",
            "conv2d_4 (Conv2D)            (None, 4, 4, 32)          9248      \n",
            "_________________________________________________________________\n",
            "up_sampling2d_1 (UpSampling2 (None, 8, 8, 32)          0         \n",
            "_________________________________________________________________\n",
            "conv2d_5 (Conv2D)            (None, 8, 8, 64)          18496     \n",
            "_________________________________________________________________\n",
            "up_sampling2d_2 (UpSampling2 (None, 16, 16, 64)        0         \n",
            "_________________________________________________________________\n",
            "conv2d_6 (Conv2D)            (None, 14, 14, 128)       73856     \n",
            "_________________________________________________________________\n",
            "up_sampling2d_3 (UpSampling2 (None, 28, 28, 128)       0         \n",
            "_________________________________________________________________\n",
            "conv2d_7 (Conv2D)            (None, 28, 28, 1)         1153      \n",
            "=================================================================\n",
            "Total params: 196,289\n",
            "Trainable params: 196,289\n",
            "Non-trainable params: 0\n",
            "_________________________________________________________________\n"
          ],
          "name": "stdout"
        }
      ]
    },
    {
      "cell_type": "code",
      "metadata": {
        "id": "rB-AfZbCbAY7",
        "colab_type": "code",
        "outputId": "2a3da811-8e7f-4612-a7f9-804b656e36e7",
        "colab": {
          "base_uri": "https://localhost:8080/",
          "height": 1000
        }
      },
      "source": [
        "history = autoencoder.fit(train_imgs, train_origins,\n",
        "                epochs=50,\n",
        "                batch_size=256,\n",
        "                shuffle=True,\n",
        "                validation_data=(test_imgs, test_origins))"
      ],
      "execution_count": 14,
      "outputs": [
        {
          "output_type": "stream",
          "text": [
            "WARNING:tensorflow:From /usr/local/lib/python3.6/dist-packages/keras/backend/tensorflow_backend.py:1033: The name tf.assign_add is deprecated. Please use tf.compat.v1.assign_add instead.\n",
            "\n",
            "WARNING:tensorflow:From /usr/local/lib/python3.6/dist-packages/keras/backend/tensorflow_backend.py:1020: The name tf.assign is deprecated. Please use tf.compat.v1.assign instead.\n",
            "\n",
            "WARNING:tensorflow:From /usr/local/lib/python3.6/dist-packages/keras/backend/tensorflow_backend.py:3005: The name tf.Session is deprecated. Please use tf.compat.v1.Session instead.\n",
            "\n",
            "Train on 8000 samples, validate on 2000 samples\n",
            "Epoch 1/150\n",
            "WARNING:tensorflow:From /usr/local/lib/python3.6/dist-packages/keras/backend/tensorflow_backend.py:190: The name tf.get_default_session is deprecated. Please use tf.compat.v1.get_default_session instead.\n",
            "\n",
            "WARNING:tensorflow:From /usr/local/lib/python3.6/dist-packages/keras/backend/tensorflow_backend.py:197: The name tf.ConfigProto is deprecated. Please use tf.compat.v1.ConfigProto instead.\n",
            "\n",
            "WARNING:tensorflow:From /usr/local/lib/python3.6/dist-packages/keras/backend/tensorflow_backend.py:207: The name tf.global_variables is deprecated. Please use tf.compat.v1.global_variables instead.\n",
            "\n",
            "WARNING:tensorflow:From /usr/local/lib/python3.6/dist-packages/keras/backend/tensorflow_backend.py:216: The name tf.is_variable_initialized is deprecated. Please use tf.compat.v1.is_variable_initialized instead.\n",
            "\n",
            "WARNING:tensorflow:From /usr/local/lib/python3.6/dist-packages/keras/backend/tensorflow_backend.py:223: The name tf.variables_initializer is deprecated. Please use tf.compat.v1.variables_initializer instead.\n",
            "\n",
            "8000/8000 [==============================] - 5s 628us/step - loss: 0.8449 - ssim_loss: 0.8449 - acc: 0.6601 - val_loss: 0.8067 - val_ssim_loss: 0.8067 - val_acc: 0.7378\n",
            "Epoch 2/150\n",
            "8000/8000 [==============================] - 2s 215us/step - loss: 0.7797 - ssim_loss: 0.7797 - acc: 0.7657 - val_loss: 0.7859 - val_ssim_loss: 0.7859 - val_acc: 0.7507\n",
            "Epoch 3/150\n",
            "8000/8000 [==============================] - 2s 216us/step - loss: 0.7568 - ssim_loss: 0.7568 - acc: 0.7710 - val_loss: 0.7490 - val_ssim_loss: 0.7490 - val_acc: 0.7675\n",
            "Epoch 4/150\n",
            "8000/8000 [==============================] - 2s 217us/step - loss: 0.7318 - ssim_loss: 0.7318 - acc: 0.7677 - val_loss: 0.7266 - val_ssim_loss: 0.7266 - val_acc: 0.7448\n",
            "Epoch 5/150\n",
            "8000/8000 [==============================] - 2s 214us/step - loss: 0.6923 - ssim_loss: 0.6923 - acc: 0.7659 - val_loss: 0.7120 - val_ssim_loss: 0.7120 - val_acc: 0.7550\n",
            "Epoch 6/150\n",
            "8000/8000 [==============================] - 2s 214us/step - loss: 0.6754 - ssim_loss: 0.6754 - acc: 0.7678 - val_loss: 0.6963 - val_ssim_loss: 0.6963 - val_acc: 0.7575\n",
            "Epoch 7/150\n",
            "8000/8000 [==============================] - 2s 216us/step - loss: 0.6596 - ssim_loss: 0.6596 - acc: 0.7687 - val_loss: 0.6782 - val_ssim_loss: 0.6782 - val_acc: 0.7726\n",
            "Epoch 8/150\n",
            "8000/8000 [==============================] - 2s 214us/step - loss: 0.6420 - ssim_loss: 0.6420 - acc: 0.7709 - val_loss: 0.6579 - val_ssim_loss: 0.6579 - val_acc: 0.7606\n",
            "Epoch 9/150\n",
            "8000/8000 [==============================] - 2s 214us/step - loss: 0.6255 - ssim_loss: 0.6255 - acc: 0.7729 - val_loss: 0.6501 - val_ssim_loss: 0.6501 - val_acc: 0.7596\n",
            "Epoch 10/150\n",
            "8000/8000 [==============================] - 2s 214us/step - loss: 0.6062 - ssim_loss: 0.6062 - acc: 0.7758 - val_loss: 0.6097 - val_ssim_loss: 0.6097 - val_acc: 0.7722\n",
            "Epoch 11/150\n",
            "8000/8000 [==============================] - 2s 217us/step - loss: 0.5789 - ssim_loss: 0.5789 - acc: 0.7790 - val_loss: 0.5919 - val_ssim_loss: 0.5919 - val_acc: 0.7753\n",
            "Epoch 12/150\n",
            "8000/8000 [==============================] - 2s 216us/step - loss: 0.5585 - ssim_loss: 0.5585 - acc: 0.7815 - val_loss: 0.5742 - val_ssim_loss: 0.5742 - val_acc: 0.7796\n",
            "Epoch 13/150\n",
            "8000/8000 [==============================] - 2s 216us/step - loss: 0.5433 - ssim_loss: 0.5433 - acc: 0.7831 - val_loss: 0.5667 - val_ssim_loss: 0.5667 - val_acc: 0.7730\n",
            "Epoch 14/150\n",
            "8000/8000 [==============================] - 2s 215us/step - loss: 0.5302 - ssim_loss: 0.5302 - acc: 0.7845 - val_loss: 0.5491 - val_ssim_loss: 0.5491 - val_acc: 0.7876\n",
            "Epoch 15/150\n",
            "8000/8000 [==============================] - 2s 215us/step - loss: 0.5185 - ssim_loss: 0.5185 - acc: 0.7862 - val_loss: 0.5318 - val_ssim_loss: 0.5318 - val_acc: 0.7810\n",
            "Epoch 16/150\n",
            "8000/8000 [==============================] - 2s 216us/step - loss: 0.5011 - ssim_loss: 0.5011 - acc: 0.7876 - val_loss: 0.5369 - val_ssim_loss: 0.5369 - val_acc: 0.7796\n",
            "Epoch 17/150\n",
            "8000/8000 [==============================] - 2s 217us/step - loss: 0.4943 - ssim_loss: 0.4943 - acc: 0.7883 - val_loss: 0.5126 - val_ssim_loss: 0.5126 - val_acc: 0.7863\n",
            "Epoch 18/150\n",
            "8000/8000 [==============================] - 2s 216us/step - loss: 0.4827 - ssim_loss: 0.4827 - acc: 0.7894 - val_loss: 0.5242 - val_ssim_loss: 0.5242 - val_acc: 0.7882\n",
            "Epoch 19/150\n",
            "8000/8000 [==============================] - 2s 217us/step - loss: 0.4768 - ssim_loss: 0.4768 - acc: 0.7898 - val_loss: 0.4995 - val_ssim_loss: 0.4995 - val_acc: 0.7895\n",
            "Epoch 20/150\n",
            "8000/8000 [==============================] - 2s 218us/step - loss: 0.4659 - ssim_loss: 0.4659 - acc: 0.7910 - val_loss: 0.5016 - val_ssim_loss: 0.5016 - val_acc: 0.7922\n",
            "Epoch 21/150\n",
            "8000/8000 [==============================] - 2s 216us/step - loss: 0.4602 - ssim_loss: 0.4602 - acc: 0.7914 - val_loss: 0.4856 - val_ssim_loss: 0.4856 - val_acc: 0.7870\n",
            "Epoch 22/150\n",
            "8000/8000 [==============================] - 2s 214us/step - loss: 0.4512 - ssim_loss: 0.4512 - acc: 0.7920 - val_loss: 0.4822 - val_ssim_loss: 0.4822 - val_acc: 0.7859\n",
            "Epoch 23/150\n",
            "8000/8000 [==============================] - 2s 214us/step - loss: 0.4453 - ssim_loss: 0.4453 - acc: 0.7926 - val_loss: 0.4854 - val_ssim_loss: 0.4854 - val_acc: 0.7883\n",
            "Epoch 24/150\n",
            "8000/8000 [==============================] - 2s 216us/step - loss: 0.4432 - ssim_loss: 0.4432 - acc: 0.7924 - val_loss: 0.4727 - val_ssim_loss: 0.4727 - val_acc: 0.7905\n",
            "Epoch 25/150\n",
            "8000/8000 [==============================] - 2s 215us/step - loss: 0.4337 - ssim_loss: 0.4337 - acc: 0.7932 - val_loss: 0.4671 - val_ssim_loss: 0.4671 - val_acc: 0.7910\n",
            "Epoch 26/150\n",
            "8000/8000 [==============================] - 2s 215us/step - loss: 0.4286 - ssim_loss: 0.4286 - acc: 0.7934 - val_loss: 0.4614 - val_ssim_loss: 0.4614 - val_acc: 0.7870\n",
            "Epoch 27/150\n",
            "8000/8000 [==============================] - 2s 215us/step - loss: 0.4242 - ssim_loss: 0.4242 - acc: 0.7939 - val_loss: 0.4672 - val_ssim_loss: 0.4672 - val_acc: 0.7860\n",
            "Epoch 28/150\n",
            "8000/8000 [==============================] - 2s 213us/step - loss: 0.4207 - ssim_loss: 0.4207 - acc: 0.7941 - val_loss: 0.4586 - val_ssim_loss: 0.4586 - val_acc: 0.7908\n",
            "Epoch 29/150\n",
            "8000/8000 [==============================] - 2s 214us/step - loss: 0.4154 - ssim_loss: 0.4154 - acc: 0.7946 - val_loss: 0.4550 - val_ssim_loss: 0.4550 - val_acc: 0.7905\n",
            "Epoch 30/150\n",
            "8000/8000 [==============================] - 2s 214us/step - loss: 0.4121 - ssim_loss: 0.4121 - acc: 0.7947 - val_loss: 0.4751 - val_ssim_loss: 0.4751 - val_acc: 0.7952\n",
            "Epoch 31/150\n",
            "8000/8000 [==============================] - 2s 216us/step - loss: 0.4074 - ssim_loss: 0.4074 - acc: 0.7951 - val_loss: 0.4457 - val_ssim_loss: 0.4457 - val_acc: 0.7908\n",
            "Epoch 32/150\n",
            "8000/8000 [==============================] - 2s 215us/step - loss: 0.3998 - ssim_loss: 0.3998 - acc: 0.7956 - val_loss: 0.4433 - val_ssim_loss: 0.4433 - val_acc: 0.7943\n",
            "Epoch 33/150\n",
            "8000/8000 [==============================] - 2s 213us/step - loss: 0.3979 - ssim_loss: 0.3979 - acc: 0.7958 - val_loss: 0.4418 - val_ssim_loss: 0.4418 - val_acc: 0.7931\n",
            "Epoch 34/150\n",
            "8000/8000 [==============================] - 2s 215us/step - loss: 0.3951 - ssim_loss: 0.3951 - acc: 0.7960 - val_loss: 0.4386 - val_ssim_loss: 0.4386 - val_acc: 0.7927\n",
            "Epoch 35/150\n",
            "8000/8000 [==============================] - 2s 216us/step - loss: 0.3912 - ssim_loss: 0.3912 - acc: 0.7962 - val_loss: 0.4330 - val_ssim_loss: 0.4330 - val_acc: 0.7915\n",
            "Epoch 36/150\n",
            "8000/8000 [==============================] - 2s 214us/step - loss: 0.3855 - ssim_loss: 0.3855 - acc: 0.7967 - val_loss: 0.4427 - val_ssim_loss: 0.4427 - val_acc: 0.7900\n",
            "Epoch 37/150\n",
            "8000/8000 [==============================] - 2s 216us/step - loss: 0.3898 - ssim_loss: 0.3898 - acc: 0.7963 - val_loss: 0.4323 - val_ssim_loss: 0.4323 - val_acc: 0.7891\n",
            "Epoch 38/150\n",
            "8000/8000 [==============================] - 2s 216us/step - loss: 0.3811 - ssim_loss: 0.3811 - acc: 0.7971 - val_loss: 0.4275 - val_ssim_loss: 0.4275 - val_acc: 0.7911\n",
            "Epoch 39/150\n",
            "8000/8000 [==============================] - 2s 214us/step - loss: 0.3798 - ssim_loss: 0.3798 - acc: 0.7972 - val_loss: 0.4239 - val_ssim_loss: 0.4239 - val_acc: 0.7903\n",
            "Epoch 40/150\n",
            "8000/8000 [==============================] - 2s 215us/step - loss: 0.3728 - ssim_loss: 0.3728 - acc: 0.7975 - val_loss: 0.4241 - val_ssim_loss: 0.4241 - val_acc: 0.7895\n",
            "Epoch 41/150\n",
            "8000/8000 [==============================] - 2s 215us/step - loss: 0.3691 - ssim_loss: 0.3691 - acc: 0.7977 - val_loss: 0.4322 - val_ssim_loss: 0.4322 - val_acc: 0.7925\n",
            "Epoch 42/150\n",
            "8000/8000 [==============================] - 2s 216us/step - loss: 0.3681 - ssim_loss: 0.3681 - acc: 0.7978 - val_loss: 0.4288 - val_ssim_loss: 0.4288 - val_acc: 0.7901\n",
            "Epoch 43/150\n",
            "8000/8000 [==============================] - 2s 214us/step - loss: 0.3649 - ssim_loss: 0.3649 - acc: 0.7980 - val_loss: 0.4212 - val_ssim_loss: 0.4212 - val_acc: 0.7915\n",
            "Epoch 44/150\n",
            "8000/8000 [==============================] - 2s 216us/step - loss: 0.3623 - ssim_loss: 0.3623 - acc: 0.7981 - val_loss: 0.4201 - val_ssim_loss: 0.4201 - val_acc: 0.7965\n",
            "Epoch 45/150\n",
            "8000/8000 [==============================] - 2s 215us/step - loss: 0.3578 - ssim_loss: 0.3578 - acc: 0.7986 - val_loss: 0.4192 - val_ssim_loss: 0.4192 - val_acc: 0.7915\n",
            "Epoch 46/150\n",
            "8000/8000 [==============================] - 2s 221us/step - loss: 0.3587 - ssim_loss: 0.3587 - acc: 0.7984 - val_loss: 0.4125 - val_ssim_loss: 0.4125 - val_acc: 0.7960\n",
            "Epoch 47/150\n",
            "8000/8000 [==============================] - 2s 214us/step - loss: 0.3530 - ssim_loss: 0.3530 - acc: 0.7988 - val_loss: 0.4201 - val_ssim_loss: 0.4201 - val_acc: 0.7961\n",
            "Epoch 48/150\n",
            "8000/8000 [==============================] - 2s 218us/step - loss: 0.3526 - ssim_loss: 0.3526 - acc: 0.7989 - val_loss: 0.4144 - val_ssim_loss: 0.4144 - val_acc: 0.7898\n",
            "Epoch 49/150\n",
            "8000/8000 [==============================] - 2s 214us/step - loss: 0.3507 - ssim_loss: 0.3507 - acc: 0.7989 - val_loss: 0.4075 - val_ssim_loss: 0.4075 - val_acc: 0.7940\n",
            "Epoch 50/150\n",
            "8000/8000 [==============================] - 2s 215us/step - loss: 0.3444 - ssim_loss: 0.3444 - acc: 0.7994 - val_loss: 0.4088 - val_ssim_loss: 0.4088 - val_acc: 0.7950\n",
            "Epoch 51/150\n",
            "8000/8000 [==============================] - 2s 215us/step - loss: 0.3430 - ssim_loss: 0.3430 - acc: 0.7993 - val_loss: 0.4116 - val_ssim_loss: 0.4116 - val_acc: 0.7923\n",
            "Epoch 52/150\n",
            "8000/8000 [==============================] - 2s 216us/step - loss: 0.3400 - ssim_loss: 0.3400 - acc: 0.7996 - val_loss: 0.4052 - val_ssim_loss: 0.4052 - val_acc: 0.7923\n",
            "Epoch 53/150\n",
            "8000/8000 [==============================] - 2s 214us/step - loss: 0.3399 - ssim_loss: 0.3399 - acc: 0.7997 - val_loss: 0.4073 - val_ssim_loss: 0.4073 - val_acc: 0.7954\n",
            "Epoch 54/150\n",
            "8000/8000 [==============================] - 2s 215us/step - loss: 0.3396 - ssim_loss: 0.3396 - acc: 0.7997 - val_loss: 0.4025 - val_ssim_loss: 0.4025 - val_acc: 0.7952\n",
            "Epoch 55/150\n",
            "8000/8000 [==============================] - 2s 214us/step - loss: 0.3345 - ssim_loss: 0.3345 - acc: 0.8000 - val_loss: 0.4049 - val_ssim_loss: 0.4049 - val_acc: 0.7918\n",
            "Epoch 56/150\n",
            "8000/8000 [==============================] - 2s 215us/step - loss: 0.3344 - ssim_loss: 0.3344 - acc: 0.7999 - val_loss: 0.4234 - val_ssim_loss: 0.4234 - val_acc: 0.7886\n",
            "Epoch 57/150\n",
            "8000/8000 [==============================] - 2s 214us/step - loss: 0.3387 - ssim_loss: 0.3387 - acc: 0.7996 - val_loss: 0.4027 - val_ssim_loss: 0.4027 - val_acc: 0.7946\n",
            "Epoch 58/150\n",
            "8000/8000 [==============================] - 2s 214us/step - loss: 0.3291 - ssim_loss: 0.3291 - acc: 0.8004 - val_loss: 0.4151 - val_ssim_loss: 0.4151 - val_acc: 0.7980\n",
            "Epoch 59/150\n",
            "8000/8000 [==============================] - 2s 216us/step - loss: 0.3288 - ssim_loss: 0.3288 - acc: 0.8004 - val_loss: 0.4007 - val_ssim_loss: 0.4007 - val_acc: 0.7919\n",
            "Epoch 60/150\n",
            "8000/8000 [==============================] - 2s 213us/step - loss: 0.3239 - ssim_loss: 0.3239 - acc: 0.8004 - val_loss: 0.4015 - val_ssim_loss: 0.4015 - val_acc: 0.7964\n",
            "Epoch 61/150\n",
            "8000/8000 [==============================] - 2s 212us/step - loss: 0.3235 - ssim_loss: 0.3235 - acc: 0.8006 - val_loss: 0.4068 - val_ssim_loss: 0.4068 - val_acc: 0.7956\n",
            "Epoch 62/150\n",
            "8000/8000 [==============================] - 2s 213us/step - loss: 0.3258 - ssim_loss: 0.3258 - acc: 0.8006 - val_loss: 0.4026 - val_ssim_loss: 0.4026 - val_acc: 0.7911\n",
            "Epoch 63/150\n",
            "8000/8000 [==============================] - 2s 215us/step - loss: 0.3232 - ssim_loss: 0.3232 - acc: 0.8005 - val_loss: 0.3960 - val_ssim_loss: 0.3960 - val_acc: 0.7927\n",
            "Epoch 64/150\n",
            "8000/8000 [==============================] - 2s 216us/step - loss: 0.3152 - ssim_loss: 0.3152 - acc: 0.8010 - val_loss: 0.3951 - val_ssim_loss: 0.3951 - val_acc: 0.7966\n",
            "Epoch 65/150\n",
            "8000/8000 [==============================] - 2s 214us/step - loss: 0.3171 - ssim_loss: 0.3171 - acc: 0.8009 - val_loss: 0.3980 - val_ssim_loss: 0.3980 - val_acc: 0.7942\n",
            "Epoch 66/150\n",
            "8000/8000 [==============================] - 2s 215us/step - loss: 0.3177 - ssim_loss: 0.3177 - acc: 0.8009 - val_loss: 0.3951 - val_ssim_loss: 0.3951 - val_acc: 0.7961\n",
            "Epoch 67/150\n",
            "8000/8000 [==============================] - 2s 215us/step - loss: 0.3152 - ssim_loss: 0.3152 - acc: 0.8011 - val_loss: 0.4178 - val_ssim_loss: 0.4178 - val_acc: 0.7979\n",
            "Epoch 68/150\n",
            "8000/8000 [==============================] - 2s 214us/step - loss: 0.3238 - ssim_loss: 0.3238 - acc: 0.8007 - val_loss: 0.3932 - val_ssim_loss: 0.3932 - val_acc: 0.7954\n",
            "Epoch 69/150\n",
            "8000/8000 [==============================] - 2s 216us/step - loss: 0.3098 - ssim_loss: 0.3098 - acc: 0.8015 - val_loss: 0.3932 - val_ssim_loss: 0.3932 - val_acc: 0.7931\n",
            "Epoch 70/150\n",
            "8000/8000 [==============================] - 2s 214us/step - loss: 0.3082 - ssim_loss: 0.3082 - acc: 0.8014 - val_loss: 0.3928 - val_ssim_loss: 0.3928 - val_acc: 0.7955\n",
            "Epoch 71/150\n",
            "8000/8000 [==============================] - 2s 216us/step - loss: 0.3088 - ssim_loss: 0.3088 - acc: 0.8015 - val_loss: 0.3921 - val_ssim_loss: 0.3921 - val_acc: 0.7924\n",
            "Epoch 72/150\n",
            "8000/8000 [==============================] - 2s 215us/step - loss: 0.3039 - ssim_loss: 0.3039 - acc: 0.8016 - val_loss: 0.3882 - val_ssim_loss: 0.3882 - val_acc: 0.7953\n",
            "Epoch 73/150\n",
            "8000/8000 [==============================] - 2s 216us/step - loss: 0.3015 - ssim_loss: 0.3015 - acc: 0.8019 - val_loss: 0.3901 - val_ssim_loss: 0.3901 - val_acc: 0.7948\n",
            "Epoch 74/150\n",
            "8000/8000 [==============================] - 2s 213us/step - loss: 0.3002 - ssim_loss: 0.3002 - acc: 0.8020 - val_loss: 0.3889 - val_ssim_loss: 0.3889 - val_acc: 0.7941\n",
            "Epoch 75/150\n",
            "8000/8000 [==============================] - 2s 215us/step - loss: 0.3005 - ssim_loss: 0.3005 - acc: 0.8020 - val_loss: 0.3912 - val_ssim_loss: 0.3912 - val_acc: 0.7960\n",
            "Epoch 76/150\n",
            "8000/8000 [==============================] - 2s 216us/step - loss: 0.2982 - ssim_loss: 0.2982 - acc: 0.8022 - val_loss: 0.3885 - val_ssim_loss: 0.3885 - val_acc: 0.7955\n",
            "Epoch 77/150\n",
            "8000/8000 [==============================] - 2s 214us/step - loss: 0.2985 - ssim_loss: 0.2985 - acc: 0.8022 - val_loss: 0.3882 - val_ssim_loss: 0.3882 - val_acc: 0.7928\n",
            "Epoch 78/150\n",
            "8000/8000 [==============================] - 2s 214us/step - loss: 0.2952 - ssim_loss: 0.2952 - acc: 0.8022 - val_loss: 0.3909 - val_ssim_loss: 0.3909 - val_acc: 0.7953\n",
            "Epoch 79/150\n",
            "8000/8000 [==============================] - 2s 215us/step - loss: 0.2952 - ssim_loss: 0.2952 - acc: 0.8023 - val_loss: 0.3903 - val_ssim_loss: 0.3903 - val_acc: 0.7935\n",
            "Epoch 80/150\n",
            "8000/8000 [==============================] - 2s 217us/step - loss: 0.2912 - ssim_loss: 0.2912 - acc: 0.8024 - val_loss: 0.3864 - val_ssim_loss: 0.3864 - val_acc: 0.7940\n",
            "Epoch 81/150\n",
            "8000/8000 [==============================] - 2s 215us/step - loss: 0.2909 - ssim_loss: 0.2909 - acc: 0.8024 - val_loss: 0.3924 - val_ssim_loss: 0.3924 - val_acc: 0.7925\n",
            "Epoch 82/150\n",
            "8000/8000 [==============================] - 2s 214us/step - loss: 0.2909 - ssim_loss: 0.2909 - acc: 0.8025 - val_loss: 0.3909 - val_ssim_loss: 0.3909 - val_acc: 0.7923\n",
            "Epoch 83/150\n",
            "8000/8000 [==============================] - 2s 217us/step - loss: 0.2897 - ssim_loss: 0.2897 - acc: 0.8024 - val_loss: 0.3879 - val_ssim_loss: 0.3879 - val_acc: 0.7946\n",
            "Epoch 84/150\n",
            "8000/8000 [==============================] - 2s 215us/step - loss: 0.2881 - ssim_loss: 0.2881 - acc: 0.8027 - val_loss: 0.3938 - val_ssim_loss: 0.3938 - val_acc: 0.7916\n",
            "Epoch 85/150\n",
            "8000/8000 [==============================] - 2s 215us/step - loss: 0.2884 - ssim_loss: 0.2884 - acc: 0.8026 - val_loss: 0.3861 - val_ssim_loss: 0.3861 - val_acc: 0.7941\n",
            "Epoch 86/150\n",
            "8000/8000 [==============================] - 2s 215us/step - loss: 0.2852 - ssim_loss: 0.2852 - acc: 0.8028 - val_loss: 0.3884 - val_ssim_loss: 0.3884 - val_acc: 0.7965\n",
            "Epoch 87/150\n",
            "8000/8000 [==============================] - 2s 217us/step - loss: 0.2848 - ssim_loss: 0.2848 - acc: 0.8028 - val_loss: 0.3884 - val_ssim_loss: 0.3884 - val_acc: 0.7960\n",
            "Epoch 88/150\n",
            "8000/8000 [==============================] - 2s 215us/step - loss: 0.2822 - ssim_loss: 0.2822 - acc: 0.8029 - val_loss: 0.3854 - val_ssim_loss: 0.3854 - val_acc: 0.7969\n",
            "Epoch 89/150\n",
            "8000/8000 [==============================] - 2s 213us/step - loss: 0.2823 - ssim_loss: 0.2823 - acc: 0.8029 - val_loss: 0.3832 - val_ssim_loss: 0.3832 - val_acc: 0.7963\n",
            "Epoch 90/150\n",
            "8000/8000 [==============================] - 2s 214us/step - loss: 0.2822 - ssim_loss: 0.2822 - acc: 0.8030 - val_loss: 0.3871 - val_ssim_loss: 0.3871 - val_acc: 0.7971\n",
            "Epoch 91/150\n",
            "8000/8000 [==============================] - 2s 214us/step - loss: 0.2798 - ssim_loss: 0.2798 - acc: 0.8032 - val_loss: 0.3896 - val_ssim_loss: 0.3896 - val_acc: 0.7968\n",
            "Epoch 92/150\n",
            "8000/8000 [==============================] - 2s 215us/step - loss: 0.2816 - ssim_loss: 0.2816 - acc: 0.8030 - val_loss: 0.3871 - val_ssim_loss: 0.3871 - val_acc: 0.7923\n",
            "Epoch 93/150\n",
            "8000/8000 [==============================] - 2s 214us/step - loss: 0.2762 - ssim_loss: 0.2762 - acc: 0.8033 - val_loss: 0.3825 - val_ssim_loss: 0.3825 - val_acc: 0.7966\n",
            "Epoch 94/150\n",
            "8000/8000 [==============================] - 2s 217us/step - loss: 0.2730 - ssim_loss: 0.2730 - acc: 0.8035 - val_loss: 0.3881 - val_ssim_loss: 0.3881 - val_acc: 0.7950\n",
            "Epoch 95/150\n",
            "8000/8000 [==============================] - 2s 217us/step - loss: 0.2770 - ssim_loss: 0.2770 - acc: 0.8033 - val_loss: 0.3875 - val_ssim_loss: 0.3875 - val_acc: 0.7942\n",
            "Epoch 96/150\n",
            "8000/8000 [==============================] - 2s 219us/step - loss: 0.2731 - ssim_loss: 0.2731 - acc: 0.8034 - val_loss: 0.3803 - val_ssim_loss: 0.3803 - val_acc: 0.7948\n",
            "Epoch 97/150\n",
            "8000/8000 [==============================] - 2s 216us/step - loss: 0.2728 - ssim_loss: 0.2728 - acc: 0.8035 - val_loss: 0.3864 - val_ssim_loss: 0.3864 - val_acc: 0.7964\n",
            "Epoch 98/150\n",
            "8000/8000 [==============================] - 2s 216us/step - loss: 0.2724 - ssim_loss: 0.2724 - acc: 0.8035 - val_loss: 0.3874 - val_ssim_loss: 0.3874 - val_acc: 0.7948\n",
            "Epoch 99/150\n",
            "8000/8000 [==============================] - 2s 216us/step - loss: 0.2709 - ssim_loss: 0.2709 - acc: 0.8036 - val_loss: 0.3860 - val_ssim_loss: 0.3860 - val_acc: 0.7931\n",
            "Epoch 100/150\n",
            "8000/8000 [==============================] - 2s 214us/step - loss: 0.2697 - ssim_loss: 0.2697 - acc: 0.8036 - val_loss: 0.3957 - val_ssim_loss: 0.3957 - val_acc: 0.7907\n",
            "Epoch 101/150\n",
            "8000/8000 [==============================] - 2s 214us/step - loss: 0.2711 - ssim_loss: 0.2711 - acc: 0.8035 - val_loss: 0.3831 - val_ssim_loss: 0.3831 - val_acc: 0.7949\n",
            "Epoch 102/150\n",
            "8000/8000 [==============================] - 2s 212us/step - loss: 0.2655 - ssim_loss: 0.2655 - acc: 0.8039 - val_loss: 0.3861 - val_ssim_loss: 0.3861 - val_acc: 0.7963\n",
            "Epoch 103/150\n",
            "8000/8000 [==============================] - 2s 217us/step - loss: 0.2679 - ssim_loss: 0.2679 - acc: 0.8038 - val_loss: 0.3882 - val_ssim_loss: 0.3882 - val_acc: 0.7966\n",
            "Epoch 104/150\n",
            "8000/8000 [==============================] - 2s 213us/step - loss: 0.2654 - ssim_loss: 0.2654 - acc: 0.8039 - val_loss: 0.3815 - val_ssim_loss: 0.3815 - val_acc: 0.7949\n",
            "Epoch 105/150\n",
            "8000/8000 [==============================] - 2s 214us/step - loss: 0.2671 - ssim_loss: 0.2671 - acc: 0.8038 - val_loss: 0.3854 - val_ssim_loss: 0.3854 - val_acc: 0.7982\n",
            "Epoch 106/150\n",
            "8000/8000 [==============================] - 2s 217us/step - loss: 0.2694 - ssim_loss: 0.2694 - acc: 0.8037 - val_loss: 0.3825 - val_ssim_loss: 0.3825 - val_acc: 0.7941\n",
            "Epoch 107/150\n",
            "8000/8000 [==============================] - 2s 215us/step - loss: 0.2645 - ssim_loss: 0.2645 - acc: 0.8039 - val_loss: 0.3842 - val_ssim_loss: 0.3842 - val_acc: 0.7956\n",
            "Epoch 108/150\n",
            "8000/8000 [==============================] - 2s 213us/step - loss: 0.2611 - ssim_loss: 0.2611 - acc: 0.8041 - val_loss: 0.3831 - val_ssim_loss: 0.3831 - val_acc: 0.7948\n",
            "Epoch 109/150\n",
            "8000/8000 [==============================] - 2s 216us/step - loss: 0.2602 - ssim_loss: 0.2602 - acc: 0.8041 - val_loss: 0.3812 - val_ssim_loss: 0.3812 - val_acc: 0.7963\n",
            "Epoch 110/150\n",
            "8000/8000 [==============================] - 2s 211us/step - loss: 0.2577 - ssim_loss: 0.2577 - acc: 0.8043 - val_loss: 0.3814 - val_ssim_loss: 0.3814 - val_acc: 0.7955\n",
            "Epoch 111/150\n",
            "8000/8000 [==============================] - 2s 215us/step - loss: 0.2606 - ssim_loss: 0.2606 - acc: 0.8041 - val_loss: 0.3804 - val_ssim_loss: 0.3804 - val_acc: 0.7949\n",
            "Epoch 112/150\n",
            "8000/8000 [==============================] - 2s 214us/step - loss: 0.2589 - ssim_loss: 0.2589 - acc: 0.8042 - val_loss: 0.3836 - val_ssim_loss: 0.3836 - val_acc: 0.7942\n",
            "Epoch 113/150\n",
            "8000/8000 [==============================] - 2s 214us/step - loss: 0.2562 - ssim_loss: 0.2562 - acc: 0.8044 - val_loss: 0.3869 - val_ssim_loss: 0.3869 - val_acc: 0.7924\n",
            "Epoch 114/150\n",
            "8000/8000 [==============================] - 2s 216us/step - loss: 0.2549 - ssim_loss: 0.2549 - acc: 0.8044 - val_loss: 0.3831 - val_ssim_loss: 0.3831 - val_acc: 0.7949\n",
            "Epoch 115/150\n",
            "8000/8000 [==============================] - 2s 215us/step - loss: 0.2570 - ssim_loss: 0.2570 - acc: 0.8043 - val_loss: 0.3877 - val_ssim_loss: 0.3877 - val_acc: 0.7907\n",
            "Epoch 116/150\n",
            "8000/8000 [==============================] - 2s 213us/step - loss: 0.2537 - ssim_loss: 0.2537 - acc: 0.8044 - val_loss: 0.3819 - val_ssim_loss: 0.3819 - val_acc: 0.7944\n",
            "Epoch 117/150\n",
            "8000/8000 [==============================] - 2s 215us/step - loss: 0.2514 - ssim_loss: 0.2514 - acc: 0.8046 - val_loss: 0.3823 - val_ssim_loss: 0.3823 - val_acc: 0.7967\n",
            "Epoch 118/150\n",
            "8000/8000 [==============================] - 2s 217us/step - loss: 0.2522 - ssim_loss: 0.2522 - acc: 0.8046 - val_loss: 0.3809 - val_ssim_loss: 0.3809 - val_acc: 0.7928\n",
            "Epoch 119/150\n",
            "8000/8000 [==============================] - 2s 216us/step - loss: 0.2602 - ssim_loss: 0.2602 - acc: 0.8043 - val_loss: 0.3792 - val_ssim_loss: 0.3792 - val_acc: 0.7962\n",
            "Epoch 120/150\n",
            "8000/8000 [==============================] - 2s 216us/step - loss: 0.2492 - ssim_loss: 0.2492 - acc: 0.8047 - val_loss: 0.3794 - val_ssim_loss: 0.3794 - val_acc: 0.7939\n",
            "Epoch 121/150\n",
            "8000/8000 [==============================] - 2s 215us/step - loss: 0.2475 - ssim_loss: 0.2475 - acc: 0.8048 - val_loss: 0.3806 - val_ssim_loss: 0.3806 - val_acc: 0.7945\n",
            "Epoch 122/150\n",
            "8000/8000 [==============================] - 2s 216us/step - loss: 0.2479 - ssim_loss: 0.2479 - acc: 0.8048 - val_loss: 0.3801 - val_ssim_loss: 0.3801 - val_acc: 0.7939\n",
            "Epoch 123/150\n",
            "8000/8000 [==============================] - 2s 215us/step - loss: 0.2495 - ssim_loss: 0.2495 - acc: 0.8048 - val_loss: 0.3868 - val_ssim_loss: 0.3868 - val_acc: 0.7979\n",
            "Epoch 124/150\n",
            "8000/8000 [==============================] - 2s 218us/step - loss: 0.2465 - ssim_loss: 0.2465 - acc: 0.8049 - val_loss: 0.3801 - val_ssim_loss: 0.3801 - val_acc: 0.7958\n",
            "Epoch 125/150\n",
            "8000/8000 [==============================] - 2s 217us/step - loss: 0.2454 - ssim_loss: 0.2454 - acc: 0.8049 - val_loss: 0.3832 - val_ssim_loss: 0.3832 - val_acc: 0.7936\n",
            "Epoch 126/150\n",
            "8000/8000 [==============================] - 2s 214us/step - loss: 0.2458 - ssim_loss: 0.2458 - acc: 0.8049 - val_loss: 0.3802 - val_ssim_loss: 0.3802 - val_acc: 0.7963\n",
            "Epoch 127/150\n",
            "8000/8000 [==============================] - 2s 216us/step - loss: 0.2483 - ssim_loss: 0.2483 - acc: 0.8047 - val_loss: 0.3804 - val_ssim_loss: 0.3804 - val_acc: 0.7952\n",
            "Epoch 128/150\n",
            "8000/8000 [==============================] - 2s 214us/step - loss: 0.2436 - ssim_loss: 0.2436 - acc: 0.8050 - val_loss: 0.3822 - val_ssim_loss: 0.3822 - val_acc: 0.7939\n",
            "Epoch 129/150\n",
            "8000/8000 [==============================] - 2s 214us/step - loss: 0.2428 - ssim_loss: 0.2428 - acc: 0.8050 - val_loss: 0.3849 - val_ssim_loss: 0.3849 - val_acc: 0.7966\n",
            "Epoch 130/150\n",
            "8000/8000 [==============================] - 2s 217us/step - loss: 0.2425 - ssim_loss: 0.2425 - acc: 0.8051 - val_loss: 0.3840 - val_ssim_loss: 0.3840 - val_acc: 0.7926\n",
            "Epoch 131/150\n",
            "8000/8000 [==============================] - 2s 217us/step - loss: 0.2428 - ssim_loss: 0.2428 - acc: 0.8050 - val_loss: 0.3793 - val_ssim_loss: 0.3793 - val_acc: 0.7937\n",
            "Epoch 132/150\n",
            "8000/8000 [==============================] - 2s 215us/step - loss: 0.2410 - ssim_loss: 0.2410 - acc: 0.8051 - val_loss: 0.3837 - val_ssim_loss: 0.3837 - val_acc: 0.7936\n",
            "Epoch 133/150\n",
            "8000/8000 [==============================] - 2s 214us/step - loss: 0.2419 - ssim_loss: 0.2419 - acc: 0.8051 - val_loss: 0.3795 - val_ssim_loss: 0.3795 - val_acc: 0.7968\n",
            "Epoch 134/150\n",
            "8000/8000 [==============================] - 2s 217us/step - loss: 0.2381 - ssim_loss: 0.2381 - acc: 0.8053 - val_loss: 0.3812 - val_ssim_loss: 0.3812 - val_acc: 0.7949\n",
            "Epoch 135/150\n",
            "8000/8000 [==============================] - 2s 216us/step - loss: 0.2366 - ssim_loss: 0.2366 - acc: 0.8054 - val_loss: 0.3825 - val_ssim_loss: 0.3825 - val_acc: 0.7952\n",
            "Epoch 136/150\n",
            "8000/8000 [==============================] - 2s 215us/step - loss: 0.2384 - ssim_loss: 0.2384 - acc: 0.8052 - val_loss: 0.3803 - val_ssim_loss: 0.3803 - val_acc: 0.7931\n",
            "Epoch 137/150\n",
            "8000/8000 [==============================] - 2s 218us/step - loss: 0.2379 - ssim_loss: 0.2379 - acc: 0.8052 - val_loss: 0.3848 - val_ssim_loss: 0.3848 - val_acc: 0.7918\n",
            "Epoch 138/150\n",
            "8000/8000 [==============================] - 2s 214us/step - loss: 0.2387 - ssim_loss: 0.2387 - acc: 0.8052 - val_loss: 0.3782 - val_ssim_loss: 0.3782 - val_acc: 0.7954\n",
            "Epoch 139/150\n",
            "8000/8000 [==============================] - 2s 215us/step - loss: 0.2334 - ssim_loss: 0.2334 - acc: 0.8055 - val_loss: 0.3817 - val_ssim_loss: 0.3817 - val_acc: 0.7931\n",
            "Epoch 140/150\n",
            "8000/8000 [==============================] - 2s 216us/step - loss: 0.2341 - ssim_loss: 0.2341 - acc: 0.8054 - val_loss: 0.3822 - val_ssim_loss: 0.3822 - val_acc: 0.7962\n",
            "Epoch 141/150\n",
            "8000/8000 [==============================] - 2s 215us/step - loss: 0.2361 - ssim_loss: 0.2361 - acc: 0.8054 - val_loss: 0.3834 - val_ssim_loss: 0.3834 - val_acc: 0.7945\n",
            "Epoch 142/150\n",
            "8000/8000 [==============================] - 2s 218us/step - loss: 0.2375 - ssim_loss: 0.2375 - acc: 0.8054 - val_loss: 0.3808 - val_ssim_loss: 0.3808 - val_acc: 0.7944\n",
            "Epoch 143/150\n",
            "8000/8000 [==============================] - 2s 215us/step - loss: 0.2336 - ssim_loss: 0.2336 - acc: 0.8054 - val_loss: 0.3796 - val_ssim_loss: 0.3796 - val_acc: 0.7955\n",
            "Epoch 144/150\n",
            "8000/8000 [==============================] - 2s 216us/step - loss: 0.2317 - ssim_loss: 0.2317 - acc: 0.8056 - val_loss: 0.3805 - val_ssim_loss: 0.3805 - val_acc: 0.7957\n",
            "Epoch 145/150\n",
            "8000/8000 [==============================] - 2s 215us/step - loss: 0.2313 - ssim_loss: 0.2313 - acc: 0.8056 - val_loss: 0.3835 - val_ssim_loss: 0.3835 - val_acc: 0.7978\n",
            "Epoch 146/150\n",
            "8000/8000 [==============================] - 2s 217us/step - loss: 0.2322 - ssim_loss: 0.2322 - acc: 0.8056 - val_loss: 0.3800 - val_ssim_loss: 0.3800 - val_acc: 0.7967\n",
            "Epoch 147/150\n",
            "8000/8000 [==============================] - 2s 216us/step - loss: 0.2298 - ssim_loss: 0.2298 - acc: 0.8057 - val_loss: 0.3820 - val_ssim_loss: 0.3820 - val_acc: 0.7964\n",
            "Epoch 148/150\n",
            "8000/8000 [==============================] - 2s 216us/step - loss: 0.2303 - ssim_loss: 0.2303 - acc: 0.8056 - val_loss: 0.3806 - val_ssim_loss: 0.3806 - val_acc: 0.7957\n",
            "Epoch 149/150\n",
            "8000/8000 [==============================] - 2s 215us/step - loss: 0.2286 - ssim_loss: 0.2286 - acc: 0.8057 - val_loss: 0.3793 - val_ssim_loss: 0.3793 - val_acc: 0.7955\n",
            "Epoch 150/150\n",
            "8000/8000 [==============================] - 2s 216us/step - loss: 0.2291 - ssim_loss: 0.2291 - acc: 0.8057 - val_loss: 0.3876 - val_ssim_loss: 0.3876 - val_acc: 0.7939\n"
          ],
          "name": "stdout"
        },
        {
          "output_type": "execute_result",
          "data": {
            "text/plain": [
              "<keras.callbacks.History at 0x7f4ec56bacf8>"
            ]
          },
          "metadata": {
            "tags": []
          },
          "execution_count": 14
        }
      ]
    },
    {
      "cell_type": "code",
      "metadata": {
        "id": "VJ1kxPbAcnxo",
        "colab_type": "code",
        "colab": {}
      },
      "source": [
        "decoded_imgs = autoencoder.predict(test_imgs)"
      ],
      "execution_count": 0,
      "outputs": []
    },
    {
      "cell_type": "code",
      "metadata": {
        "id": "0qWQi3ANczkg",
        "colab_type": "code",
        "outputId": "8126a51e-e57c-40f4-e6fa-8ca012c4495f",
        "colab": {
          "base_uri": "https://localhost:8080/",
          "height": 437
        }
      },
      "source": [
        "import matplotlib.pyplot as plt\n",
        "\n",
        "images = decoded_imgs.reshape(-1,28,28)\n",
        "\n",
        "for i in range(10):\n",
        "  plt.subplot(2,5,i+1)\n",
        "  plt.imshow(images[i])\n",
        "plt.show()\n",
        "\n",
        "for i in range(10):\n",
        "  plt.subplot(2,5,i+1)\n",
        "  plt.imshow(test_origins[i].reshape(28,28))\n",
        "plt.show()"
      ],
      "execution_count": 17,
      "outputs": [
        {
          "output_type": "display_data",
          "data": {
            "image/png": "[encoded data removed]",
            "text/plain": [
              "<Figure size 432x288 with 10 Axes>"
            ]
          },
          "metadata": {
            "tags": []
          }
        },
        {
          "output_type": "display_data",
          "data": {
            "image/png": "[encoded data removed]",
            "text/plain": [
              "<Figure size 432x288 with 10 Axes>"
            ]
          },
          "metadata": {
            "tags": []
          }
        }
      ]
    }
  ]
}
