{
  "nbformat": 4,
  "nbformat_minor": 0,
  "metadata": {
    "colab": {
      "name": "Conv autoencoder_Resize_network.ipynb",
      "provenance": [],
      "collapsed_sections": [],
      "mount_file_id": "1Ax9W4fh4D2ORfYyyT3TVWEXlhDbDRQyW",
      "authorship_tag": "ABX9TyPdB03tk87O7NyZrUgvXIkm",
      "include_colab_link": true
    },
    "kernelspec": {
      "name": "python3",
      "display_name": "Python 3"
    },
    "accelerator": "GPU"
  },
  "cells": [
    {
      "cell_type": "markdown",
      "metadata": {
        "id": "view-in-github",
        "colab_type": "text"
      },
      "source": [
        "<a href=\"https://colab.research.google.com/github/zhuchangyan/Multimode-fiber-Image-reconstruction/blob/master/Conv_autoencoder_Resize_network.ipynb\" target=\"_parent\"><img src=\"https://colab.research.google.com/assets/colab-badge.svg\" alt=\"Open In Colab\"/></a>"
      ]
    },
    {
      "cell_type": "markdown",
      "metadata": {
        "id": "3LHQx3j-5lMP",
        "colab_type": "text"
      },
      "source": [
        "2020/3/13 尝试了Dense autoencoder之后，效果一般，勉强能出数字1和9.因此决定尝试convolutional autoencoer\n",
        "\n",
        "2020/3/14 成功将ssim作为loss function.\n",
        "\n",
        "2020/3/14 利用新的ssim指标来尝试改变autoencoder结构,看看当结构趋向于CNN会有什么变化。\n",
        "\n",
        "2020/3/16 修改autoencoder结构，验证这种结构的作用。"
      ]
    },
    {
      "cell_type": "code",
      "metadata": {
        "id": "tvKEI1QRZJTy",
        "colab_type": "code",
        "outputId": "9b2894f2-a534-43e6-d876-52b9d6c7f2ac",
        "colab": {
          "base_uri": "https://localhost:8080/",
          "height": 79
        }
      },
      "source": [
        "from keras.layers import Input, Dense , Dropout\n",
        "from keras.models import Model\n",
        "import pickle\n",
        "import numpy as np "
      ],
      "execution_count": 1,
      "outputs": [
        {
          "output_type": "stream",
          "text": [
            "Using TensorFlow backend.\n"
          ],
          "name": "stderr"
        },
        {
          "output_type": "display_data",
          "data": {
            "text/html": [
              "<p style=\"color: red;\">\n",
              "The default version of TensorFlow in Colab will soon switch to TensorFlow 2.x.<br>\n",
              "We recommend you <a href=\"https://www.tensorflow.org/guide/migrate\" target=\"_blank\">upgrade</a> now \n",
              "or ensure your notebook will continue to use TensorFlow 1.x via the <code>%tensorflow_version 1.x</code> magic:\n",
              "<a href=\"https://colab.research.google.com/notebooks/tensorflow_version.ipynb\" target=\"_blank\">more info</a>.</p>\n"
            ],
            "text/plain": [
              "<IPython.core.display.HTML object>"
            ]
          },
          "metadata": {
            "tags": []
          }
        }
      ]
    },
    {
      "cell_type": "code",
      "metadata": {
        "id": "L1DkPMCkhH28",
        "colab_type": "code",
        "outputId": "5fb9dc99-537a-4877-abbf-fa8f16344051",
        "colab": {
          "base_uri": "https://localhost:8080/",
          "height": 34
        }
      },
      "source": [
        "cd /content/drive/My Drive/Colab Notebooks/MMF data/\n"
      ],
      "execution_count": 2,
      "outputs": [
        {
          "output_type": "stream",
          "text": [
            "/content/drive/My Drive/Colab Notebooks/MMF data\n"
          ],
          "name": "stdout"
        }
      ]
    },
    {
      "cell_type": "code",
      "metadata": {
        "id": "oV6_TG2vhXDC",
        "colab_type": "code",
        "outputId": "078e3c09-2499-4f36-a233-ba4ddad269af",
        "colab": {
          "base_uri": "https://localhost:8080/",
          "height": 34
        }
      },
      "source": [
        "cd Mnist\\ image\\ data"
      ],
      "execution_count": 3,
      "outputs": [
        {
          "output_type": "stream",
          "text": [
            "/content/drive/My Drive/Colab Notebooks/MMF data/Mnist image data\n"
          ],
          "name": "stdout"
        }
      ]
    },
    {
      "cell_type": "code",
      "metadata": {
        "id": "OMRVN2jXhVLk",
        "colab_type": "code",
        "colab": {}
      },
      "source": [
        "with open('resize_10000.dat','rb') as f:\n",
        "  imgs = pickle.load(f)\n",
        "\n",
        "with open('resize_10000_SLM.dat','rb') as f:\n",
        "  origins = pickle.load(f)"
      ],
      "execution_count": 0,
      "outputs": []
    },
    {
      "cell_type": "code",
      "metadata": {
        "id": "niCSquPviYeZ",
        "colab_type": "code",
        "colab": {}
      },
      "source": [
        "# for i in range(10000):\n",
        "#   imgs[i] = imgs[i].flatten()\n",
        "#   origins[i] = origins[i].flatten()"
      ],
      "execution_count": 0,
      "outputs": []
    },
    {
      "cell_type": "code",
      "metadata": {
        "id": "GYWv79mykTK7",
        "colab_type": "code",
        "colab": {}
      },
      "source": [
        "train_imgs = []\n",
        "train_origins = []\n",
        "\n",
        "test_imgs = []\n",
        "test_origins =[]\n",
        "\n",
        "for i in range(8000):\n",
        "  train_imgs.append(imgs[i].reshape(28,28,1))\n",
        "  train_origins.append(origins[i].reshape(28,28,1))\n",
        "\n",
        "for i in range(8000,10000):\n",
        "  test_imgs.append(imgs[i].reshape(28,28,1))\n",
        "  test_origins.append(origins[i].reshape(28,28,1))\n"
      ],
      "execution_count": 0,
      "outputs": []
    },
    {
      "cell_type": "markdown",
      "metadata": {
        "id": "wRpdC8JYsFxr",
        "colab_type": "text"
      },
      "source": [
        "Set up neural network"
      ]
    },
    {
      "cell_type": "code",
      "metadata": {
        "id": "fUXk9KL678NU",
        "colab_type": "code",
        "colab": {}
      },
      "source": [
        "from keras.layers import Input, Dense, Conv2D, MaxPooling2D, UpSampling2D , Flatten , Reshape , Dense\n",
        "from keras.models import Model\n",
        "from keras import backend as K"
      ],
      "execution_count": 0,
      "outputs": []
    },
    {
      "cell_type": "markdown",
      "metadata": {
        "id": "iq4FnUSrfkmw",
        "colab_type": "text"
      },
      "source": [
        "我把原来的autoencoder结构用keras来重写了一次，基本结构是一样的。"
      ]
    },
    {
      "cell_type": "code",
      "metadata": {
        "id": "Z0DqfCsmS3zQ",
        "colab_type": "code",
        "colab": {
          "base_uri": "https://localhost:8080/",
          "height": 205
        },
        "outputId": "d6b28a6c-fd31-4597-9fa2-b10e2c5a9062"
      },
      "source": [
        "input_img = Input(shape=(28, 28, 1))  # adapt this if using `channels_first` image data format\n",
        "\n",
        "x = Conv2D(32, (3, 3), activation='relu', padding='same')(input_img)\n",
        "x = MaxPooling2D((2, 2), padding='same')(x)\n",
        "x = Conv2D(32, (3, 3), activation='relu', padding='same')(x)\n",
        "x = MaxPooling2D((2, 2), padding='same')(x)\n",
        "encoded = Conv2D(256, (3, 3), activation='relu', padding='same')(x)\n",
        "encoded = MaxPooling2D((2, 2), padding='same')(x)\n",
        "\n",
        "x = Conv2D(128, (3, 3), activation='relu', padding='same')(encoded)\n",
        "x = UpSampling2D((2, 2))(x)\n",
        "x = Conv2D(32, (3, 3), activation='relu', padding='same')(x)\n",
        "x = UpSampling2D((2, 2))(x)\n",
        "x = Conv2D(32, (3, 3), activation='relu')(x)\n",
        "x = UpSampling2D((2, 2))(x)\n",
        "decoded = Conv2D(1, (3, 3), activation='sigmoid', padding='same')(x)\n",
        "\n",
        "\n",
        "autoencoder = Model(input_img, decoded)"
      ],
      "execution_count": 8,
      "outputs": [
        {
          "output_type": "stream",
          "text": [
            "WARNING:tensorflow:From /usr/local/lib/python3.6/dist-packages/keras/backend/tensorflow_backend.py:66: The name tf.get_default_graph is deprecated. Please use tf.compat.v1.get_default_graph instead.\n",
            "\n",
            "WARNING:tensorflow:From /usr/local/lib/python3.6/dist-packages/keras/backend/tensorflow_backend.py:541: The name tf.placeholder is deprecated. Please use tf.compat.v1.placeholder instead.\n",
            "\n",
            "WARNING:tensorflow:From /usr/local/lib/python3.6/dist-packages/keras/backend/tensorflow_backend.py:4432: The name tf.random_uniform is deprecated. Please use tf.random.uniform instead.\n",
            "\n",
            "WARNING:tensorflow:From /usr/local/lib/python3.6/dist-packages/keras/backend/tensorflow_backend.py:4267: The name tf.nn.max_pool is deprecated. Please use tf.nn.max_pool2d instead.\n",
            "\n",
            "WARNING:tensorflow:From /usr/local/lib/python3.6/dist-packages/keras/backend/tensorflow_backend.py:2239: The name tf.image.resize_nearest_neighbor is deprecated. Please use tf.compat.v1.image.resize_nearest_neighbor instead.\n",
            "\n"
          ],
          "name": "stdout"
        }
      ]
    },
    {
      "cell_type": "code",
      "metadata": {
        "id": "NVl35Hd1ZX0k",
        "colab_type": "code",
        "colab": {}
      },
      "source": [
        "#  Back up for the network\n",
        "# input_img = Input(shape=(28, 28, 1))  # adapt this if using `channels_first` image data format\n",
        "\n",
        "# x = Conv2D(128, (3, 3), activation='relu', padding='same')(input_img)\n",
        "# x = MaxPooling2D((2, 2), padding='same')(x)\n",
        "# x = Conv2D(64, (3, 3), activation='relu', padding='same')(x)\n",
        "# x = MaxPooling2D((2, 2), padding='same')(x)\n",
        "# x = Conv2D(32, (3, 3), activation='relu', padding='same')(x)\n",
        "# encoded = MaxPooling2D((2, 2), padding='same')(x)\n",
        "\n",
        "# latent_space = Flatten()(encoded)\n",
        "# latent_space = Dense(10)(latent_space)\n",
        "# latent_space = Dense(4*4*32)(latent_space)\n",
        "# latent_space = Reshape((4,4,32))(latent_space)\n",
        "\n",
        "# x = Conv2D(32, (3, 3), activation='relu', padding='same')(latent_space)\n",
        "# x = UpSampling2D((2, 2))(x)\n",
        "# x = Conv2D(64, (3, 3), activation='relu', padding='same')(x)\n",
        "# x = UpSampling2D((2, 2))(x)\n",
        "# x = Conv2D(128, (3, 3), activation='relu')(x)\n",
        "# x = UpSampling2D((2, 2))(x)\n",
        "# decoded = Conv2D(1, (3, 3), activation='sigmoid', padding='same')(x)\n",
        "\n",
        "\n",
        "# autoencoder = Model(input_img, decoded)"
      ],
      "execution_count": 0,
      "outputs": []
    },
    {
      "cell_type": "code",
      "metadata": {
        "id": "6kU4xTS7Z6i9",
        "colab_type": "code",
        "colab": {}
      },
      "source": [
        "encoder = Model(input_img, encoded)"
      ],
      "execution_count": 0,
      "outputs": []
    },
    {
      "cell_type": "markdown",
      "metadata": {
        "id": "AIyBAqsYfX6S",
        "colab_type": "text"
      },
      "source": [
        "**This is the part for SSIM loss function**"
      ]
    },
    {
      "cell_type": "code",
      "metadata": {
        "id": "roEie-vE16oA",
        "colab_type": "code",
        "colab": {}
      },
      "source": [
        "import tensorflow as tf\n",
        "\n",
        "def ssim_loss(y_true, y_pred):\n",
        "  return 1.0-tf.reduce_mean(tf.image.ssim(y_true, y_pred, 2.0))"
      ],
      "execution_count": 0,
      "outputs": []
    },
    {
      "cell_type": "code",
      "metadata": {
        "id": "j8YKxSPgaii8",
        "colab_type": "code",
        "outputId": "2205e5ef-1537-4709-9d6d-febab7f0cfeb",
        "colab": {
          "base_uri": "https://localhost:8080/",
          "height": 70
        }
      },
      "source": [
        "autoencoder.compile(optimizer = 'adam', loss = ssim_loss , metrics = [ssim_loss, 'accuracy'])"
      ],
      "execution_count": 12,
      "outputs": [
        {
          "output_type": "stream",
          "text": [
            "WARNING:tensorflow:From /usr/local/lib/python3.6/dist-packages/keras/optimizers.py:793: The name tf.train.Optimizer is deprecated. Please use tf.compat.v1.train.Optimizer instead.\n",
            "\n"
          ],
          "name": "stdout"
        }
      ]
    },
    {
      "cell_type": "code",
      "metadata": {
        "id": "821aN5nyavaL",
        "colab_type": "code",
        "outputId": "6c8f80a4-062b-4e6f-a303-dd690241ce4d",
        "colab": {
          "base_uri": "https://localhost:8080/",
          "height": 50
        }
      },
      "source": [
        "from keras.datasets import mnist\n",
        "import numpy as np\n",
        "\n",
        "train_imgs = np.array(train_imgs).astype('float32') / 255.\n",
        "train_origins = np.array(train_origins).astype('float32') / 255.\n",
        "\n",
        "test_imgs = np.array(test_imgs).astype('float32') / 255.\n",
        "test_origins = np.array(test_origins).astype('float32') / 255.\n",
        "\n",
        "\n",
        "print (train_imgs.shape)\n",
        "print (test_imgs.shape)"
      ],
      "execution_count": 13,
      "outputs": [
        {
          "output_type": "stream",
          "text": [
            "(8000, 28, 28, 1)\n",
            "(2000, 28, 28, 1)\n"
          ],
          "name": "stdout"
        }
      ]
    },
    {
      "cell_type": "code",
      "metadata": {
        "id": "BEOYKfzvqrWG",
        "colab_type": "code",
        "outputId": "71e35a8b-f1d4-41d2-b3a3-75e5d8bc3b7b",
        "colab": {
          "base_uri": "https://localhost:8080/",
          "height": 588
        }
      },
      "source": [
        "autoencoder.summary()"
      ],
      "execution_count": 14,
      "outputs": [
        {
          "output_type": "stream",
          "text": [
            "Model: \"model_1\"\n",
            "_________________________________________________________________\n",
            "Layer (type)                 Output Shape              Param #   \n",
            "=================================================================\n",
            "input_1 (InputLayer)         (None, 28, 28, 1)         0         \n",
            "_________________________________________________________________\n",
            "conv2d_1 (Conv2D)            (None, 28, 28, 32)        320       \n",
            "_________________________________________________________________\n",
            "max_pooling2d_1 (MaxPooling2 (None, 14, 14, 32)        0         \n",
            "_________________________________________________________________\n",
            "conv2d_2 (Conv2D)            (None, 14, 14, 32)        9248      \n",
            "_________________________________________________________________\n",
            "max_pooling2d_2 (MaxPooling2 (None, 7, 7, 32)          0         \n",
            "_________________________________________________________________\n",
            "max_pooling2d_3 (MaxPooling2 (None, 4, 4, 32)          0         \n",
            "_________________________________________________________________\n",
            "conv2d_4 (Conv2D)            (None, 4, 4, 128)         36992     \n",
            "_________________________________________________________________\n",
            "up_sampling2d_1 (UpSampling2 (None, 8, 8, 128)         0         \n",
            "_________________________________________________________________\n",
            "conv2d_5 (Conv2D)            (None, 8, 8, 32)          36896     \n",
            "_________________________________________________________________\n",
            "up_sampling2d_2 (UpSampling2 (None, 16, 16, 32)        0         \n",
            "_________________________________________________________________\n",
            "conv2d_6 (Conv2D)            (None, 14, 14, 32)        9248      \n",
            "_________________________________________________________________\n",
            "up_sampling2d_3 (UpSampling2 (None, 28, 28, 32)        0         \n",
            "_________________________________________________________________\n",
            "conv2d_7 (Conv2D)            (None, 28, 28, 1)         289       \n",
            "=================================================================\n",
            "Total params: 92,993\n",
            "Trainable params: 92,993\n",
            "Non-trainable params: 0\n",
            "_________________________________________________________________\n"
          ],
          "name": "stdout"
        }
      ]
    },
    {
      "cell_type": "code",
      "metadata": {
        "id": "rB-AfZbCbAY7",
        "colab_type": "code",
        "outputId": "01f99849-3195-4c90-98a3-f592f072b3d4",
        "colab": {
          "base_uri": "https://localhost:8080/",
          "height": 1000
        }
      },
      "source": [
        "history = autoencoder.fit(train_imgs, train_origins,\n",
        "                epochs=50,\n",
        "                batch_size=64,\n",
        "                shuffle=True,\n",
        "                validation_data=(test_imgs, test_origins))"
      ],
      "execution_count": 15,
      "outputs": [
        {
          "output_type": "stream",
          "text": [
            "WARNING:tensorflow:From /usr/local/lib/python3.6/dist-packages/keras/backend/tensorflow_backend.py:1033: The name tf.assign_add is deprecated. Please use tf.compat.v1.assign_add instead.\n",
            "\n",
            "WARNING:tensorflow:From /usr/local/lib/python3.6/dist-packages/keras/backend/tensorflow_backend.py:1020: The name tf.assign is deprecated. Please use tf.compat.v1.assign instead.\n",
            "\n",
            "WARNING:tensorflow:From /usr/local/lib/python3.6/dist-packages/keras/backend/tensorflow_backend.py:3005: The name tf.Session is deprecated. Please use tf.compat.v1.Session instead.\n",
            "\n",
            "Train on 8000 samples, validate on 2000 samples\n",
            "Epoch 1/50\n",
            "WARNING:tensorflow:From /usr/local/lib/python3.6/dist-packages/keras/backend/tensorflow_backend.py:190: The name tf.get_default_session is deprecated. Please use tf.compat.v1.get_default_session instead.\n",
            "\n",
            "WARNING:tensorflow:From /usr/local/lib/python3.6/dist-packages/keras/backend/tensorflow_backend.py:197: The name tf.ConfigProto is deprecated. Please use tf.compat.v1.ConfigProto instead.\n",
            "\n",
            "WARNING:tensorflow:From /usr/local/lib/python3.6/dist-packages/keras/backend/tensorflow_backend.py:207: The name tf.global_variables is deprecated. Please use tf.compat.v1.global_variables instead.\n",
            "\n",
            "WARNING:tensorflow:From /usr/local/lib/python3.6/dist-packages/keras/backend/tensorflow_backend.py:216: The name tf.is_variable_initialized is deprecated. Please use tf.compat.v1.is_variable_initialized instead.\n",
            "\n",
            "WARNING:tensorflow:From /usr/local/lib/python3.6/dist-packages/keras/backend/tensorflow_backend.py:223: The name tf.variables_initializer is deprecated. Please use tf.compat.v1.variables_initializer instead.\n",
            "\n",
            "8000/8000 [==============================] - 5s 619us/step - loss: 0.7894 - ssim_loss: 0.7894 - acc: 0.7180 - val_loss: 0.7504 - val_ssim_loss: 0.7504 - val_acc: 0.7429\n",
            "Epoch 2/50\n",
            "8000/8000 [==============================] - 1s 144us/step - loss: 0.7256 - ssim_loss: 0.7256 - acc: 0.7476 - val_loss: 0.7318 - val_ssim_loss: 0.7318 - val_acc: 0.7452\n",
            "Epoch 3/50\n",
            "8000/8000 [==============================] - 1s 140us/step - loss: 0.7011 - ssim_loss: 0.7011 - acc: 0.7504 - val_loss: 0.7152 - val_ssim_loss: 0.7152 - val_acc: 0.7708\n",
            "Epoch 4/50\n",
            "8000/8000 [==============================] - 1s 127us/step - loss: 0.6576 - ssim_loss: 0.6576 - acc: 0.7674 - val_loss: 0.6593 - val_ssim_loss: 0.6593 - val_acc: 0.7659\n",
            "Epoch 5/50\n",
            "8000/8000 [==============================] - 1s 146us/step - loss: 0.6206 - ssim_loss: 0.6206 - acc: 0.7718 - val_loss: 0.6337 - val_ssim_loss: 0.6337 - val_acc: 0.7694\n",
            "Epoch 6/50\n",
            "8000/8000 [==============================] - 1s 135us/step - loss: 0.5944 - ssim_loss: 0.5944 - acc: 0.7751 - val_loss: 0.6010 - val_ssim_loss: 0.6010 - val_acc: 0.7753\n",
            "Epoch 7/50\n",
            "8000/8000 [==============================] - 1s 141us/step - loss: 0.5620 - ssim_loss: 0.5620 - acc: 0.7796 - val_loss: 0.5688 - val_ssim_loss: 0.5688 - val_acc: 0.7847\n",
            "Epoch 8/50\n",
            "8000/8000 [==============================] - 1s 144us/step - loss: 0.5384 - ssim_loss: 0.5384 - acc: 0.7827 - val_loss: 0.5472 - val_ssim_loss: 0.5472 - val_acc: 0.7773\n",
            "Epoch 9/50\n",
            "8000/8000 [==============================] - 1s 133us/step - loss: 0.5246 - ssim_loss: 0.5246 - acc: 0.7842 - val_loss: 0.5416 - val_ssim_loss: 0.5416 - val_acc: 0.7878\n",
            "Epoch 10/50\n",
            "8000/8000 [==============================] - 1s 132us/step - loss: 0.5068 - ssim_loss: 0.5068 - acc: 0.7863 - val_loss: 0.5219 - val_ssim_loss: 0.5219 - val_acc: 0.7862\n",
            "Epoch 11/50\n",
            "8000/8000 [==============================] - 1s 133us/step - loss: 0.4943 - ssim_loss: 0.4943 - acc: 0.7873 - val_loss: 0.5093 - val_ssim_loss: 0.5093 - val_acc: 0.7841\n",
            "Epoch 12/50\n",
            "8000/8000 [==============================] - 1s 136us/step - loss: 0.4828 - ssim_loss: 0.4828 - acc: 0.7885 - val_loss: 0.4992 - val_ssim_loss: 0.4992 - val_acc: 0.7871\n",
            "Epoch 13/50\n",
            "8000/8000 [==============================] - 1s 142us/step - loss: 0.4740 - ssim_loss: 0.4740 - acc: 0.7897 - val_loss: 0.4952 - val_ssim_loss: 0.4952 - val_acc: 0.7834\n",
            "Epoch 14/50\n",
            "8000/8000 [==============================] - 1s 138us/step - loss: 0.4624 - ssim_loss: 0.4624 - acc: 0.7905 - val_loss: 0.4874 - val_ssim_loss: 0.4874 - val_acc: 0.7899\n",
            "Epoch 15/50\n",
            "8000/8000 [==============================] - 1s 143us/step - loss: 0.4588 - ssim_loss: 0.4588 - acc: 0.7907 - val_loss: 0.4764 - val_ssim_loss: 0.4764 - val_acc: 0.7877\n",
            "Epoch 16/50\n",
            "8000/8000 [==============================] - 1s 126us/step - loss: 0.4469 - ssim_loss: 0.4469 - acc: 0.7917 - val_loss: 0.4748 - val_ssim_loss: 0.4748 - val_acc: 0.7836\n",
            "Epoch 17/50\n",
            "8000/8000 [==============================] - 1s 127us/step - loss: 0.4397 - ssim_loss: 0.4397 - acc: 0.7923 - val_loss: 0.4693 - val_ssim_loss: 0.4693 - val_acc: 0.7902\n",
            "Epoch 18/50\n",
            "8000/8000 [==============================] - 1s 134us/step - loss: 0.4349 - ssim_loss: 0.4349 - acc: 0.7928 - val_loss: 0.4666 - val_ssim_loss: 0.4666 - val_acc: 0.7900\n",
            "Epoch 19/50\n",
            "8000/8000 [==============================] - 1s 134us/step - loss: 0.4284 - ssim_loss: 0.4284 - acc: 0.7933 - val_loss: 0.4628 - val_ssim_loss: 0.4628 - val_acc: 0.7864\n",
            "Epoch 20/50\n",
            "8000/8000 [==============================] - 1s 141us/step - loss: 0.4218 - ssim_loss: 0.4218 - acc: 0.7937 - val_loss: 0.4550 - val_ssim_loss: 0.4550 - val_acc: 0.7902\n",
            "Epoch 21/50\n",
            "8000/8000 [==============================] - 1s 138us/step - loss: 0.4163 - ssim_loss: 0.4163 - acc: 0.7943 - val_loss: 0.4527 - val_ssim_loss: 0.4527 - val_acc: 0.7903\n",
            "Epoch 22/50\n",
            "8000/8000 [==============================] - 1s 146us/step - loss: 0.4092 - ssim_loss: 0.4092 - acc: 0.7948 - val_loss: 0.4459 - val_ssim_loss: 0.4459 - val_acc: 0.7914\n",
            "Epoch 23/50\n",
            "8000/8000 [==============================] - 1s 137us/step - loss: 0.4058 - ssim_loss: 0.4058 - acc: 0.7951 - val_loss: 0.4475 - val_ssim_loss: 0.4475 - val_acc: 0.7926\n",
            "Epoch 24/50\n",
            "8000/8000 [==============================] - 1s 137us/step - loss: 0.4005 - ssim_loss: 0.4005 - acc: 0.7954 - val_loss: 0.4424 - val_ssim_loss: 0.4424 - val_acc: 0.7913\n",
            "Epoch 25/50\n",
            "8000/8000 [==============================] - 1s 147us/step - loss: 0.3968 - ssim_loss: 0.3968 - acc: 0.7957 - val_loss: 0.4488 - val_ssim_loss: 0.4488 - val_acc: 0.7879\n",
            "Epoch 26/50\n",
            "8000/8000 [==============================] - 1s 136us/step - loss: 0.3945 - ssim_loss: 0.3945 - acc: 0.7960 - val_loss: 0.4379 - val_ssim_loss: 0.4379 - val_acc: 0.7925\n",
            "Epoch 27/50\n",
            "8000/8000 [==============================] - 1s 146us/step - loss: 0.3875 - ssim_loss: 0.3875 - acc: 0.7964 - val_loss: 0.4345 - val_ssim_loss: 0.4345 - val_acc: 0.7894\n",
            "Epoch 28/50\n",
            "8000/8000 [==============================] - 1s 143us/step - loss: 0.3819 - ssim_loss: 0.3819 - acc: 0.7967 - val_loss: 0.4306 - val_ssim_loss: 0.4306 - val_acc: 0.7911\n",
            "Epoch 29/50\n",
            "8000/8000 [==============================] - 1s 140us/step - loss: 0.3809 - ssim_loss: 0.3809 - acc: 0.7969 - val_loss: 0.4364 - val_ssim_loss: 0.4364 - val_acc: 0.7936\n",
            "Epoch 30/50\n",
            "8000/8000 [==============================] - 1s 136us/step - loss: 0.3772 - ssim_loss: 0.3772 - acc: 0.7971 - val_loss: 0.4296 - val_ssim_loss: 0.4296 - val_acc: 0.7940\n",
            "Epoch 31/50\n",
            "8000/8000 [==============================] - 1s 119us/step - loss: 0.3737 - ssim_loss: 0.3737 - acc: 0.7974 - val_loss: 0.4321 - val_ssim_loss: 0.4321 - val_acc: 0.7903\n",
            "Epoch 32/50\n",
            "8000/8000 [==============================] - 1s 139us/step - loss: 0.3695 - ssim_loss: 0.3695 - acc: 0.7976 - val_loss: 0.4290 - val_ssim_loss: 0.4290 - val_acc: 0.7956\n",
            "Epoch 33/50\n",
            "8000/8000 [==============================] - 1s 145us/step - loss: 0.3658 - ssim_loss: 0.3658 - acc: 0.7978 - val_loss: 0.4302 - val_ssim_loss: 0.4302 - val_acc: 0.7933\n",
            "Epoch 34/50\n",
            "8000/8000 [==============================] - 1s 125us/step - loss: 0.3634 - ssim_loss: 0.3634 - acc: 0.7980 - val_loss: 0.4220 - val_ssim_loss: 0.4220 - val_acc: 0.7921\n",
            "Epoch 35/50\n",
            "8000/8000 [==============================] - 1s 139us/step - loss: 0.3620 - ssim_loss: 0.3620 - acc: 0.7981 - val_loss: 0.4212 - val_ssim_loss: 0.4212 - val_acc: 0.7923\n",
            "Epoch 36/50\n",
            "8000/8000 [==============================] - 1s 137us/step - loss: 0.3572 - ssim_loss: 0.3572 - acc: 0.7984 - val_loss: 0.4210 - val_ssim_loss: 0.4210 - val_acc: 0.7963\n",
            "Epoch 37/50\n",
            "8000/8000 [==============================] - 1s 125us/step - loss: 0.3537 - ssim_loss: 0.3537 - acc: 0.7987 - val_loss: 0.4171 - val_ssim_loss: 0.4171 - val_acc: 0.7912\n",
            "Epoch 38/50\n",
            "8000/8000 [==============================] - 1s 124us/step - loss: 0.3514 - ssim_loss: 0.3514 - acc: 0.7988 - val_loss: 0.4179 - val_ssim_loss: 0.4179 - val_acc: 0.7944\n",
            "Epoch 39/50\n",
            "8000/8000 [==============================] - 1s 138us/step - loss: 0.3475 - ssim_loss: 0.3475 - acc: 0.7990 - val_loss: 0.4186 - val_ssim_loss: 0.4186 - val_acc: 0.7950\n",
            "Epoch 40/50\n",
            "8000/8000 [==============================] - 1s 122us/step - loss: 0.3450 - ssim_loss: 0.3450 - acc: 0.7993 - val_loss: 0.4179 - val_ssim_loss: 0.4179 - val_acc: 0.7931\n",
            "Epoch 41/50\n",
            "8000/8000 [==============================] - 1s 130us/step - loss: 0.3441 - ssim_loss: 0.3441 - acc: 0.7992 - val_loss: 0.4127 - val_ssim_loss: 0.4127 - val_acc: 0.7928\n",
            "Epoch 42/50\n",
            "8000/8000 [==============================] - 1s 135us/step - loss: 0.3407 - ssim_loss: 0.3407 - acc: 0.7995 - val_loss: 0.4170 - val_ssim_loss: 0.4170 - val_acc: 0.7927\n",
            "Epoch 43/50\n",
            "8000/8000 [==============================] - 1s 131us/step - loss: 0.3394 - ssim_loss: 0.3394 - acc: 0.7996 - val_loss: 0.4142 - val_ssim_loss: 0.4142 - val_acc: 0.7942\n",
            "Epoch 44/50\n",
            "8000/8000 [==============================] - 1s 124us/step - loss: 0.3349 - ssim_loss: 0.3349 - acc: 0.7998 - val_loss: 0.4164 - val_ssim_loss: 0.4164 - val_acc: 0.7931\n",
            "Epoch 45/50\n",
            "8000/8000 [==============================] - 1s 126us/step - loss: 0.3328 - ssim_loss: 0.3328 - acc: 0.8000 - val_loss: 0.4115 - val_ssim_loss: 0.4115 - val_acc: 0.7929\n",
            "Epoch 46/50\n",
            "8000/8000 [==============================] - 1s 123us/step - loss: 0.3317 - ssim_loss: 0.3317 - acc: 0.8001 - val_loss: 0.4108 - val_ssim_loss: 0.4108 - val_acc: 0.7912\n",
            "Epoch 47/50\n",
            "8000/8000 [==============================] - 1s 131us/step - loss: 0.3275 - ssim_loss: 0.3275 - acc: 0.8003 - val_loss: 0.4130 - val_ssim_loss: 0.4130 - val_acc: 0.7912\n",
            "Epoch 48/50\n",
            "8000/8000 [==============================] - 1s 127us/step - loss: 0.3250 - ssim_loss: 0.3250 - acc: 0.8004 - val_loss: 0.4115 - val_ssim_loss: 0.4115 - val_acc: 0.7960\n",
            "Epoch 49/50\n",
            "8000/8000 [==============================] - 1s 135us/step - loss: 0.3242 - ssim_loss: 0.3242 - acc: 0.8006 - val_loss: 0.4105 - val_ssim_loss: 0.4105 - val_acc: 0.7947\n",
            "Epoch 50/50\n",
            "8000/8000 [==============================] - 1s 137us/step - loss: 0.3209 - ssim_loss: 0.3209 - acc: 0.8007 - val_loss: 0.4072 - val_ssim_loss: 0.4072 - val_acc: 0.7921\n"
          ],
          "name": "stdout"
        }
      ]
    },
    {
      "cell_type": "code",
      "metadata": {
        "id": "VJ1kxPbAcnxo",
        "colab_type": "code",
        "colab": {}
      },
      "source": [
        "decoded_imgs = autoencoder.predict(test_imgs)"
      ],
      "execution_count": 0,
      "outputs": []
    },
    {
      "cell_type": "code",
      "metadata": {
        "id": "RBLCiHDr6-2E",
        "colab_type": "code",
        "colab": {
          "base_uri": "https://localhost:8080/",
          "height": 573
        },
        "outputId": "17228daa-c29c-499f-c618-4ddb16e811ab"
      },
      "source": [
        "import matplotlib.pyplot as plt\n",
        "# Plot training & validation accuracy values\n",
        "plt.plot(history.history['acc'])\n",
        "plt.plot(history.history['val_acc'])\n",
        "plt.title('Model accuracy')\n",
        "plt.ylabel('Accuracy')\n",
        "plt.xlabel('Epoch')\n",
        "plt.legend(['Train', 'Test'], loc= 'lower right')\n",
        "plt.show()\n",
        "\n",
        "# Plot training & validation loss values\n",
        "plt.plot(history.history['loss'])\n",
        "plt.plot(history.history['val_loss'])\n",
        "plt.title('Model loss')\n",
        "plt.ylabel('Loss')\n",
        "plt.xlabel('Epoch')\n",
        "plt.legend(['Train', 'Test'], loc='upper right')\n",
        "plt.show()"
      ],
      "execution_count": 17,
      "outputs": [
        {
          "output_type": "display_data",
          "data": {
            "image/png": "[encoded data removed]",
            "text/plain": [
              "<Figure size 432x288 with 1 Axes>"
            ]
          },
          "metadata": {
            "tags": []
          }
        },
        {
          "output_type": "display_data",
          "data": {
            "image/png": "[encoded data removed]",
            "text/plain": [
              "<Figure size 432x288 with 1 Axes>"
            ]
          },
          "metadata": {
            "tags": []
          }
        }
      ]
    },
    {
      "cell_type": "markdown",
      "metadata": {
        "id": "_eD9RDSnwz_r",
        "colab_type": "text"
      },
      "source": [
        "Test average SSIM"
      ]
    },
    {
      "cell_type": "code",
      "metadata": {
        "id": "C0ENRNbTxEt9",
        "colab_type": "code",
        "colab": {}
      },
      "source": [
        "def next_batch(batch_size, data_input, data_output):\n",
        "    '''\n",
        "    Return a total of `batch_size` random samples \n",
        "    '''\n",
        "    idx = np.arange(0 , len(data_input))\n",
        "    np.random.shuffle(idx)\n",
        "    idx = idx[:batch_size]\n",
        "    data_shuffle_input = [data_input[ i] for i in idx]\n",
        "    data_shuffle_output = [data_output[ i] for i in idx]\n",
        "    return np.asarray(data_shuffle_input) , np.asarray(data_shuffle_output)\n"
      ],
      "execution_count": 0,
      "outputs": []
    },
    {
      "cell_type": "code",
      "metadata": {
        "id": "QMXTy9j8wzIW",
        "colab_type": "code",
        "colab": {
          "base_uri": "https://localhost:8080/",
          "height": 67
        },
        "outputId": "2e4c7e69-741d-49b3-e867-6abeb64d0910"
      },
      "source": [
        "import time\n",
        "from skimage.metrics import structural_similarity as ssim\n",
        "\n",
        "\n",
        "Number = 1000\n",
        "\n",
        "x_test_noisy , imgs_test = next_batch (Number , test_imgs, test_origins)\n",
        "\n",
        "x_test_noisy = x_test_noisy.reshape((-1,28,28,1))\n",
        "imgs_test = imgs_test.reshape((-1,28,28,1))\n",
        "\n",
        "c_1 = time.time()\n",
        "recon_img = autoencoder.predict(x_test_noisy)\n",
        "c_2 = time.time()\n",
        "\n",
        "SSIM_test = []\n",
        "\n",
        "\n",
        "for i in range(Number):\n",
        "  s =ssim(recon_img[i],imgs_test[i], multichannel = True)\n",
        "  SSIM_test.append(s)\n",
        "\n",
        "print('reconstruction time = {}'.format(c_2-c_1))\n",
        "print('average SSIM = {:.2f}'.format(sum(SSIM_test)/Number))\n",
        "print('SSIM variance = {:.4f}'.format(np.var(SSIM_test)))"
      ],
      "execution_count": 19,
      "outputs": [
        {
          "output_type": "stream",
          "text": [
            "reconstruction time = 0.11213564872741699\n",
            "average SSIM = 0.65\n",
            "SSIM variance = 0.0203\n"
          ],
          "name": "stdout"
        }
      ]
    },
    {
      "cell_type": "code",
      "metadata": {
        "id": "0qWQi3ANczkg",
        "colab_type": "code",
        "colab": {
          "base_uri": "https://localhost:8080/",
          "height": 451
        },
        "outputId": "97d8e735-3626-4f0c-d3a3-3202de06dd29"
      },
      "source": [
        "import matplotlib.pyplot as plt\n",
        "\n",
        "images = decoded_imgs.reshape(-1,28,28)\n",
        "\n",
        "for i in range(10 , 20):\n",
        "  plt.subplot(2,5,i-10+1)\n",
        "  plt.imshow(images[i], cmap = 'gray')\n",
        "  s = ssim(images[i],test_origins[i].reshape(28,28),multichannel = True)\n",
        "  plt.xlabel('SSIM = {:.2f}'.format(s))\n",
        "plt.show()\n",
        "\n",
        "for i in range(10,20):\n",
        "  plt.subplot(2,5,i-10+1)\n",
        "  plt.imshow(test_origins[i].reshape(28,28), cmap = 'gray')\n",
        "plt.show()"
      ],
      "execution_count": 20,
      "outputs": [
        {
          "output_type": "display_data",
          "data": {
            "image/png": "[encoded data removed]",
            "text/plain": [
              "<Figure size 432x288 with 10 Axes>"
            ]
          },
          "metadata": {
            "tags": []
          }
        },
        {
          "output_type": "display_data",
          "data": {
            "image/png": "[encoded data removed]",
            "text/plain": [
              "<Figure size 432x288 with 10 Axes>"
            ]
          },
          "metadata": {
            "tags": []
          }
        }
      ]
    }
  ]
}
