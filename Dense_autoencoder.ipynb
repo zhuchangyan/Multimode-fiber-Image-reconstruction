{
  "nbformat": 4,
  "nbformat_minor": 0,
  "metadata": {
    "colab": {
      "name": "Dense autoencoder.ipynb",
      "provenance": [],
      "collapsed_sections": [],
      "mount_file_id": "14bvPLjn7KkAMdtJ58pq9rmJJl_IfV8i8",
      "authorship_tag": "ABX9TyOnfdnd7Hxx61Vc/Jpgy2S8",
      "include_colab_link": true
    },
    "kernelspec": {
      "name": "python3",
      "display_name": "Python 3"
    }
  },
  "cells": [
    {
      "cell_type": "markdown",
      "metadata": {
        "id": "view-in-github",
        "colab_type": "text"
      },
      "source": [
        "<a href=\"https://colab.research.google.com/github/zhuchangyan/Multimode-fiber-Image-reconstruction/blob/master/Dense_autoencoder.ipynb\" target=\"_parent\"><img src=\"https://colab.research.google.com/assets/colab-badge.svg\" alt=\"Open In Colab\"/></a>"
      ]
    },
    {
      "cell_type": "code",
      "metadata": {
        "id": "tvKEI1QRZJTy",
        "colab_type": "code",
        "colab": {
          "base_uri": "https://localhost:8080/",
          "height": 81
        },
        "outputId": "4af7b2d3-66b7-45a4-9dde-9a0ae73f14da"
      },
      "source": [
        "from keras.layers import Input, Dense , Dropout\n",
        "from keras.models import Model\n",
        "import pickle\n",
        "import numpy as np"
      ],
      "execution_count": 1,
      "outputs": [
        {
          "output_type": "stream",
          "text": [
            "Using TensorFlow backend.\n"
          ],
          "name": "stderr"
        },
        {
          "output_type": "display_data",
          "data": {
            "text/html": [
              "<p style=\"color: red;\">\n",
              "The default version of TensorFlow in Colab will soon switch to TensorFlow 2.x.<br>\n",
              "We recommend you <a href=\"https://www.tensorflow.org/guide/migrate\" target=\"_blank\">upgrade</a> now \n",
              "or ensure your notebook will continue to use TensorFlow 1.x via the <code>%tensorflow_version 1.x</code> magic:\n",
              "<a href=\"https://colab.research.google.com/notebooks/tensorflow_version.ipynb\" target=\"_blank\">more info</a>.</p>\n"
            ],
            "text/plain": [
              "<IPython.core.display.HTML object>"
            ]
          },
          "metadata": {
            "tags": []
          }
        }
      ]
    },
    {
      "cell_type": "code",
      "metadata": {
        "id": "L1DkPMCkhH28",
        "colab_type": "code",
        "colab": {
          "base_uri": "https://localhost:8080/",
          "height": 34
        },
        "outputId": "e293dd26-c9cc-46b9-9b89-bc6bce006b91"
      },
      "source": [
        "cd /content/drive/My Drive/Colab Notebooks/MMF data/\n"
      ],
      "execution_count": 2,
      "outputs": [
        {
          "output_type": "stream",
          "text": [
            "/content/drive/My Drive/Colab Notebooks/MMF data\n"
          ],
          "name": "stdout"
        }
      ]
    },
    {
      "cell_type": "code",
      "metadata": {
        "id": "oV6_TG2vhXDC",
        "colab_type": "code",
        "colab": {
          "base_uri": "https://localhost:8080/",
          "height": 34
        },
        "outputId": "4ad93d46-4258-4e16-a234-1645c3b36c01"
      },
      "source": [
        "cd Mnist\\ image\\ data"
      ],
      "execution_count": 3,
      "outputs": [
        {
          "output_type": "stream",
          "text": [
            "/content/drive/My Drive/Colab Notebooks/MMF data/Mnist image data\n"
          ],
          "name": "stdout"
        }
      ]
    },
    {
      "cell_type": "code",
      "metadata": {
        "id": "OMRVN2jXhVLk",
        "colab_type": "code",
        "colab": {}
      },
      "source": [
        "with open('resize_10000.dat','rb') as f:\n",
        "  imgs = pickle.load(f)\n",
        "\n",
        "with open('resize_10000_SLM.dat','rb') as f:\n",
        "  origins = pickle.load(f)"
      ],
      "execution_count": 0,
      "outputs": []
    },
    {
      "cell_type": "code",
      "metadata": {
        "id": "niCSquPviYeZ",
        "colab_type": "code",
        "colab": {}
      },
      "source": [
        "for i in range(10000):\n",
        "  imgs[i] = imgs[i].flatten()\n",
        "  origins[i] = origins[i].flatten()"
      ],
      "execution_count": 0,
      "outputs": []
    },
    {
      "cell_type": "code",
      "metadata": {
        "id": "GYWv79mykTK7",
        "colab_type": "code",
        "colab": {}
      },
      "source": [
        "train_imgs = []\n",
        "train_origins = []\n",
        "\n",
        "test_imgs = []\n",
        "test_origins =[]\n",
        "\n",
        "for i in range(8000):\n",
        "  train_imgs.append(imgs[i])\n",
        "  train_origins.append(origins[i])\n",
        "\n",
        "for i in range(8000,10000):\n",
        "  test_imgs.append(imgs[i])\n",
        "  test_origins.append(origins[i])\n",
        "\n"
      ],
      "execution_count": 0,
      "outputs": []
    },
    {
      "cell_type": "markdown",
      "metadata": {
        "id": "wRpdC8JYsFxr",
        "colab_type": "text"
      },
      "source": [
        "Set up neural network"
      ]
    },
    {
      "cell_type": "code",
      "metadata": {
        "id": "NVl35Hd1ZX0k",
        "colab_type": "code",
        "colab": {
          "base_uri": "https://localhost:8080/",
          "height": 142
        },
        "outputId": "09fc4d72-60eb-49b5-83e3-dadffd014fee"
      },
      "source": [
        "input_img = Input(shape = (784,))\n",
        "\n",
        "encoded = Dense(128, activation='relu')(input_img)\n",
        "encoded = Dense(64, activation='relu')(encoded)\n",
        "encoded = Dense(32, activation='relu')(encoded)\n",
        "\n",
        "decoded = Dense(64, activation='relu')(encoded)\n",
        "decoded = Dense(128, activation='relu')(decoded)\n",
        "decoded = Dense(784, activation='sigmoid')(decoded)\n",
        "\n",
        "\n",
        "autoencoder = Model(input_img, decoded)"
      ],
      "execution_count": 7,
      "outputs": [
        {
          "output_type": "stream",
          "text": [
            "WARNING:tensorflow:From /usr/local/lib/python3.6/dist-packages/keras/backend/tensorflow_backend.py:66: The name tf.get_default_graph is deprecated. Please use tf.compat.v1.get_default_graph instead.\n",
            "\n",
            "WARNING:tensorflow:From /usr/local/lib/python3.6/dist-packages/keras/backend/tensorflow_backend.py:541: The name tf.placeholder is deprecated. Please use tf.compat.v1.placeholder instead.\n",
            "\n",
            "WARNING:tensorflow:From /usr/local/lib/python3.6/dist-packages/keras/backend/tensorflow_backend.py:4432: The name tf.random_uniform is deprecated. Please use tf.random.uniform instead.\n",
            "\n"
          ],
          "name": "stdout"
        }
      ]
    },
    {
      "cell_type": "code",
      "metadata": {
        "id": "6kU4xTS7Z6i9",
        "colab_type": "code",
        "colab": {}
      },
      "source": [
        "encoder = Model(input_img, encoded)"
      ],
      "execution_count": 0,
      "outputs": []
    },
    {
      "cell_type": "code",
      "metadata": {
        "id": "j8YKxSPgaii8",
        "colab_type": "code",
        "colab": {
          "base_uri": "https://localhost:8080/",
          "height": 160
        },
        "outputId": "0fbe48cf-0955-45c8-eb78-8278cb5d65a7"
      },
      "source": [
        "autoencoder.compile(optimizer = 'adadelta', loss = 'binary_crossentropy')"
      ],
      "execution_count": 9,
      "outputs": [
        {
          "output_type": "stream",
          "text": [
            "WARNING:tensorflow:From /usr/local/lib/python3.6/dist-packages/keras/optimizers.py:793: The name tf.train.Optimizer is deprecated. Please use tf.compat.v1.train.Optimizer instead.\n",
            "\n",
            "WARNING:tensorflow:From /usr/local/lib/python3.6/dist-packages/keras/backend/tensorflow_backend.py:3657: The name tf.log is deprecated. Please use tf.math.log instead.\n",
            "\n",
            "WARNING:tensorflow:From /usr/local/lib/python3.6/dist-packages/tensorflow_core/python/ops/nn_impl.py:183: where (from tensorflow.python.ops.array_ops) is deprecated and will be removed in a future version.\n",
            "Instructions for updating:\n",
            "Use tf.where in 2.0, which has the same broadcast rule as np.where\n"
          ],
          "name": "stdout"
        }
      ]
    },
    {
      "cell_type": "code",
      "metadata": {
        "id": "821aN5nyavaL",
        "colab_type": "code",
        "colab": {
          "base_uri": "https://localhost:8080/",
          "height": 52
        },
        "outputId": "f7b1aa4f-3e28-4516-de29-838d77630a3e"
      },
      "source": [
        "from keras.datasets import mnist\n",
        "import numpy as np\n",
        "\n",
        "train_imgs = np.array(train_imgs).astype('float32') / 255.\n",
        "train_origins = np.array(train_origins).astype('float32') / 255.\n",
        "\n",
        "test_imgs = np.array(test_imgs).astype('float32') / 255.\n",
        "test_origins = np.array(test_origins).astype('float32') / 255.\n",
        "\n",
        "\n",
        "print (train_imgs.shape)\n",
        "print (test_imgs.shape)"
      ],
      "execution_count": 10,
      "outputs": [
        {
          "output_type": "stream",
          "text": [
            "(8000, 784)\n",
            "(2000, 784)\n"
          ],
          "name": "stdout"
        }
      ]
    },
    {
      "cell_type": "code",
      "metadata": {
        "id": "BEOYKfzvqrWG",
        "colab_type": "code",
        "colab": {
          "base_uri": "https://localhost:8080/",
          "height": 403
        },
        "outputId": "22fe8db7-48d9-482a-c7ef-16d6f6f5bd93"
      },
      "source": [
        "autoencoder.summary()"
      ],
      "execution_count": 11,
      "outputs": [
        {
          "output_type": "stream",
          "text": [
            "Model: \"model_1\"\n",
            "_________________________________________________________________\n",
            "Layer (type)                 Output Shape              Param #   \n",
            "=================================================================\n",
            "input_1 (InputLayer)         (None, 784)               0         \n",
            "_________________________________________________________________\n",
            "dense_1 (Dense)              (None, 128)               100480    \n",
            "_________________________________________________________________\n",
            "dense_2 (Dense)              (None, 64)                8256      \n",
            "_________________________________________________________________\n",
            "dense_3 (Dense)              (None, 32)                2080      \n",
            "_________________________________________________________________\n",
            "dense_4 (Dense)              (None, 64)                2112      \n",
            "_________________________________________________________________\n",
            "dense_5 (Dense)              (None, 128)               8320      \n",
            "_________________________________________________________________\n",
            "dense_6 (Dense)              (None, 784)               101136    \n",
            "=================================================================\n",
            "Total params: 222,384\n",
            "Trainable params: 222,384\n",
            "Non-trainable params: 0\n",
            "_________________________________________________________________\n"
          ],
          "name": "stdout"
        }
      ]
    },
    {
      "cell_type": "code",
      "metadata": {
        "id": "rB-AfZbCbAY7",
        "colab_type": "code",
        "colab": {
          "base_uri": "https://localhost:8080/",
          "height": 1000
        },
        "outputId": "e85a6b49-7fe5-4798-9e7d-87a2fa1e5942"
      },
      "source": [
        "autoencoder.fit(train_origins, train_origins,\n",
        "                epochs=30,\n",
        "                batch_size=256,\n",
        "                shuffle=True,\n",
        "                validation_data=(test_origins, test_origins))"
      ],
      "execution_count": 12,
      "outputs": [
        {
          "output_type": "stream",
          "text": [
            "WARNING:tensorflow:From /usr/local/lib/python3.6/dist-packages/keras/backend/tensorflow_backend.py:1033: The name tf.assign_add is deprecated. Please use tf.compat.v1.assign_add instead.\n",
            "\n",
            "WARNING:tensorflow:From /usr/local/lib/python3.6/dist-packages/keras/backend/tensorflow_backend.py:1020: The name tf.assign is deprecated. Please use tf.compat.v1.assign instead.\n",
            "\n",
            "WARNING:tensorflow:From /usr/local/lib/python3.6/dist-packages/keras/backend/tensorflow_backend.py:3005: The name tf.Session is deprecated. Please use tf.compat.v1.Session instead.\n",
            "\n",
            "Train on 8000 samples, validate on 2000 samples\n",
            "Epoch 1/30\n",
            "WARNING:tensorflow:From /usr/local/lib/python3.6/dist-packages/keras/backend/tensorflow_backend.py:190: The name tf.get_default_session is deprecated. Please use tf.compat.v1.get_default_session instead.\n",
            "\n",
            "WARNING:tensorflow:From /usr/local/lib/python3.6/dist-packages/keras/backend/tensorflow_backend.py:197: The name tf.ConfigProto is deprecated. Please use tf.compat.v1.ConfigProto instead.\n",
            "\n",
            "WARNING:tensorflow:From /usr/local/lib/python3.6/dist-packages/keras/backend/tensorflow_backend.py:207: The name tf.global_variables is deprecated. Please use tf.compat.v1.global_variables instead.\n",
            "\n",
            "WARNING:tensorflow:From /usr/local/lib/python3.6/dist-packages/keras/backend/tensorflow_backend.py:216: The name tf.is_variable_initialized is deprecated. Please use tf.compat.v1.is_variable_initialized instead.\n",
            "\n",
            "WARNING:tensorflow:From /usr/local/lib/python3.6/dist-packages/keras/backend/tensorflow_backend.py:223: The name tf.variables_initializer is deprecated. Please use tf.compat.v1.variables_initializer instead.\n",
            "\n",
            "8000/8000 [==============================] - 1s 130us/step - loss: 0.6876 - val_loss: 0.6760\n",
            "Epoch 2/30\n",
            "8000/8000 [==============================] - 1s 84us/step - loss: 0.4625 - val_loss: 0.2892\n",
            "Epoch 3/30\n",
            "8000/8000 [==============================] - 1s 82us/step - loss: 0.2741 - val_loss: 0.2827\n",
            "Epoch 4/30\n",
            "8000/8000 [==============================] - 1s 87us/step - loss: 0.2700 - val_loss: 0.2797\n",
            "Epoch 5/30\n",
            "8000/8000 [==============================] - 1s 81us/step - loss: 0.2679 - val_loss: 0.2794\n",
            "Epoch 6/30\n",
            "8000/8000 [==============================] - 1s 82us/step - loss: 0.2663 - val_loss: 0.2774\n",
            "Epoch 7/30\n",
            "8000/8000 [==============================] - 1s 82us/step - loss: 0.2650 - val_loss: 0.2776\n",
            "Epoch 8/30\n",
            "8000/8000 [==============================] - 1s 81us/step - loss: 0.2638 - val_loss: 0.2737\n",
            "Epoch 9/30\n",
            "8000/8000 [==============================] - 1s 81us/step - loss: 0.2623 - val_loss: 0.2730\n",
            "Epoch 10/30\n",
            "8000/8000 [==============================] - 1s 83us/step - loss: 0.2608 - val_loss: 0.2714\n",
            "Epoch 11/30\n",
            "8000/8000 [==============================] - 1s 84us/step - loss: 0.2593 - val_loss: 0.2709\n",
            "Epoch 12/30\n",
            "8000/8000 [==============================] - 1s 83us/step - loss: 0.2574 - val_loss: 0.2680\n",
            "Epoch 13/30\n",
            "8000/8000 [==============================] - 1s 81us/step - loss: 0.2551 - val_loss: 0.2644\n",
            "Epoch 14/30\n",
            "8000/8000 [==============================] - 1s 83us/step - loss: 0.2522 - val_loss: 0.2618\n",
            "Epoch 15/30\n",
            "8000/8000 [==============================] - 1s 84us/step - loss: 0.2487 - val_loss: 0.2576\n",
            "Epoch 16/30\n",
            "8000/8000 [==============================] - 1s 83us/step - loss: 0.2454 - val_loss: 0.2565\n",
            "Epoch 17/30\n",
            "8000/8000 [==============================] - 1s 84us/step - loss: 0.2426 - val_loss: 0.2551\n",
            "Epoch 18/30\n",
            "8000/8000 [==============================] - 1s 83us/step - loss: 0.2401 - val_loss: 0.2508\n",
            "Epoch 19/30\n",
            "8000/8000 [==============================] - 1s 85us/step - loss: 0.2372 - val_loss: 0.2475\n",
            "Epoch 20/30\n",
            "8000/8000 [==============================] - 1s 90us/step - loss: 0.2341 - val_loss: 0.2456\n",
            "Epoch 21/30\n",
            "8000/8000 [==============================] - 1s 82us/step - loss: 0.2310 - val_loss: 0.2425\n",
            "Epoch 22/30\n",
            "8000/8000 [==============================] - 1s 85us/step - loss: 0.2288 - val_loss: 0.2423\n",
            "Epoch 23/30\n",
            "8000/8000 [==============================] - 1s 82us/step - loss: 0.2274 - val_loss: 0.2399\n",
            "Epoch 24/30\n",
            "8000/8000 [==============================] - 1s 83us/step - loss: 0.2262 - val_loss: 0.2382\n",
            "Epoch 25/30\n",
            "8000/8000 [==============================] - 1s 84us/step - loss: 0.2241 - val_loss: 0.2375\n",
            "Epoch 26/30\n",
            "8000/8000 [==============================] - 1s 85us/step - loss: 0.2228 - val_loss: 0.2372\n",
            "Epoch 27/30\n",
            "8000/8000 [==============================] - 1s 87us/step - loss: 0.2221 - val_loss: 0.2350\n",
            "Epoch 28/30\n",
            "8000/8000 [==============================] - 1s 82us/step - loss: 0.2199 - val_loss: 0.2318\n",
            "Epoch 29/30\n",
            "8000/8000 [==============================] - 1s 81us/step - loss: 0.2170 - val_loss: 0.2266\n",
            "Epoch 30/30\n",
            "8000/8000 [==============================] - 1s 83us/step - loss: 0.2145 - val_loss: 0.2259\n"
          ],
          "name": "stdout"
        },
        {
          "output_type": "execute_result",
          "data": {
            "text/plain": [
              "<keras.callbacks.History at 0x7f9e352bc668>"
            ]
          },
          "metadata": {
            "tags": []
          },
          "execution_count": 12
        }
      ]
    },
    {
      "cell_type": "code",
      "metadata": {
        "id": "VJ1kxPbAcnxo",
        "colab_type": "code",
        "colab": {}
      },
      "source": [
        "decoded_imgs = autoencoder.predict(test_origins)\n"
      ],
      "execution_count": 0,
      "outputs": []
    },
    {
      "cell_type": "code",
      "metadata": {
        "id": "0qWQi3ANczkg",
        "colab_type": "code",
        "colab": {
          "base_uri": "https://localhost:8080/",
          "height": 437
        },
        "outputId": "676a8b33-833f-495a-dac9-4435b45e697d"
      },
      "source": [
        "import matplotlib.pyplot as plt\n",
        "\n",
        "images = decoded_imgs.reshape(-1,28,28)\n",
        "\n",
        "for i in range(10):\n",
        "  plt.subplot(2,5,i+1)\n",
        "  plt.imshow(images[i])\n",
        "plt.show()\n",
        "\n",
        "for i in range(10):\n",
        "  plt.subplot(2,5,i+1)\n",
        "  plt.imshow(test_origins[i].reshape(28,28))\n",
        "plt.show()"
      ],
      "execution_count": 14,
      "outputs": [
        {
          "output_type": "display_data",
          "data": {
            "image/png": "[encoded data removed]",
            "text/plain": [
              "<Figure size 432x288 with 10 Axes>"
            ]
          },
          "metadata": {
            "tags": []
          }
        },
        {
          "output_type": "display_data",
          "data": {
            "image/png": "[encoded data removed]",
            "text/plain": [
              "<Figure size 432x288 with 10 Axes>"
            ]
          },
          "metadata": {
            "tags": []
          }
        }
      ]
    }
  ]
}